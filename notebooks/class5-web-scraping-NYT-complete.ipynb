{
 "cells": [
  {
   "cell_type": "markdown",
   "metadata": {},
   "source": [
    "# Web Scraping on the Actual Web\n",
    "\n",
    "The [class 4 notebook](class4-web-scraping.ipynb) explained all of the steps involved in web scraping. But what about when it comes time to try it on the actual web? \n",
    "\n",
    "We're going to use the [*The New York Times* article](https://www.nytimes.com/interactive/2019/08/19/us/politics/presidential-campaign-songs-playlists.html) about candidate playlists as our real-world example. Our task is to scrape it for a list of all the songs that the candidates have played."
   ]
  },
  {
   "cell_type": "markdown",
   "metadata": {},
   "source": [
    "**Does anyone rememeber the first step?**\n",
    "\n",
    "Hint: It involves the Requests library"
   ]
  },
  {
   "cell_type": "code",
   "execution_count": null,
   "metadata": {},
   "outputs": [],
   "source": [
    "# request the contents of the page\n",
    "import requests \n",
    "resp = requests.get(\"https://www.nytimes.com/interactive/2019/08/19/us/politics/presidential-campaign-songs-playlists.html\") "
   ]
  },
  {
   "cell_type": "code",
   "execution_count": null,
   "metadata": {},
   "outputs": [],
   "source": []
  },
  {
   "cell_type": "code",
   "execution_count": null,
   "metadata": {},
   "outputs": [],
   "source": []
  },
  {
   "cell_type": "code",
   "execution_count": null,
   "metadata": {},
   "outputs": [],
   "source": []
  },
  {
   "cell_type": "markdown",
   "metadata": {},
   "source": [
    "Once we've gotten the contents of the page, it's a good idea to take a look. \n",
    "\n",
    "**How can you print the response from the server as text?** "
   ]
  },
  {
   "cell_type": "code",
   "execution_count": null,
   "metadata": {},
   "outputs": [],
   "source": [
    "# now, see what it looks like\n",
    "html_str = resp.text\n",
    "\n",
    "html_str"
   ]
  },
  {
   "cell_type": "code",
   "execution_count": null,
   "metadata": {},
   "outputs": [],
   "source": []
  },
  {
   "cell_type": "code",
   "execution_count": null,
   "metadata": {},
   "outputs": [],
   "source": []
  },
  {
   "cell_type": "code",
   "execution_count": null,
   "metadata": {},
   "outputs": [],
   "source": []
  },
  {
   "cell_type": "markdown",
   "metadata": {},
   "source": [
    "Whoa! That's a lot more complicated than kittens. Let's go back to Chrome and take a look using View Source.\n",
    "\n",
    "To get a lay of the (HTML) land, try doing a simple command-f for \"Aretha\" (as in Franklin; the first artist mentioned at the top of the site). \n",
    "\n",
    "**Questions for the class**:\n",
    "* What is the tag enclosing the first mention of Aretha Franklin? \n",
    "* What is its previous sibling? \n",
    "* What is the parent to that tag?\n",
    "* What is the parent to *that* tag?\n",
    "* What is the parent to *that* tag?\n",
    "* What is the parent to *that* tag?"
   ]
  },
  {
   "cell_type": "code",
   "execution_count": null,
   "metadata": {},
   "outputs": [],
   "source": []
  },
  {
   "cell_type": "code",
   "execution_count": null,
   "metadata": {},
   "outputs": [],
   "source": []
  },
  {
   "cell_type": "code",
   "execution_count": null,
   "metadata": {},
   "outputs": [],
   "source": []
  },
  {
   "cell_type": "markdown",
   "metadata": {},
   "source": [
    "Now let's go take a look using Chrome's \"Inspect Elements\" feature. As I mentioned last class, it's really helpful for locating specific elements in complicated HTML. \n",
    "\n",
    "Using \"Inspect Elements,\" can we confirm our answers to the questions above? If so, we're ready to move on to Beautiful Soup. \n",
    "\n",
    "Does anyone remember (or want to take a look at the Class 4 notebook) and tell me: \n",
    "\n",
    "**How do you create a Beautiful Soup object from the html?**"
   ]
  },
  {
   "cell_type": "code",
   "execution_count": null,
   "metadata": {},
   "outputs": [],
   "source": [
    "from bs4 import BeautifulSoup\n",
    "\n",
    "document = BeautifulSoup(html_str, \"html.parser\")"
   ]
  },
  {
   "cell_type": "code",
   "execution_count": null,
   "metadata": {},
   "outputs": [],
   "source": []
  },
  {
   "cell_type": "code",
   "execution_count": null,
   "metadata": {},
   "outputs": [],
   "source": []
  },
  {
   "cell_type": "code",
   "execution_count": null,
   "metadata": {},
   "outputs": [],
   "source": []
  },
  {
   "cell_type": "markdown",
   "metadata": {},
   "source": [
    "Now that we've got the Beautiful Soup object, we need to find all of the `song-artist` tags and all of the `song-title` tags. \n",
    "\n",
    "Let's start with the `song-title` tags. \n",
    "\n",
    "This does not work:"
   ]
  },
  {
   "cell_type": "code",
   "execution_count": null,
   "metadata": {},
   "outputs": [],
   "source": [
    "title_tags = document.find_all('song-title')\n",
    "\n",
    "title_tags"
   ]
  },
  {
   "cell_type": "markdown",
   "metadata": {},
   "source": [
    "**Why does that not work?**"
   ]
  },
  {
   "cell_type": "code",
   "execution_count": null,
   "metadata": {},
   "outputs": [],
   "source": []
  },
  {
   "cell_type": "code",
   "execution_count": null,
   "metadata": {},
   "outputs": [],
   "source": []
  },
  {
   "cell_type": "code",
   "execution_count": null,
   "metadata": {},
   "outputs": [],
   "source": [
    "    "
   ]
  },
  {
   "cell_type": "markdown",
   "metadata": {},
   "source": [
    "Remember that the two tags that have Aretha Franklin's song \"Respect\" look like this:\n",
    "\n",
    "`<span class=\"song-title\">Respect</span>\n",
    "<span class=\"song-artist\">Aretha Franklin</span>`\n",
    "\n",
    "So instead:\n",
    "\n",
    "* **What tag do we need to look for?**\n",
    "* **What attribute(s) do we need to look for?**\n",
    "* **What attribute *values* do we need to look for?**"
   ]
  },
  {
   "cell_type": "code",
   "execution_count": null,
   "metadata": {},
   "outputs": [],
   "source": []
  },
  {
   "cell_type": "code",
   "execution_count": null,
   "metadata": {},
   "outputs": [],
   "source": []
  },
  {
   "cell_type": "code",
   "execution_count": null,
   "metadata": {},
   "outputs": [],
   "source": []
  },
  {
   "cell_type": "markdown",
   "metadata": {},
   "source": [
    "**How might we modify this code (below) so that we find what we are looking for?**\n",
    "\n",
    "`title_tags = document.find_all('song-title')`"
   ]
  },
  {
   "cell_type": "code",
   "execution_count": null,
   "metadata": {},
   "outputs": [],
   "source": [
    "title_tags = document.find_all(\"span\", attrs={\"class\": \"song-title\"})\n",
    "\n",
    "# let's see what it looks like \n",
    "title_tags\n"
   ]
  },
  {
   "cell_type": "code",
   "execution_count": null,
   "metadata": {},
   "outputs": [],
   "source": []
  },
  {
   "cell_type": "code",
   "execution_count": null,
   "metadata": {},
   "outputs": [],
   "source": []
  },
  {
   "cell_type": "code",
   "execution_count": null,
   "metadata": {},
   "outputs": [],
   "source": []
  },
  {
   "cell_type": "markdown",
   "metadata": {},
   "source": [
    "For ease of (future) reference, let's format the song titles nicely into a list. "
   ]
  },
  {
   "cell_type": "code",
   "execution_count": null,
   "metadata": {},
   "outputs": [],
   "source": [
    "# make a list\n",
    "song_titles = [] # this is how you create a new (empty) list\n",
    "\n",
    "for title in title_tags:\n",
    "    song_titles.append(title.string) # the append method is how you add elements to the end of the list\n",
    "    \n",
    "song_titles\n"
   ]
  },
  {
   "cell_type": "code",
   "execution_count": null,
   "metadata": {},
   "outputs": [],
   "source": []
  },
  {
   "cell_type": "code",
   "execution_count": null,
   "metadata": {},
   "outputs": [],
   "source": []
  },
  {
   "cell_type": "code",
   "execution_count": null,
   "metadata": {},
   "outputs": [],
   "source": []
  },
  {
   "cell_type": "markdown",
   "metadata": {},
   "source": [
    "Now, let's turn to the artist_name.\n",
    "\n",
    "Since the ultimate goal is to have the song title and artist name associated with each other, we can build on the work we've already done.\n",
    "\n",
    "Take another look at this HTML:\n",
    "\n",
    "```\n",
    "<div class=\"song order-1\">\n",
    "    <span class=\"song-title\">Respect</span>`\n",
    "    <span class=\"song-artist\">Aretha Franklin</span>`\n",
    "</div>```\n",
    "\n",
    "**What is the relationship between the tag with the song title and the tag with the song artist?**"
   ]
  },
  {
   "cell_type": "code",
   "execution_count": null,
   "metadata": {},
   "outputs": [],
   "source": [
    "# sibling!!!\n",
    "\n"
   ]
  },
  {
   "cell_type": "code",
   "execution_count": null,
   "metadata": {},
   "outputs": [],
   "source": []
  },
  {
   "cell_type": "code",
   "execution_count": null,
   "metadata": {},
   "outputs": [],
   "source": []
  },
  {
   "cell_type": "markdown",
   "metadata": {},
   "source": [
    "**How can we use our list of title_tags, which we've already created, to find each song's artist?**\n",
    "\n",
    "Note that since we're looking to associate each song's title with the song's artist, this is a perfect use case for a dictionary. So let's start there:"
   ]
  },
  {
   "cell_type": "code",
   "execution_count": null,
   "metadata": {},
   "outputs": [],
   "source": [
    "# make a dict\n",
    "song_dict = {}  # goal is format {song title, artist}\n",
    "\n",
    "for title in title_tags:\n",
    "    # same thing as above; first get the string assocaited w/ the tag\n",
    "    song_title = title.string\n",
    "    # while we're looking at that title, look for the next sibling\n",
    "    artist_name = title.find_next_sibling('span')\n",
    "    # add it to the dict (and be sure to add only the string)\n",
    "    song_dict[song_title] = artist_name.string\n",
    "    \n",
    "song_dict"
   ]
  },
  {
   "cell_type": "markdown",
   "metadata": {},
   "source": [
    "**Amazing! We did it!**\n",
    "\n",
    "One bonus question: Why didn't I ask you to make the dictionary in the format {artist: title}?"
   ]
  },
  {
   "cell_type": "markdown",
   "metadata": {},
   "source": [
    "Some artists have multiple songs, and dictionaries can't have multiple keys that are the same. "
   ]
  },
  {
   "cell_type": "code",
   "execution_count": null,
   "metadata": {},
   "outputs": [],
   "source": []
  },
  {
   "cell_type": "code",
   "execution_count": null,
   "metadata": {},
   "outputs": [],
   "source": []
  },
  {
   "cell_type": "markdown",
   "metadata": {},
   "source": [
    "**Now, APIs!**"
   ]
  },
  {
   "cell_type": "code",
   "execution_count": null,
   "metadata": {},
   "outputs": [],
   "source": []
  }
 ],
 "metadata": {
  "kernelspec": {
   "display_name": "Python 3",
   "language": "python",
   "name": "python3"
  },
  "language_info": {
   "codemirror_mode": {
    "name": "ipython",
    "version": 3
   },
   "file_extension": ".py",
   "mimetype": "text/x-python",
   "name": "python",
   "nbconvert_exporter": "python",
   "pygments_lexer": "ipython3",
   "version": "3.7.2"
  }
 },
 "nbformat": 4,
 "nbformat_minor": 1
}
