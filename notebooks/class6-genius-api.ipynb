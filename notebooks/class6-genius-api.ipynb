{
 "cells": [
  {
   "cell_type": "code",
   "execution_count": 20,
   "metadata": {},
   "outputs": [],
   "source": [
    "import requests\n",
    "\n",
    "# a standard request for a song title \n",
    "base_url = \"http://api.genius.com\"\n",
    "#Key line below here when, this is how to authorize your request when using the API\n",
    "headers = {'Authorization': 'Bearer TOKEN'} ## REPLACE TOKEN W/ ACTUAL TOKEN\n",
    "search_url = base_url + \"/search\"\n",
    "song_title = \"Respect\"\n",
    "params = {'q': song_title}\n",
    "response = requests.get(search_url, params=params, headers=headers)"
   ]
  },
  {
   "cell_type": "code",
   "execution_count": 24,
   "metadata": {},
   "outputs": [],
   "source": [
    "# now let's try to refine our results -- let's first take a look a the json\n",
    "\n",
    "# first, let's turn the response into a json object, which it is\n",
    "json_resp = response.json()"
   ]
  },
  {
   "cell_type": "code",
   "execution_count": 26,
   "metadata": {},
   "outputs": [
    {
     "data": {
      "text/plain": [
       "dict_keys(['meta', 'response'])"
      ]
     },
     "execution_count": 26,
     "metadata": {},
     "output_type": "execute_result"
    }
   ],
   "source": [
    "json_resp.keys()"
   ]
  },
  {
   "cell_type": "code",
   "execution_count": 28,
   "metadata": {},
   "outputs": [
    {
     "data": {
      "text/plain": [
       "['annotation_count',\n",
       " 'api_path',\n",
       " 'full_title',\n",
       " 'header_image_thumbnail_url',\n",
       " 'header_image_url',\n",
       " 'id',\n",
       " 'lyrics_owner_id',\n",
       " 'lyrics_state',\n",
       " 'path',\n",
       " 'pyongs_count',\n",
       " 'song_art_image_thumbnail_url',\n",
       " 'song_art_image_url',\n",
       " 'stats',\n",
       " 'title',\n",
       " 'title_with_featured',\n",
       " 'url',\n",
       " 'primary_artist']"
      ]
     },
     "execution_count": 28,
     "metadata": {},
     "output_type": "execute_result"
    }
   ],
   "source": [
    "# The 'hits` key stores info on each song in the search result.\n",
    "# From here it's easy to grab the song title, album, etc.\n",
    "\n",
    "# List each key contained within a single search hit\n",
    "[key for key in json_resp['response']['hits'][0]['result']]"
   ]
  },
  {
   "cell_type": "code",
   "execution_count": 31,
   "metadata": {},
   "outputs": [
    {
     "data": {
      "text/plain": [
       "['N. J Respect R',\n",
       " 'Respect My Cryppin’',\n",
       " 'Respect',\n",
       " 'Respect the Game',\n",
       " 'No Respect Freestyle',\n",
       " 'Respect',\n",
       " 'All Due Respect',\n",
       " 'Money, Power, Respect',\n",
       " 'Respect',\n",
       " 'The Cypher Respect 2']"
      ]
     },
     "execution_count": 31,
     "metadata": {},
     "output_type": "execute_result"
    }
   ],
   "source": [
    "# View the title for each search hit\n",
    "[song['result']['title'] for song in json_resp['response']['hits']]"
   ]
  },
  {
   "cell_type": "code",
   "execution_count": 35,
   "metadata": {},
   "outputs": [
    {
     "data": {
      "text/plain": [
       "['https://genius.com/Damso-n-j-respect-r-lyrics',\n",
       " 'https://genius.com/Blueface-respect-my-cryppin-lyrics',\n",
       " 'https://genius.com/The-notorious-big-respect-lyrics',\n",
       " 'https://genius.com/Meek-mill-respect-the-game-lyrics',\n",
       " 'https://genius.com/Lil-peep-no-respect-freestyle-lyrics',\n",
       " 'https://genius.com/Aretha-franklin-respect-lyrics',\n",
       " 'https://genius.com/Run-the-jewels-all-due-respect-lyrics',\n",
       " 'https://genius.com/Travis-scott-money-power-respect-lyrics',\n",
       " 'https://genius.com/Wiz-khalifa-respect-lyrics',\n",
       " 'https://genius.com/Atentado-napalm-the-cypher-respect-2-lyrics']"
      ]
     },
     "execution_count": 35,
     "metadata": {},
     "output_type": "execute_result"
    }
   ],
   "source": []
  },
  {
   "cell_type": "code",
   "execution_count": 32,
   "metadata": {},
   "outputs": [
    {
     "data": {
      "text/plain": [
       "[{'api_path': '/artists/45855',\n",
       "  'header_image_url': 'https://images.genius.com/3ff0fa76244a96becfc4c4972ecd0a61.862x300x1.png',\n",
       "  'id': 45855,\n",
       "  'image_url': 'https://images.genius.com/44c9393bbc627a682bc9e816d5e144af.477x477x1.png',\n",
       "  'is_meme_verified': False,\n",
       "  'is_verified': True,\n",
       "  'name': 'Damso',\n",
       "  'url': 'https://genius.com/artists/Damso',\n",
       "  'iq': 15236},\n",
       " {'api_path': '/artists/1195330',\n",
       "  'header_image_url': 'https://images.genius.com/96666bf66dc7254e2c353eb3930222c4.800x800x1.jpg',\n",
       "  'id': 1195330,\n",
       "  'image_url': 'https://images.genius.com/96666bf66dc7254e2c353eb3930222c4.800x800x1.jpg',\n",
       "  'is_meme_verified': False,\n",
       "  'is_verified': True,\n",
       "  'name': 'Blueface',\n",
       "  'url': 'https://genius.com/artists/Blueface',\n",
       "  'iq': 2338},\n",
       " {'api_path': '/artists/22',\n",
       "  'header_image_url': 'https://images.genius.com/79d9177906cee900e02598c873c9d5cf.550x426x1.jpg',\n",
       "  'id': 22,\n",
       "  'image_url': 'https://images.genius.com/accf2df97375292b16f399ff6ec71e6e.500x500x1.png',\n",
       "  'is_meme_verified': False,\n",
       "  'is_verified': False,\n",
       "  'name': 'The Notorious B.I.G.',\n",
       "  'url': 'https://genius.com/artists/The-notorious-big'},\n",
       " {'api_path': '/artists/1319',\n",
       "  'header_image_url': 'https://images.genius.com/14d3348828dd27d038469fb101ad8820.1000x501x1.png',\n",
       "  'id': 1319,\n",
       "  'image_url': 'https://images.genius.com/6929169de7116d41676151bdea5cc773.1000x1000x1.jpg',\n",
       "  'is_meme_verified': True,\n",
       "  'is_verified': True,\n",
       "  'name': 'Meek Mill',\n",
       "  'url': 'https://genius.com/artists/Meek-mill',\n",
       "  'iq': 2599},\n",
       " {'api_path': '/artists/569922',\n",
       "  'header_image_url': 'https://images.genius.com/7112ed6b0b4f0d3b7bb90fcd2b15d383.1000x563x1.jpg',\n",
       "  'id': 569922,\n",
       "  'image_url': 'https://images.genius.com/e9aa7bb6533bc1d3aac6f198456f3653.960x960x1.jpg',\n",
       "  'is_meme_verified': False,\n",
       "  'is_verified': True,\n",
       "  'name': 'Lil Peep',\n",
       "  'url': 'https://genius.com/artists/Lil-peep',\n",
       "  'iq': 1579},\n",
       " {'api_path': '/artists/1108',\n",
       "  'header_image_url': 'https://images.genius.com/93b32f6e4353e7ea3b2f6b4c93f06579.1000x226x1.jpg',\n",
       "  'id': 1108,\n",
       "  'image_url': 'https://images.genius.com/67byn02d5gwo513bs0b25pogx.474x559x1.jpg',\n",
       "  'is_meme_verified': False,\n",
       "  'is_verified': False,\n",
       "  'name': 'Aretha Franklin',\n",
       "  'url': 'https://genius.com/artists/Aretha-franklin'},\n",
       " {'api_path': '/artists/48147',\n",
       "  'header_image_url': 'https://images.genius.com/500ec6a92b72c8679fa632ef10bcaf30.610x250x1.jpg',\n",
       "  'id': 48147,\n",
       "  'image_url': 'https://images.genius.com/b8813cdda31f4ffae924413bc037239e.1000x1000x1.jpg',\n",
       "  'is_meme_verified': False,\n",
       "  'is_verified': True,\n",
       "  'name': 'Run The Jewels',\n",
       "  'url': 'https://genius.com/artists/Run-the-jewels',\n",
       "  'iq': 100},\n",
       " {'api_path': '/artists/20185',\n",
       "  'header_image_url': 'https://images.genius.com/ec678d33204fe2d2b74a82757a45d547.1000x655x1.jpg',\n",
       "  'id': 20185,\n",
       "  'image_url': 'https://images.genius.com/62d241389823ea14f6a4612f37e29db8.1000x1000x1.jpg',\n",
       "  'is_meme_verified': True,\n",
       "  'is_verified': True,\n",
       "  'name': 'Travis Scott',\n",
       "  'url': 'https://genius.com/artists/Travis-scott',\n",
       "  'iq': 175},\n",
       " {'api_path': '/artists/310',\n",
       "  'header_image_url': 'https://images.genius.com/d00bc03bc5bdd1bc352f6f7731d89db6.500x281x8.gif',\n",
       "  'id': 310,\n",
       "  'image_url': 'https://images.genius.com/2ba15f623d81eda09cdc07f50dde02ad.400x400x1.jpg',\n",
       "  'is_meme_verified': True,\n",
       "  'is_verified': True,\n",
       "  'name': 'Wiz Khalifa',\n",
       "  'url': 'https://genius.com/artists/Wiz-khalifa',\n",
       "  'iq': 8363},\n",
       " {'api_path': '/artists/134634',\n",
       "  'header_image_url': 'https://images.genius.com/308678eab8b5990b09e7567608bac7dc.1000x733x1.jpg',\n",
       "  'id': 134634,\n",
       "  'image_url': 'https://images.genius.com/573f7f875c4f0ca7e39097d9521e9810.1000x1000x1.png',\n",
       "  'is_meme_verified': False,\n",
       "  'is_verified': True,\n",
       "  'name': 'Atentado Napalm',\n",
       "  'url': 'https://genius.com/artists/Atentado-napalm',\n",
       "  'iq': 130}]"
      ]
     },
     "execution_count": 32,
     "metadata": {},
     "output_type": "execute_result"
    }
   ],
   "source": [
    "# View the primary_artist for each search hit\n",
    "[song['result']['primary_artist'] for song in json_resp['response']['hits']]"
   ]
  },
  {
   "cell_type": "code",
   "execution_count": 34,
   "metadata": {},
   "outputs": [
    {
     "data": {
      "text/plain": [
       "['Damso',\n",
       " 'Blueface',\n",
       " 'The Notorious B.I.G.',\n",
       " 'Meek Mill',\n",
       " 'Lil Peep',\n",
       " 'Aretha Franklin',\n",
       " 'Run The Jewels',\n",
       " 'Travis Scott',\n",
       " 'Wiz Khalifa',\n",
       " 'Atentado Napalm']"
      ]
     },
     "execution_count": 34,
     "metadata": {},
     "output_type": "execute_result"
    }
   ],
   "source": [
    "# this is complicated; we'll need to go one level down to find the artist name\n",
    "\n",
    "# URL to artist image\n",
    "# print(json_obj['response']['hits'][0]['result']['primary_artist']['name'])\n",
    "\n",
    "\n",
    "# View the primary_artist for each search hit\n",
    "[song['result']['primary_artist']['name'] for song in json_resp['response']['hits']]\n",
    "\n"
   ]
  },
  {
   "cell_type": "code",
   "execution_count": null,
   "metadata": {},
   "outputs": [],
   "source": [
    "# rewrite code above to save hint ## of aretha match;\n",
    "\n",
    "# then go back up and view the url for that hit\n",
    "[song['result']['url'] for song in json_resp['response']['hits']]\n",
    "\n"
   ]
  },
  {
   "cell_type": "code",
   "execution_count": null,
   "metadata": {},
   "outputs": [],
   "source": [
    "# once page is loaded, look for <div class=\"lyrics\">\n",
    "\n",
    "# strip out <a> tags "
   ]
  }
 ],
 "metadata": {
  "kernelspec": {
   "display_name": "Python 3",
   "language": "python",
   "name": "python3"
  },
  "language_info": {
   "codemirror_mode": {
    "name": "ipython",
    "version": 3
   },
   "file_extension": ".py",
   "mimetype": "text/x-python",
   "name": "python",
   "nbconvert_exporter": "python",
   "pygments_lexer": "ipython3",
   "version": "3.7.0"
  }
 },
 "nbformat": 4,
 "nbformat_minor": 2
}
