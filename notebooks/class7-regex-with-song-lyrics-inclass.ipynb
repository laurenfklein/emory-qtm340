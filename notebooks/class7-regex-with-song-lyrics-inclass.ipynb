{
 "cells": [
  {
   "cell_type": "markdown",
   "metadata": {},
   "source": [
    "## Cleaning Your Song Lyrics with Regex (and more Beautiful Soup)\n",
    "\n",
    "As part of the homework due today, you did something like this:"
   ]
  },
  {
   "cell_type": "code",
   "execution_count": null,
   "metadata": {},
   "outputs": [],
   "source": [
    "# get the text of some song lyrics\n",
    "import requests \n",
    "\n",
    "resp = requests.get(\"https://genius.com/Aretha-franklin-respect-lyrics\") \n",
    "html_str = resp.text"
   ]
  },
  {
   "cell_type": "code",
   "execution_count": null,
   "metadata": {},
   "outputs": [],
   "source": [
    "# use BeautifulSoup to find the lyrics tag on the page\n",
    "\n",
    "from bs4 import BeautifulSoup\n",
    "document = BeautifulSoup(html_str, \"html.parser\")\n",
    "lyrics_div = document.find('div', attrs={'class': 'lyrics'})"
   ]
  },
  {
   "cell_type": "markdown",
   "metadata": {},
   "source": [
    "And you ended up with something that looked like this:"
   ]
  },
  {
   "cell_type": "code",
   "execution_count": null,
   "metadata": {},
   "outputs": [],
   "source": [
    "lyrics_div"
   ]
  },
  {
   "cell_type": "markdown",
   "metadata": {},
   "source": [
    "There is one more helpful Beautiful Soup function that we can use to extract the contents from the html: **the `get_text` function.**\n",
    "\n",
    "This is a smarter version of the `.text` method we've been using to date.\n",
    "\n",
    "`get_text` returns all the text in a document or-- crucially for us-- beneath the specified tag-- as a single string.\n",
    "\n",
    "Behold!"
   ]
  },
  {
   "cell_type": "code",
   "execution_count": null,
   "metadata": {},
   "outputs": [],
   "source": [
    "lyrics = lyrics_div.get_text()\n",
    "\n",
    "lyrics"
   ]
  },
  {
   "cell_type": "markdown",
   "metadata": {},
   "source": [
    "This is pretty good. But It's still not perfect.\n",
    "\n",
    "What are some problems with this text?"
   ]
  },
  {
   "cell_type": "code",
   "execution_count": null,
   "metadata": {},
   "outputs": [],
   "source": []
  },
  {
   "cell_type": "code",
   "execution_count": null,
   "metadata": {},
   "outputs": [],
   "source": []
  },
  {
   "cell_type": "code",
   "execution_count": null,
   "metadata": {},
   "outputs": [],
   "source": []
  },
  {
   "cell_type": "markdown",
   "metadata": {},
   "source": [
    "This is where regex comes in very handy.\n",
    "\n",
    "Let's start by removing those extra newlines at the start of the string.\n",
    "\n",
    "**Which of the functions that we've discussed in class today should we use to remove them?**"
   ]
  },
  {
   "cell_type": "code",
   "execution_count": null,
   "metadata": {},
   "outputs": [],
   "source": []
  },
  {
   "cell_type": "code",
   "execution_count": null,
   "metadata": {},
   "outputs": [],
   "source": []
  },
  {
   "cell_type": "code",
   "execution_count": null,
   "metadata": {},
   "outputs": [],
   "source": []
  },
  {
   "cell_type": "markdown",
   "metadata": {},
   "source": [
    "Remember that re.sub takes the format:\n",
    "\n",
    "`newstring = re.sub(pattern, replacement, original_string`\n",
    "\n",
    "In our case, we can do something like:\n",
    "\n",
    "`cleaner_lyrics = re.sub(pattern, \"\", lyrics)`\n",
    "\n",
    "**But what goes in the pattern?**\n",
    "\n",
    "Hints:\n",
    "* a newline (`\\n`) is the same in regex \n",
    "* `^` before the square brackets matches the start of a string\n",
    "* `{}` with a number inside indicates the number of chars to match"
   ]
  },
  {
   "cell_type": "code",
   "execution_count": null,
   "metadata": {},
   "outputs": [],
   "source": [
    "import re\n",
    "\n",
    "cleaner_lyrics = re.sub(\"/* REPLACE THIS WITH REGEX PATTERN */\", \"\", lyrics) \n",
    "\n",
    "cleaner_lyrics"
   ]
  },
  {
   "cell_type": "code",
   "execution_count": null,
   "metadata": {},
   "outputs": [],
   "source": []
  },
  {
   "cell_type": "code",
   "execution_count": null,
   "metadata": {},
   "outputs": [],
   "source": []
  },
  {
   "cell_type": "code",
   "execution_count": null,
   "metadata": {},
   "outputs": [],
   "source": []
  },
  {
   "cell_type": "markdown",
   "metadata": {},
   "source": [
    "What about the other issue with these lyrics: all of the info in brackets. \n",
    "\n",
    "**Exericse: How can we use regex to remove them?**\n",
    "\n",
    "Additional hints:\n",
    "* In order to look for a `[`, you need to escape it like this `\\[`\n",
    "* A `.` represents any character\n",
    "* A `*` matches zero or more instances"
   ]
  },
  {
   "cell_type": "code",
   "execution_count": null,
   "metadata": {},
   "outputs": [],
   "source": [
    "cleanest_lyrics = re.sub(/* REPLACE THIS W/ PATTERN */, \"\", cleaner_lyrics)\n",
    "\n",
    "cleanest_lyrics"
   ]
  },
  {
   "cell_type": "code",
   "execution_count": null,
   "metadata": {},
   "outputs": [],
   "source": []
  },
  {
   "cell_type": "code",
   "execution_count": null,
   "metadata": {},
   "outputs": [],
   "source": []
  },
  {
   "cell_type": "code",
   "execution_count": null,
   "metadata": {},
   "outputs": [],
   "source": []
  },
  {
   "cell_type": "markdown",
   "metadata": {},
   "source": [
    "Oops. There's just one extra newline at the start of the file. \n",
    "\n",
    "**How can we remove this?**"
   ]
  },
  {
   "cell_type": "code",
   "execution_count": null,
   "metadata": {},
   "outputs": [],
   "source": [
    "more_cleanest_lyrics = re.sub(\"/* REPLACE THIS */\",\"\", cleanest_lyrics)"
   ]
  },
  {
   "cell_type": "code",
   "execution_count": null,
   "metadata": {},
   "outputs": [],
   "source": []
  },
  {
   "cell_type": "code",
   "execution_count": null,
   "metadata": {},
   "outputs": [],
   "source": []
  },
  {
   "cell_type": "code",
   "execution_count": null,
   "metadata": {},
   "outputs": [],
   "source": []
  },
  {
   "cell_type": "markdown",
   "metadata": {},
   "source": [
    "And with that, we're done! \n",
    "\n",
    "Now, one last thing: we need to save our clean lyrics to a file:"
   ]
  },
  {
   "cell_type": "code",
   "execution_count": null,
   "metadata": {},
   "outputs": [],
   "source": [
    "# this is how you save to a file in python\n",
    "\n",
    "with open(\"lyrics.txt\", \"w\") as file:\n",
    "    file.writelines(more_cleanest_lyrics)\n"
   ]
  },
  {
   "cell_type": "markdown",
   "metadata": {},
   "source": [
    "We did it!\n",
    "\n",
    "### If time, pseudocode how we'd put all the pieces together to create our lyrics corpus"
   ]
  },
  {
   "cell_type": "code",
   "execution_count": null,
   "metadata": {},
   "outputs": [],
   "source": []
  }
 ],
 "metadata": {
  "kernelspec": {
   "display_name": "Python 3",
   "language": "python",
   "name": "python3"
  },
  "language_info": {
   "codemirror_mode": {
    "name": "ipython",
    "version": 3
   },
   "file_extension": ".py",
   "mimetype": "text/x-python",
   "name": "python",
   "nbconvert_exporter": "python",
   "pygments_lexer": "ipython3",
   "version": "3.7.0"
  }
 },
 "nbformat": 4,
 "nbformat_minor": 2
}
