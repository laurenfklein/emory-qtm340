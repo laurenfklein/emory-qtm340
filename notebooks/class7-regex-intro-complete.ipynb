{
 "cells": [
  {
   "cell_type": "markdown",
   "metadata": {},
   "source": [
    "## Introduction to Regular Expressions\n",
    "\n",
    "*This notebook is based off tutorials by [Doug Knox](https://programminghistorian.org/en/lessons/understanding-regular-expressions), [Laura Turner O'Hara](https://programminghistorian.org/en/lessons/cleaning-ocrd-text-with-regular-expressions#regular-expressions-regex), [William J. Turkel and Adam Crymble](https://programminghistorian.org/en/lessons/normalizing-data#python-regular-expressions), and [Sejal Jaiswal](https://www.datacamp.com/community/tutorials/python-regular-expression-tutorial).* \n",
    "\n",
    "What are regular expressions?\n",
    "\n",
    "Doug Knox puts it this way: \"Regular expressions (or “regexes” for short) are a way of defining patterns that can apply to sequences of things. They have the funny name that they do because of their origins in computer science and formal language theory, and they are incorporated into most general programming languages.\""
   ]
  },
  {
   "cell_type": "markdown",
   "metadata": {},
   "source": [
    "In other words: regex offers a (relatively) standard syntax for finding and/or replacing patterns in text. \n",
    "\n",
    "Depending on your experience, you may have already encountered regex in R via functions like `grep` and packages like `stringr`. \n",
    "\n",
    "If not (or even if so), it may be helpful to have some the basic regex syntax explained again. "
   ]
  },
  {
   "cell_type": "markdown",
   "metadata": {},
   "source": [
    "### Basic regex syntax\n",
    "\n",
    "Say you have this sample text:\n",
    "\n",
    "`Let's eat a delicious FRUIT $alad. N0M n0m!`\n",
    "\n",
    "You could isolate all the capital letters (L, F, R, U, I, T, N, M) with this regex:\n",
    "\n",
    "`[A-Z]`"
   ]
  },
  {
   "cell_type": "markdown",
   "metadata": {},
   "source": [
    "A construction like `[A-Z]` makes use of a few basic features of regex:\n",
    "\n",
    "* Square brackets indicate a set of possible things to match. (The things go inside.)\n",
    "* A-Z is how you indicate a range of characters to match. \n",
    "* Regex is case sensitive, so A-Z would match only uppercase letters. To match lowercase chars, you'd use `[a-z]`."
   ]
  },
  {
   "cell_type": "markdown",
   "metadata": {},
   "source": [
    "### Historical aside\n",
    "\n",
    "Ever wonder why we call capital letters uppercase and lowercase letters lowercase? This is why:\n",
    "\n",
    "![cases](https://i.imgur.com/l6A3Urh.png)"
   ]
  },
  {
   "cell_type": "markdown",
   "metadata": {},
   "source": [
    "### Let's try out our first regex using Python"
   ]
  },
  {
   "cell_type": "code",
   "execution_count": 1,
   "metadata": {},
   "outputs": [
    {
     "data": {
      "text/plain": [
       "['L', 'F', 'R', 'U', 'I', 'T', 'N', 'M']"
      ]
     },
     "execution_count": 1,
     "metadata": {},
     "output_type": "execute_result"
    }
   ],
   "source": [
    "import re # this is the python regular expression library\n",
    "\n",
    "txt = \"Let's eat a delicious FRUIT $alad. N0M n0m!\"\n",
    "\n",
    "ans = re.findall(\"[A-Z]\", txt)\n",
    "\n",
    "ans"
   ]
  },
  {
   "cell_type": "markdown",
   "metadata": {},
   "source": [
    "As you've just observed, `findall` is a method that--you guessed it--*finds all* matches of a pattern. "
   ]
  },
  {
   "cell_type": "markdown",
   "metadata": {},
   "source": [
    "Let's review a few more basic ways of formulating regex patterns: \n",
    "\n",
    "A `^` outside the brackets but before the pattern finds only the first match, e.g.:"
   ]
  },
  {
   "cell_type": "code",
   "execution_count": 2,
   "metadata": {},
   "outputs": [
    {
     "data": {
      "text/plain": [
       "['L']"
      ]
     },
     "execution_count": 2,
     "metadata": {},
     "output_type": "execute_result"
    }
   ],
   "source": [
    "ans = re.findall(\"^[A-Z]\", txt) \n",
    "ans"
   ]
  },
  {
   "cell_type": "markdown",
   "metadata": {},
   "source": [
    "A `^` *inside* the brackets but before the start of the pattern negates the pattern."
   ]
  },
  {
   "cell_type": "code",
   "execution_count": 4,
   "metadata": {},
   "outputs": [
    {
     "data": {
      "text/plain": [
       "['e',\n",
       " 't',\n",
       " \"'\",\n",
       " 's',\n",
       " ' ',\n",
       " 'e',\n",
       " 'a',\n",
       " 't',\n",
       " ' ',\n",
       " 'a',\n",
       " ' ',\n",
       " 'd',\n",
       " 'e',\n",
       " 'l',\n",
       " 'i',\n",
       " 'c',\n",
       " 'i',\n",
       " 'o',\n",
       " 'u',\n",
       " 's',\n",
       " ' ',\n",
       " ' ',\n",
       " '$',\n",
       " 'a',\n",
       " 'l',\n",
       " 'a',\n",
       " 'd',\n",
       " '.',\n",
       " ' ',\n",
       " '0',\n",
       " ' ',\n",
       " 'n',\n",
       " '0',\n",
       " 'm',\n",
       " '!']"
      ]
     },
     "execution_count": 4,
     "metadata": {},
     "output_type": "execute_result"
    }
   ],
   "source": [
    "ans = re.findall(\"[^A-Z]\", txt) \n",
    "ans"
   ]
  },
  {
   "cell_type": "markdown",
   "metadata": {},
   "source": [
    "Those two different usages of the ^ are why some people delight in mastery of regex and others abhor it. It is TOTALLY FINE to have to look up a regex cheat sheet like [this one](http://www.pyregex.com/) if you can't remember the syntax off the top of your head. "
   ]
  },
  {
   "cell_type": "markdown",
   "metadata": {},
   "source": [
    "Also on that point:\n",
    "\n",
    "<img src=\"http://lklein.lmc.gatech.edu/wp-content/uploads/2019/09/Screen-Shot-2019-09-18-at-11.21.11-AM.png\" width=\"500\" />"
   ]
  },
  {
   "cell_type": "markdown",
   "metadata": {},
   "source": [
    "Re: step 4, above, note that the [cheat sheet I linked to above](http://www.pyregex.com/) also contains a web-based tester, which is another incredibly helpful tool. There are many such testers on the internet. I recommend that you use them.\n",
    "\n",
    "In any case, back to basic regex."
   ]
  },
  {
   "cell_type": "markdown",
   "metadata": {},
   "source": [
    "A number inside curly braces indicates five matches in a row:"
   ]
  },
  {
   "cell_type": "code",
   "execution_count": 6,
   "metadata": {},
   "outputs": [
    {
     "data": {
      "text/plain": [
       "['FRUIT']"
      ]
     },
     "execution_count": 6,
     "metadata": {},
     "output_type": "execute_result"
    }
   ],
   "source": [
    "ans = re.findall(\"[A-Z]{5}\", txt)\n",
    "\n",
    "ans"
   ]
  },
  {
   "cell_type": "markdown",
   "metadata": {},
   "source": [
    "There are all sorts of special sequences that let you look for specific types of characters. For example, \\W is how you indicate any non-alphanumeric character, as in the following:"
   ]
  },
  {
   "cell_type": "code",
   "execution_count": 7,
   "metadata": {},
   "outputs": [
    {
     "data": {
      "text/plain": [
       "[\"'\", ' ', ' ', ' ', ' ', ' ', '$', '.', ' ', ' ', '!']"
      ]
     },
     "execution_count": 7,
     "metadata": {},
     "output_type": "execute_result"
    }
   ],
   "source": [
    "ans = re.findall(\"[\\W]\", txt)\n",
    "\n",
    "ans"
   ]
  },
  {
   "cell_type": "markdown",
   "metadata": {},
   "source": [
    "If you are looking for multiple types of things, you can just run them together inside the square brackets. For example, you could find both non-alphanumeric and all numbers in this way:"
   ]
  },
  {
   "cell_type": "code",
   "execution_count": 10,
   "metadata": {},
   "outputs": [
    {
     "data": {
      "text/plain": [
       "[\"'\", ' ', ' ', ' ', ' ', ' ', '$', '.', ' ', '0', ' ', '0', '!']"
      ]
     },
     "execution_count": 10,
     "metadata": {},
     "output_type": "execute_result"
    }
   ],
   "source": [
    "ans = re.findall(\"[\\W0-9]\", txt)\n",
    "\n",
    "ans"
   ]
  },
  {
   "cell_type": "markdown",
   "metadata": {},
   "source": [
    "Regex can seem intimidating. But with some practice, you will start to remember some of the most commonly used syntax and expressions. That said, you will need to consult a cheat sheet (or Google, as above) more often than not.\n",
    "\n",
    "Here are some but not all of the most common regex parts:\n",
    "\n",
    "| Syntax  | Description |\n",
    "| :------ | :---------- |\n",
    "| `A b 1` | literals - letters, digits, and spaces match themselves |\n",
    "| `[Ab1]` | a character class, matching any of `A`, `b`, or `1` in this case |\n",
    "| `[a-z]` | all lowercase letters within a range |\n",
    "| `[0-9]` | all digits |\n",
    "| `^` | beginning of string |\n",
    "| `$` | end of string |\n",
    "| `.` | any character |\n",
    "| `*` | zero or more |\n",
    "| `+` | one or more |\n",
    "| `()` | creates a capture group for future reference |\n",
    "| `\\s` | whitespace (there are many special sequences that begin with `\\` like this) |\n",
    "\n",
    "We will practice with these and a few more as we work through the rest of this notebook."
   ]
  },
  {
   "cell_type": "markdown",
   "metadata": {},
   "source": [
    "### Python's regex functions\n",
    "\n",
    "There are a few helpful functions included in Python's \"re\" library. We've already used `findall`, but here are a few more:"
   ]
  },
  {
   "cell_type": "markdown",
   "metadata": {},
   "source": [
    "`re.match` finds a pattern anchored at the beginning of a string. Because it only looks at the beginning of a string, it's not always exceptionally useful. But let's just see how it works."
   ]
  },
  {
   "cell_type": "code",
   "execution_count": 14,
   "metadata": {},
   "outputs": [
    {
     "name": "stdout",
     "output_type": "stream",
     "text": [
      "Let's recall our example string:\n",
      "Let's eat a delicious FRUIT $alad. N0M n0m!\n",
      "\n",
      "Looking for five uppercase letters at the start...\n",
      "Sorry. No match.\n"
     ]
    }
   ],
   "source": [
    "print(\"Let's recall our example string:\")\n",
    "print(txt + \"\\n\")\n",
    "\n",
    "pattern = \"[A-Z]{5}\" # let's look for five uppercase letters, as above\n",
    "\n",
    "print(\"Looking for five uppercase letters at the start...\")\n",
    "if re.match(pattern,txt):\n",
    "    print(\"Match!\")\n",
    "else: \n",
    "    print(\"Sorry. No match.\")"
   ]
  },
  {
   "cell_type": "markdown",
   "metadata": {},
   "source": [
    "So, we don't have a match here because \"F R U I and T\" are not the first five chars in the sring. \n",
    "\n",
    "But what about if we look for \"Let's\"?\n",
    "\n",
    "Cue **Exercise 1**!\n",
    "\n",
    "Here are some regex building blocks to use in this exercise:\n",
    "\n",
    "* `[A-Z]` will get you all uppercase letters\n",
    "* `[a-z]` will get you all lowercase letters\n",
    "* In order to match a `'`, you need to use a `\\` before it. This is called an escape sequence.\n",
    "* Adding a `+` after a set of characters will match one or more instances of that set"
   ]
  },
  {
   "cell_type": "code",
   "execution_count": 57,
   "metadata": {},
   "outputs": [
    {
     "name": "stdout",
     "output_type": "stream",
     "text": [
      "Match!\n"
     ]
    }
   ],
   "source": [
    "# So, match doesn't work here. But what about if we search for \"Let's\"?\n",
    "\n",
    "pattern = \"[A-Z]+[a-z]+\\'s\" # fill in this part\n",
    "\n",
    "if re.match(pattern,txt):\n",
    "    print(\"Match!\")\n",
    "else: \n",
    "    print(\"Sorry. No match.\")"
   ]
  },
  {
   "cell_type": "markdown",
   "metadata": {},
   "source": [
    "Another thing to know about `match` is thatm like `findall`, it actually returns a list of matchs. In other words, you can test for the fact of a match. Or you can examine the specific sets of characters that it matches. For example:"
   ]
  },
  {
   "cell_type": "code",
   "execution_count": 15,
   "metadata": {},
   "outputs": [
    {
     "data": {
      "text/plain": [
       "\"Let's\""
      ]
     },
     "execution_count": 15,
     "metadata": {},
     "output_type": "execute_result"
    }
   ],
   "source": [
    "pattern = \"[A-Z]+[a-z]+\\'s\" # same as above\n",
    "\n",
    "matches = re.match(pattern,txt)\n",
    "\n",
    "matches[0]"
   ]
  },
  {
   "cell_type": "markdown",
   "metadata": {},
   "source": [
    "We've spent a lot of time on a not so helpful function. Much more helpful is `search`, which searches the entire string. \n",
    "\n",
    "Let's go back to looking for FRUIT:"
   ]
  },
  {
   "cell_type": "code",
   "execution_count": 16,
   "metadata": {},
   "outputs": [
    {
     "data": {
      "text/plain": [
       "'FRUIT'"
      ]
     },
     "execution_count": 16,
     "metadata": {},
     "output_type": "execute_result"
    }
   ],
   "source": [
    "pattern = \"[A-Z]{5}\" # remember this?\n",
    "\n",
    "matches = re.search(pattern,txt)\n",
    "\n",
    "matches[0]"
   ]
  },
  {
   "cell_type": "markdown",
   "metadata": {},
   "source": [
    "The TL;dr version: use `search` and not `match` unless you have a real reason to look only at the start of a string."
   ]
  },
  {
   "cell_type": "markdown",
   "metadata": {},
   "source": [
    "There's just one more function to go over before we turn to our lyrics exercise. And it's a helpful one. Promise!"
   ]
  },
  {
   "cell_type": "markdown",
   "metadata": {},
   "source": [
    "`re.sub` substitutes one pattern with another. This is exceptionally helpful for cleaning text.\n",
    "\n",
    "The syntax is as follows:\n",
    "\n",
    "`newstring = re.sub(pattern, replacement, original_string)`\n",
    "\n",
    "For example:\n"
   ]
  },
  {
   "cell_type": "code",
   "execution_count": 18,
   "metadata": {},
   "outputs": [
    {
     "name": "stdout",
     "output_type": "stream",
     "text": [
      "Original string:\n",
      "Let's eat a delicious FRUIT $alad. N0M n0m!\n",
      "\n",
      "New string:\n",
      "Let's eat a delicious FRUIT smoothie. N0M n0m!\n"
     ]
    }
   ],
   "source": [
    "print(\"Original string:\")\n",
    "print(txt + \"\\n\")\n",
    "\n",
    "new_txt = re.sub(\"\\$[a-z]{4}\",\"smoothie\",txt)\n",
    "\n",
    "print(\"New string:\")\n",
    "print(new_txt)\n"
   ]
  },
  {
   "cell_type": "markdown",
   "metadata": {},
   "source": [
    "Enough of this. Let's look at our lyrics..."
   ]
  },
  {
   "cell_type": "code",
   "execution_count": null,
   "metadata": {},
   "outputs": [],
   "source": []
  }
 ],
 "metadata": {
  "kernelspec": {
   "display_name": "Python 3",
   "language": "python",
   "name": "python3"
  },
  "language_info": {
   "codemirror_mode": {
    "name": "ipython",
    "version": 3
   },
   "file_extension": ".py",
   "mimetype": "text/x-python",
   "name": "python",
   "nbconvert_exporter": "python",
   "pygments_lexer": "ipython3",
   "version": "3.7.0"
  }
 },
 "nbformat": 4,
 "nbformat_minor": 2
}
