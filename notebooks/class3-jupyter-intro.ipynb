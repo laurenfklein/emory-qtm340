{
 "cells": [
  {
   "cell_type": "markdown",
   "metadata": {},
   "source": [
    "# Intro to Jupyter Notebook and Python Crash Course\n",
    "\n",
    "*Based off tutorials by [Alison Parish](https://github.com/aparrish/dmep-python-intro) and [Jinho Choi](https://github.com/emory-courses/data-science)*\n",
    "\n",
    "Jupyter Notebook is a browser-based platform for programming in Python, which allows you to intersperse executable code with chunks of text like this. It lets you (mostly) avoid the command line, and results in a file that is easy to read and easy to share with others. \n",
    "\n",
    "We'll be using Jupyter Notebooks for in-class exercises and for many of the homework assignments. In order to manage these various notebooks, I recommend using [GitHub Desktop](https://desktop.github.com/), which I'll discuss at the end of this class. I'm separating these discussions so that you don't get confused as to which platform does which thing, but the TL;dr version is that Jupyter is for writing and running code, and GitHub is for sharing it. \n",
    "\n",
    "## Here we go! \n",
    "\n",
    "A Jupyter Notebook consists of a number of \"cells,\" stacked on the page from top to bottom. Cells can have text or code in them. You can change a cell's type using the \"Cell\" menu at the top of the page; go to `Cell > Cell Type` and select either `Code` for Python code or `Markdown` for text. (You can also change this for the current cell using the drop-down menu in the toolbar.)"
   ]
  },
  {
   "cell_type": "markdown",
   "metadata": {},
   "source": [
    "## Your first cell\n",
    "\n",
    "**Let's make a text cell!**\n",
    "\n",
    "To make a new text cell below this one, do this:\n",
    "* Choose `Insert > Insert Cell Below` from the menu at the top of the page. \n",
    "* Change its type to `Markdown`\n",
    "* Type some stuff and press `Ctrl-Enter` (or `Ctrl-Return` on some keyboards) \n",
    "\n",
    "Jupyter Notebook will \"render\" the text and display it on the page in rendered format. You can hit `Enter` or click in the cell to edit its contents again. \n",
    "\n",
    "You can format the text of a cell using a set of conventions called Markdown. Markdown is a simple language for marking up text with basic text formatting information (such as bold, italics, hyperlinks, tables, etc.). \n",
    "\n",
    "[Here is a Markdown tutorial](http://markdowntutorial.com/), although I prefer to just consult a cheat sheet like [this one](https://www.markdownguide.org/cheat-sheet/)."
   ]
  },
  {
   "cell_type": "markdown",
   "metadata": {},
   "source": [
    "kfjdalkfjaklfj asklfjd s"
   ]
  },
  {
   "cell_type": "markdown",
   "metadata": {},
   "source": [
    "## Exercise: Make a text cell with some formatting using Markdown\n",
    "\n",
    "Here is your first exericse: Insert a new cell just below this one, and use the [Markdown cheat sheet](https://www.markdownguide.org/cheat-sheet/) to make some text **bold**, some text *italics*, and some:\n",
    "\n",
    "- text\n",
    "- in\n",
    "- a \n",
    "- list\n",
    "\n",
    "---"
   ]
  },
  {
   "cell_type": "markdown",
   "metadata": {},
   "source": [
    "## Two helpful shortcuts \n",
    "\n",
    "Instead of pressing `Ctl-Enter`, you can press `Alt-Enter` to render the current cell and create a new cell just below. New cells will by default be `Code` cells. \n",
    "\n",
    "Another shortcut: instead of pressing `Ctl-Enter`, you can press `Shift-Enter` to render the current cell and move to the one below. \n",
    "\n",
    "Let's try pressing `Shift-Enter` now, so that we can learn about code cells. "
   ]
  },
  {
   "cell_type": "markdown",
   "metadata": {},
   "source": [
    "## Code cells\n",
    "\n",
    "Code cells-- which are actually the default type of cell in Jupyter-- use the same set of commands (`Ctl-Enter`, `Alt-Enter`, `Shift-Enter`, etc) to run chunks of Python code rather than just render text.\n",
    "\n",
    "Let's not beat around the bush! Click on the cell just below, and then press `Shift-Enter` to run your first chunk of code."
   ]
  },
  {
   "cell_type": "code",
   "execution_count": 2,
   "metadata": {},
   "outputs": [
    {
     "name": "stdout",
     "output_type": "stream",
     "text": [
      "This is a code cell.\n",
      "\n",
      "Any Python code you type in this cell will be run when you press the 'Run' button\n",
      "up there, or when you press any of the keyboard shortcuts you just learned.\n",
      "\n",
      "If the code evaluates to something, or if it produces output, that output will be\n",
      "shown beneath the cell after you run it.\n",
      "\n",
      "Let's keep on going. Press Shift-Enter to see what this cell produces and keep going\n",
      "with our exercise.\n"
     ]
    }
   ],
   "source": [
    "print(\"This is a code cell.\")\n",
    "print(\"\")\n",
    "print(\"Any Python code you type in this cell will be run when you press the 'Run' button\")\n",
    "print(\"up there, or when you press any of the keyboard shortcuts you just learned.\")\n",
    "print(\"\")\n",
    "print(\"If the code evaluates to something, or if it produces output, that output will be\")\n",
    "print(\"shown beneath the cell after you run it.\")\n",
    "print(\"\")\n",
    "print(\"Let's keep on going. Press Shift-Enter to see what this cell produces and keep going\")\n",
    "print(\"with our exercise.\")"
   ]
  },
  {
   "cell_type": "markdown",
   "metadata": {},
   "source": [
    "**Sidenote: You just learned how the print function works in Python 3!**\n",
    "\n",
    "[Obligatory meme](https://twitter.com/cszhu/status/1163476712044150790)\n",
    "\n",
    "[Here](https://docs.python.org/3.3/whatsnew/3.0.html) are a few more examples of how to print things. \n",
    "\n",
    "[Here](https://realpython.com/python-print/) is more about `print()` than you likely ever wanted to know."
   ]
  },
  {
   "cell_type": "markdown",
   "metadata": {},
   "source": [
    "## Errors \n",
    "\n",
    "If your code generates an error, it will be displayed in addition to any output already produced. \n",
    "\n",
    "Let's commit a cardinal sin: dividing by zero.\n",
    "\n",
    "Run the cell below."
   ]
  },
  {
   "cell_type": "code",
   "execution_count": 3,
   "metadata": {},
   "outputs": [
    {
     "name": "stdout",
     "output_type": "stream",
     "text": [
      "Here is some printing.\n",
      "And now here is an error:\n"
     ]
    },
    {
     "ename": "ZeroDivisionError",
     "evalue": "division by zero",
     "output_type": "error",
     "traceback": [
      "\u001b[0;31m---------------------------------------------------------------------------\u001b[0m",
      "\u001b[0;31mZeroDivisionError\u001b[0m                         Traceback (most recent call last)",
      "\u001b[0;32m<ipython-input-3-4f26b3ef7434>\u001b[0m in \u001b[0;36m<module>\u001b[0;34m()\u001b[0m\n\u001b[1;32m      2\u001b[0m \u001b[0mprint\u001b[0m\u001b[0;34m(\u001b[0m\u001b[0;34m\"And now here is an error:\"\u001b[0m\u001b[0;34m)\u001b[0m\u001b[0;34m\u001b[0m\u001b[0m\n\u001b[1;32m      3\u001b[0m \u001b[0;34m\u001b[0m\u001b[0m\n\u001b[0;32m----> 4\u001b[0;31m \u001b[0;36m1\u001b[0m \u001b[0;34m/\u001b[0m \u001b[0;36m0\u001b[0m\u001b[0;34m\u001b[0m\u001b[0m\n\u001b[0m",
      "\u001b[0;31mZeroDivisionError\u001b[0m: division by zero"
     ]
    }
   ],
   "source": [
    "print(\"Here is some printing.\")\n",
    "print(\"And now here is an error:\")\n",
    "\n",
    "1 / 0"
   ]
  },
  {
   "cell_type": "markdown",
   "metadata": {},
   "source": [
    "## Variables\n",
    "\n",
    "The major difference between Python and R-- at least in terms of getting started-- is that in Python, you can only use `=` to assign variables. \n",
    "\n",
    "Let's assign some variables:"
   ]
  },
  {
   "cell_type": "code",
   "execution_count": 4,
   "metadata": {},
   "outputs": [],
   "source": [
    "x = 0\n",
    "y = .5\n",
    "z = True # note another difference b/t R and Python: Boolean (T/F) values are not all caps "
   ]
  },
  {
   "cell_type": "markdown",
   "metadata": {},
   "source": [
    "**A neat thing about notebooks:**\n",
    "\n",
    "Any variables you define or modules you import in one code cell will be available in subsequent code cells. \n",
    "\n",
    "So for instance, if you run the cell below:"
   ]
  },
  {
   "cell_type": "code",
   "execution_count": 7,
   "metadata": {},
   "outputs": [
    {
     "name": "stdout",
     "output_type": "stream",
     "text": [
      "flea market\n"
     ]
    }
   ],
   "source": [
    "import random  # a useful module that we'll come back to later \n",
    "stuff = [\"cheddar\", \"daguerrotype\", \"elephant\", \"flea market\"]\n",
    "\n",
    "print(random.choice(stuff)) # choice is a function that-- you guessed it-- makes a random choice"
   ]
  },
  {
   "cell_type": "markdown",
   "metadata": {},
   "source": [
    "... then in subsequent cells you can do this:"
   ]
  },
  {
   "cell_type": "code",
   "execution_count": 6,
   "metadata": {},
   "outputs": [
    {
     "name": "stdout",
     "output_type": "stream",
     "text": [
      "flea market\n"
     ]
    }
   ],
   "source": [
    "print(random.choice(stuff)) # choice is a function that-- you guessed it-- makes a random choice"
   ]
  },
  {
   "cell_type": "markdown",
   "metadata": {},
   "source": [
    "## Exercise: Write some code and then run it\n",
    "\n",
    "Using the previous two code cells as a guide...\n",
    "- Reassign the \"stuff\" variable with four different words\n",
    "- Use the \"choice\" function, as above, to randomly print one of those four words "
   ]
  },
  {
   "cell_type": "code",
   "execution_count": null,
   "metadata": {},
   "outputs": [],
   "source": []
  },
  {
   "cell_type": "markdown",
   "metadata": {},
   "source": [
    "**FYI:** \"stuff\" is a list, which is a type of value in Python which represents a sequence of values. It's a very common and versatile data structure and is often used to represent tabular data (among other information).\n",
    "\n",
    "More on lists shortly. But first: "
   ]
  },
  {
   "cell_type": "markdown",
   "metadata": {},
   "source": [
    "## Keyboard shortcuts\n",
    "\n",
    "As mentioned above, `Ctrl-Enter` runs the current cell; `Alt-Enter` runs the current cell and then creates a new cell. `Enter` will start editing whichever cell is currently selected. To quit editing a cell, hit `Esc`. If the cursor isn't currently active in any cell (i.e., after you've hit `Esc`), a number of other keyboard shortcuts are available to you:\n",
    "\n",
    "* `m` converts the selected cell to a Markdown cell\n",
    "* `b` inserts a new cell below the selected one\n",
    "* `x` \"cuts\" the selected cell; `v` pastes a previously cut cell below the selected cell\n",
    "* `h` brings up a help screen with many more shortcuts."
   ]
  },
  {
   "cell_type": "markdown",
   "metadata": {},
   "source": [
    "## Saving your work\n",
    "\n",
    "Hit `Cmd-S` at any time to save your notebook. Jupyter Notebook also automatically saves occasionally. Make sure to give your notebook a descriptive title by clicking on \"Untitled0\" at the top of the page and replacing the text accordingly. Notebooks you save will be available on your local server whenever you log in again, from wherever you saved them. \n",
    "\n",
    "You can also \"download\" your notebook in various formats via `File > Download as`. You can download your notebook as a static HTML file (for, e.g., uploading to a web site), or as a `.ipynb` file, which you can share with other people who have Jupyter Notebook-- such as me when you need to submit a homework. \n",
    "\n",
    "There are also a couple of platforms that allow you to view notebooks online, such as [nbviewer](http://nbviewer.ipython.org/). Note that the notebook needs to already exist online for nbviewer to work. \n",
    "\n",
    "Re: that final point, [GitHub](github.com) is a good default place to store notebooks. "
   ]
  },
  {
   "cell_type": "markdown",
   "metadata": {},
   "source": [
    "## GitHub Digression\n",
    "\n",
    "*forking, cloning, syncing*"
   ]
  },
  {
   "cell_type": "markdown",
   "metadata": {},
   "source": [
    "## Resources for Basic Python \n",
    "\n",
    "In general, I'll introduce concepts as we encounter them. But a few more basic things to keep in mind that are different than in R.\n",
    "\n",
    "Also, this course exists: [https://www.datacamp.com/courses/python-for-r-users](https://www.datacamp.com/courses/python-for-r-users)\n",
    "\n",
    "## Strings: You Can Concatinate then with \"+\"\n",
    "\n",
    "Unlike R, you can use the \"+\" operator to concatinate two strings together. "
   ]
  },
  {
   "cell_type": "code",
   "execution_count": 1,
   "metadata": {},
   "outputs": [
    {
     "name": "stdout",
     "output_type": "stream",
     "text": [
      "helloworld\n"
     ]
    }
   ],
   "source": [
    "foo = \"hello\"\n",
    "bar = \"world\"\n",
    "\n",
    "foobar = foo + bar\n",
    "\n",
    "print(foobar)"
   ]
  },
  {
   "cell_type": "markdown",
   "metadata": {},
   "source": [
    "Alison Parrish has a great primer on expressions and strings [here](https://github.com/aparrish/dmep-python-intro/blob/master/expressions-and-strings.ipynb)."
   ]
  },
  {
   "cell_type": "markdown",
   "metadata": {},
   "source": [
    "## Lists and Loops\n",
    "\n",
    "As I mentioned above, lists are all over the place in Python. \n",
    "\n",
    "[Here](lists.ipynb) is a notebook that we can work through if there is time. (If there's not time, you might want to work through it on your own)."
   ]
  },
  {
   "cell_type": "markdown",
   "metadata": {},
   "source": [
    "## For the future\n",
    "\n",
    "[Dictionaries, sets, and tuples](dictionaries-sets-tuples.ipynb)\n",
    "\n",
    "[Counting things](counting.ipynb)\n",
    "\n",
    "Perhaps a return to [expressions and strings](expressions-and-strings.ipynb)"
   ]
  },
  {
   "cell_type": "code",
   "execution_count": null,
   "metadata": {},
   "outputs": [],
   "source": []
  }
 ],
 "metadata": {
  "kernelspec": {
   "display_name": "Python 3",
   "language": "python",
   "name": "python3"
  },
  "language_info": {
   "codemirror_mode": {
    "name": "ipython",
    "version": 3
   },
   "file_extension": ".py",
   "mimetype": "text/x-python",
   "name": "python",
   "nbconvert_exporter": "python",
   "pygments_lexer": "ipython3",
   "version": "3.7.0"
  }
 },
 "nbformat": 4,
 "nbformat_minor": 1
}
