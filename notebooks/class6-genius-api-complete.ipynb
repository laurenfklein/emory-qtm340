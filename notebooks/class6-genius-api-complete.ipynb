{
 "cells": [
  {
   "cell_type": "markdown",
   "metadata": {},
   "source": [
    "## Fun with the Genius API\n",
    "\n",
    "Many web sites and organizations offer web APIs. We're going to go over how one API in particular works, or at least a subset of a particular web API---the [Genius API](https://docs.genius.com/). The idea is that by introducing you to this one API, you'll learn the tools necessary to sign up for, query, and interpret APIs from other providers as well.\n",
    "\n",
    "### Signing up for a Client Access Token \n",
    "\n",
    "Before you can use the Genius API, you need to sign up for what they call a \"client access token,\" which is another name for an API key. Do so by filling out the [New API Client form](https://genius.com/api-clients/new). If you don't yet have an account on Genius.com, you'll be prompted to register first. \n",
    "\n",
    "The next questions don't really apply to our use in class, but they're required to get your token. You can enter any words you want in \"App Name.\" Similarly, you can enter any URL in the \"Icon URL,\" \"App Website URL,\" and \"Redirect URI\" fields.\n",
    "\n",
    "Then, you'll be able to click on the \"Generate Access Token\" link to generate your client access token. \n",
    "\n",
    "The token is just a string of letters and numbers. It'll look something like this:\n",
    "\n",
    "    6617c28c371f0a138f7912a35365564afe538605\n",
    "    \n",
    "That's your \"key\" for that API. Whenever you make a request to that API, you'll need to include your key in the request. The exact methodology for including the key will be explained below. (Note: the key above is just something I made up; it's not a valid key; don't try using it in actual requests.)\n",
    "\n",
    "### Looking at the documentation\n",
    "\n",
    "The documentation for a web API usually describes what the API can do in terms of the URLs you can access, the patterns that those URLs follow, and the format of the responses. If you click on \"[Resources->Search](https://docs.genius.com/#search-h2)\" on the documentation page, you see instructions for using the \"search\" function of the Genius API, for example.\n",
    "\n",
    "This is a little confusing when you first look at it, but it's telling you the following:\n",
    "\n",
    "* The \"GET /search\" line tells you that you should append \"/search\" to your URL path to make this request.\n",
    "* The information in the blush-gray box tells you the parameter options. There is only one for search: \"q\" (that notation is pretty standard), and it can accept any search term as a value.\n",
    "\n",
    "That's the only one we're going to use for now, so let's make a quick test request"
   ]
  },
  {
   "cell_type": "code",
   "execution_count": 6,
   "metadata": {},
   "outputs": [
    {
     "data": {
      "text/plain": [
       "{'meta': {'status': 200},\n",
       " 'response': {'hits': [{'highlights': [],\n",
       "    'index': 'song',\n",
       "    'type': 'song',\n",
       "    'result': {'annotation_count': 35,\n",
       "     'api_path': '/songs/3042955',\n",
       "     'full_title': 'N. J Respect R by\\xa0Damso',\n",
       "     'header_image_thumbnail_url': 'https://images.genius.com/14ca128d4ebb8fba259428db966b198e.300x169x1.jpg',\n",
       "     'header_image_url': 'https://images.genius.com/14ca128d4ebb8fba259428db966b198e.1000x563x1.jpg',\n",
       "     'id': 3042955,\n",
       "     'lyrics_owner_id': 4012897,\n",
       "     'lyrics_state': 'complete',\n",
       "     'path': '/Damso-n-j-respect-r-lyrics',\n",
       "     'pyongs_count': 24,\n",
       "     'song_art_image_thumbnail_url': 'https://images.genius.com/1a572edbf6da198c99dacd7c19282804.300x300x1.jpg',\n",
       "     'song_art_image_url': 'https://images.genius.com/1a572edbf6da198c99dacd7c19282804.1000x1000x1.jpg',\n",
       "     'stats': {'unreviewed_annotations': 0, 'hot': False, 'pageviews': 459925},\n",
       "     'title': 'N. J Respect R',\n",
       "     'title_with_featured': 'N. J Respect R',\n",
       "     'url': 'https://genius.com/Damso-n-j-respect-r-lyrics',\n",
       "     'primary_artist': {'api_path': '/artists/45855',\n",
       "      'header_image_url': 'https://images.genius.com/3ff0fa76244a96becfc4c4972ecd0a61.862x300x1.png',\n",
       "      'id': 45855,\n",
       "      'image_url': 'https://images.genius.com/44c9393bbc627a682bc9e816d5e144af.477x477x1.png',\n",
       "      'is_meme_verified': False,\n",
       "      'is_verified': True,\n",
       "      'name': 'Damso',\n",
       "      'url': 'https://genius.com/artists/Damso',\n",
       "      'iq': 15254}}},\n",
       "   {'highlights': [],\n",
       "    'index': 'song',\n",
       "    'type': 'song',\n",
       "    'result': {'annotation_count': 10,\n",
       "     'api_path': '/songs/4007572',\n",
       "     'full_title': \"Respect My Cryppin' by\\xa0Blueface\",\n",
       "     'header_image_thumbnail_url': 'https://images.genius.com/8abd9b34eae9e1d97e3862287337532f.300x300x1.jpg',\n",
       "     'header_image_url': 'https://images.genius.com/8abd9b34eae9e1d97e3862287337532f.1000x1000x1.jpg',\n",
       "     'id': 4007572,\n",
       "     'lyrics_owner_id': 1532287,\n",
       "     'lyrics_state': 'complete',\n",
       "     'path': '/Blueface-respect-my-cryppin-lyrics',\n",
       "     'pyongs_count': 15,\n",
       "     'song_art_image_thumbnail_url': 'https://images.genius.com/8abd9b34eae9e1d97e3862287337532f.300x300x1.jpg',\n",
       "     'song_art_image_url': 'https://images.genius.com/8abd9b34eae9e1d97e3862287337532f.1000x1000x1.jpg',\n",
       "     'stats': {'unreviewed_annotations': 0, 'hot': False, 'pageviews': 415684},\n",
       "     'title': 'Respect My Cryppin’',\n",
       "     'title_with_featured': \"Respect My Cryppin'\",\n",
       "     'url': 'https://genius.com/Blueface-respect-my-cryppin-lyrics',\n",
       "     'primary_artist': {'api_path': '/artists/1195330',\n",
       "      'header_image_url': 'https://images.genius.com/96666bf66dc7254e2c353eb3930222c4.800x800x1.jpg',\n",
       "      'id': 1195330,\n",
       "      'image_url': 'https://images.genius.com/96666bf66dc7254e2c353eb3930222c4.800x800x1.jpg',\n",
       "      'is_meme_verified': False,\n",
       "      'is_verified': True,\n",
       "      'name': 'Blueface',\n",
       "      'url': 'https://genius.com/artists/Blueface',\n",
       "      'iq': 2334}}},\n",
       "   {'highlights': [],\n",
       "    'index': 'song',\n",
       "    'type': 'song',\n",
       "    'result': {'annotation_count': 8,\n",
       "     'api_path': '/songs/2353',\n",
       "     'full_title': 'Respect by\\xa0Aretha\\xa0Franklin',\n",
       "     'header_image_thumbnail_url': 'https://images.genius.com/ce98cca792d9ba567d2b5d4ffecbd013.300x300x1.jpg',\n",
       "     'header_image_url': 'https://images.genius.com/ce98cca792d9ba567d2b5d4ffecbd013.400x400x1.jpg',\n",
       "     'id': 2353,\n",
       "     'lyrics_owner_id': 7,\n",
       "     'lyrics_state': 'complete',\n",
       "     'path': '/Aretha-franklin-respect-lyrics',\n",
       "     'pyongs_count': 18,\n",
       "     'song_art_image_thumbnail_url': 'https://images.genius.com/ce98cca792d9ba567d2b5d4ffecbd013.300x300x1.jpg',\n",
       "     'song_art_image_url': 'https://images.genius.com/ce98cca792d9ba567d2b5d4ffecbd013.400x400x1.jpg',\n",
       "     'stats': {'unreviewed_annotations': 0, 'hot': False, 'pageviews': 226368},\n",
       "     'title': 'Respect',\n",
       "     'title_with_featured': 'Respect',\n",
       "     'url': 'https://genius.com/Aretha-franklin-respect-lyrics',\n",
       "     'primary_artist': {'api_path': '/artists/1108',\n",
       "      'header_image_url': 'https://images.genius.com/93b32f6e4353e7ea3b2f6b4c93f06579.1000x226x1.jpg',\n",
       "      'id': 1108,\n",
       "      'image_url': 'https://images.genius.com/67byn02d5gwo513bs0b25pogx.474x559x1.jpg',\n",
       "      'is_meme_verified': False,\n",
       "      'is_verified': False,\n",
       "      'name': 'Aretha Franklin',\n",
       "      'url': 'https://genius.com/artists/Aretha-franklin'}}},\n",
       "   {'highlights': [],\n",
       "    'index': 'song',\n",
       "    'type': 'song',\n",
       "    'result': {'annotation_count': 15,\n",
       "     'api_path': '/songs/1174',\n",
       "     'full_title': 'Respect by\\xa0The\\xa0Notorious B.I.G. (Ft.\\xa0Diana\\xa0King)',\n",
       "     'header_image_thumbnail_url': 'https://images.genius.com/e6cce6ad5c26175653cd5e5590b6e235.300x300x1.jpg',\n",
       "     'header_image_url': 'https://images.genius.com/e6cce6ad5c26175653cd5e5590b6e235.1000x1000x1.jpg',\n",
       "     'id': 1174,\n",
       "     'lyrics_owner_id': 175,\n",
       "     'lyrics_state': 'complete',\n",
       "     'path': '/The-notorious-big-respect-lyrics',\n",
       "     'pyongs_count': 19,\n",
       "     'song_art_image_thumbnail_url': 'https://images.genius.com/e6cce6ad5c26175653cd5e5590b6e235.300x300x1.jpg',\n",
       "     'song_art_image_url': 'https://images.genius.com/e6cce6ad5c26175653cd5e5590b6e235.1000x1000x1.jpg',\n",
       "     'stats': {'unreviewed_annotations': 5, 'hot': False, 'pageviews': 200679},\n",
       "     'title': 'Respect',\n",
       "     'title_with_featured': 'Respect (Ft.\\xa0Diana\\xa0King)',\n",
       "     'url': 'https://genius.com/The-notorious-big-respect-lyrics',\n",
       "     'primary_artist': {'api_path': '/artists/22',\n",
       "      'header_image_url': 'https://images.genius.com/79d9177906cee900e02598c873c9d5cf.550x426x1.jpg',\n",
       "      'id': 22,\n",
       "      'image_url': 'https://images.genius.com/accf2df97375292b16f399ff6ec71e6e.500x500x1.png',\n",
       "      'is_meme_verified': False,\n",
       "      'is_verified': False,\n",
       "      'name': 'The Notorious B.I.G.',\n",
       "      'url': 'https://genius.com/artists/The-notorious-big'}}},\n",
       "   {'highlights': [],\n",
       "    'index': 'song',\n",
       "    'type': 'song',\n",
       "    'result': {'annotation_count': 3,\n",
       "     'api_path': '/songs/4125749',\n",
       "     'full_title': 'Respect the Game by\\xa0Meek\\xa0Mill',\n",
       "     'header_image_thumbnail_url': 'https://images.genius.com/74622f434a6e852420ea522d6aae36f1.300x300x1.jpg',\n",
       "     'header_image_url': 'https://images.genius.com/74622f434a6e852420ea522d6aae36f1.1000x1000x1.jpg',\n",
       "     'id': 4125749,\n",
       "     'lyrics_owner_id': 498964,\n",
       "     'lyrics_state': 'complete',\n",
       "     'path': '/Meek-mill-respect-the-game-lyrics',\n",
       "     'pyongs_count': 11,\n",
       "     'song_art_image_thumbnail_url': 'https://images.genius.com/74622f434a6e852420ea522d6aae36f1.300x300x1.jpg',\n",
       "     'song_art_image_url': 'https://images.genius.com/74622f434a6e852420ea522d6aae36f1.1000x1000x1.jpg',\n",
       "     'stats': {'unreviewed_annotations': 1, 'hot': False, 'pageviews': 206545},\n",
       "     'title': 'Respect the Game',\n",
       "     'title_with_featured': 'Respect the Game',\n",
       "     'url': 'https://genius.com/Meek-mill-respect-the-game-lyrics',\n",
       "     'primary_artist': {'api_path': '/artists/1319',\n",
       "      'header_image_url': 'https://images.genius.com/14d3348828dd27d038469fb101ad8820.1000x501x1.png',\n",
       "      'id': 1319,\n",
       "      'image_url': 'https://images.genius.com/6929169de7116d41676151bdea5cc773.1000x1000x1.jpg',\n",
       "      'is_meme_verified': True,\n",
       "      'is_verified': True,\n",
       "      'name': 'Meek Mill',\n",
       "      'url': 'https://genius.com/artists/Meek-mill',\n",
       "      'iq': 2599}}},\n",
       "   {'highlights': [],\n",
       "    'index': 'song',\n",
       "    'type': 'song',\n",
       "    'result': {'annotation_count': 5,\n",
       "     'api_path': '/songs/3112299',\n",
       "     'full_title': 'No Respect Freestyle by\\xa0Lil\\xa0Peep',\n",
       "     'header_image_thumbnail_url': 'https://images.genius.com/ec8757505cb0a3b759d1217787963f36.300x169x1.jpg',\n",
       "     'header_image_url': 'https://images.genius.com/ec8757505cb0a3b759d1217787963f36.1000x563x1.jpg',\n",
       "     'id': 3112299,\n",
       "     'lyrics_owner_id': 4710895,\n",
       "     'lyrics_state': 'complete',\n",
       "     'path': '/Lil-peep-no-respect-freestyle-lyrics',\n",
       "     'pyongs_count': 18,\n",
       "     'song_art_image_thumbnail_url': 'https://images.genius.com/cb3f2d0314e496644449a8fbada01c0e.300x300x1.jpg',\n",
       "     'song_art_image_url': 'https://images.genius.com/cb3f2d0314e496644449a8fbada01c0e.500x500x1.jpg',\n",
       "     'stats': {'unreviewed_annotations': 1, 'hot': False, 'pageviews': 149466},\n",
       "     'title': 'No Respect Freestyle',\n",
       "     'title_with_featured': 'No Respect Freestyle',\n",
       "     'url': 'https://genius.com/Lil-peep-no-respect-freestyle-lyrics',\n",
       "     'primary_artist': {'api_path': '/artists/569922',\n",
       "      'header_image_url': 'https://images.genius.com/7112ed6b0b4f0d3b7bb90fcd2b15d383.1000x563x1.jpg',\n",
       "      'id': 569922,\n",
       "      'image_url': 'https://images.genius.com/e9aa7bb6533bc1d3aac6f198456f3653.960x960x1.jpg',\n",
       "      'is_meme_verified': False,\n",
       "      'is_verified': True,\n",
       "      'name': 'Lil Peep',\n",
       "      'url': 'https://genius.com/artists/Lil-peep',\n",
       "      'iq': 1595}}},\n",
       "   {'highlights': [],\n",
       "    'index': 'song',\n",
       "    'type': 'song',\n",
       "    'result': {'annotation_count': 44,\n",
       "     'api_path': '/songs/551346',\n",
       "     'full_title': 'All Due Respect by\\xa0Run\\xa0The Jewels (Ft.\\xa0Travis\\xa0Barker)',\n",
       "     'header_image_thumbnail_url': 'https://images.genius.com/94c83514d5589ff98ec3194ba5a694d1.300x300x1.jpg',\n",
       "     'header_image_url': 'https://images.genius.com/94c83514d5589ff98ec3194ba5a694d1.1000x1000x1.jpg',\n",
       "     'id': 551346,\n",
       "     'lyrics_owner_id': 292760,\n",
       "     'lyrics_state': 'complete',\n",
       "     'path': '/Run-the-jewels-all-due-respect-lyrics',\n",
       "     'pyongs_count': 11,\n",
       "     'song_art_image_thumbnail_url': 'https://images.genius.com/94c83514d5589ff98ec3194ba5a694d1.300x300x1.jpg',\n",
       "     'song_art_image_url': 'https://images.genius.com/94c83514d5589ff98ec3194ba5a694d1.1000x1000x1.jpg',\n",
       "     'stats': {'unreviewed_annotations': 2, 'hot': False, 'pageviews': 72602},\n",
       "     'title': 'All Due Respect',\n",
       "     'title_with_featured': 'All Due Respect (Ft.\\xa0Travis\\xa0Barker)',\n",
       "     'url': 'https://genius.com/Run-the-jewels-all-due-respect-lyrics',\n",
       "     'primary_artist': {'api_path': '/artists/48147',\n",
       "      'header_image_url': 'https://images.genius.com/500ec6a92b72c8679fa632ef10bcaf30.610x250x1.jpg',\n",
       "      'id': 48147,\n",
       "      'image_url': 'https://images.genius.com/b8813cdda31f4ffae924413bc037239e.1000x1000x1.jpg',\n",
       "      'is_meme_verified': False,\n",
       "      'is_verified': True,\n",
       "      'name': 'Run The Jewels',\n",
       "      'url': 'https://genius.com/artists/Run-the-jewels',\n",
       "      'iq': 100}}},\n",
       "   {'highlights': [],\n",
       "    'index': 'song',\n",
       "    'type': 'song',\n",
       "    'result': {'annotation_count': 2,\n",
       "     'api_path': '/songs/2490173',\n",
       "     'full_title': 'Money, Power, Respect by\\xa0Travis\\xa0Scott',\n",
       "     'header_image_thumbnail_url': 'https://images.genius.com/62d241389823ea14f6a4612f37e29db8.300x300x1.jpg',\n",
       "     'header_image_url': 'https://images.genius.com/62d241389823ea14f6a4612f37e29db8.1000x1000x1.jpg',\n",
       "     'id': 2490173,\n",
       "     'lyrics_owner_id': 1077840,\n",
       "     'lyrics_state': 'complete',\n",
       "     'path': '/Travis-scott-money-power-respect-lyrics',\n",
       "     'pyongs_count': 46,\n",
       "     'song_art_image_thumbnail_url': 'https://images.genius.com/62d241389823ea14f6a4612f37e29db8.300x300x1.jpg',\n",
       "     'song_art_image_url': 'https://images.genius.com/62d241389823ea14f6a4612f37e29db8.1000x1000x1.jpg',\n",
       "     'stats': {'unreviewed_annotations': 0, 'hot': False, 'pageviews': 53619},\n",
       "     'title': 'Money, Power, Respect',\n",
       "     'title_with_featured': 'Money, Power, Respect',\n",
       "     'url': 'https://genius.com/Travis-scott-money-power-respect-lyrics',\n",
       "     'primary_artist': {'api_path': '/artists/20185',\n",
       "      'header_image_url': 'https://images.genius.com/ec678d33204fe2d2b74a82757a45d547.1000x655x1.jpg',\n",
       "      'id': 20185,\n",
       "      'image_url': 'https://images.genius.com/62d241389823ea14f6a4612f37e29db8.1000x1000x1.jpg',\n",
       "      'is_meme_verified': True,\n",
       "      'is_verified': True,\n",
       "      'name': 'Travis Scott',\n",
       "      'url': 'https://genius.com/artists/Travis-scott',\n",
       "      'iq': 175}}},\n",
       "   {'highlights': [],\n",
       "    'index': 'song',\n",
       "    'type': 'song',\n",
       "    'result': {'annotation_count': 6,\n",
       "     'api_path': '/songs/2391094',\n",
       "     'full_title': 'Respect by\\xa0Wiz\\xa0Khalifa (Ft.\\xa0Juicy\\xa0J & K\\xa0CAMP)',\n",
       "     'header_image_thumbnail_url': 'https://images.genius.com/036a1fd3f9480df4542a8206719c891b.300x300x1.jpg',\n",
       "     'header_image_url': 'https://images.genius.com/036a1fd3f9480df4542a8206719c891b.600x600x1.jpg',\n",
       "     'id': 2391094,\n",
       "     'lyrics_owner_id': 282633,\n",
       "     'lyrics_state': 'complete',\n",
       "     'path': '/Wiz-khalifa-respect-lyrics',\n",
       "     'pyongs_count': 7,\n",
       "     'song_art_image_thumbnail_url': 'https://images.genius.com/036a1fd3f9480df4542a8206719c891b.300x300x1.jpg',\n",
       "     'song_art_image_url': 'https://images.genius.com/036a1fd3f9480df4542a8206719c891b.600x600x1.jpg',\n",
       "     'stats': {'unreviewed_annotations': 4, 'hot': False, 'pageviews': 48898},\n",
       "     'title': 'Respect',\n",
       "     'title_with_featured': 'Respect (Ft.\\xa0Juicy\\xa0J & K\\xa0CAMP)',\n",
       "     'url': 'https://genius.com/Wiz-khalifa-respect-lyrics',\n",
       "     'primary_artist': {'api_path': '/artists/310',\n",
       "      'header_image_url': 'https://images.genius.com/d00bc03bc5bdd1bc352f6f7731d89db6.500x281x8.gif',\n",
       "      'id': 310,\n",
       "      'image_url': 'https://images.genius.com/2ba15f623d81eda09cdc07f50dde02ad.400x400x1.jpg',\n",
       "      'is_meme_verified': True,\n",
       "      'is_verified': True,\n",
       "      'name': 'Wiz Khalifa',\n",
       "      'url': 'https://genius.com/artists/Wiz-khalifa',\n",
       "      'iq': 8365}}},\n",
       "   {'highlights': [],\n",
       "    'index': 'song',\n",
       "    'type': 'song',\n",
       "    'result': {'annotation_count': 44,\n",
       "     'api_path': '/songs/3078031',\n",
       "     'full_title': 'The Cypher Respect 2 by\\xa0Atentado\\xa0Napalm (Ft.\\xa0Coruja\\xa0BC1, Rashid, Rincon\\xa0Sapiência, Sant & Xamã)',\n",
       "     'header_image_thumbnail_url': 'https://images.genius.com/4a288cc9abc775442c349a185d3ff0c2.300x300x1.jpg',\n",
       "     'header_image_url': 'https://images.genius.com/4a288cc9abc775442c349a185d3ff0c2.400x400x1.jpg',\n",
       "     'id': 3078031,\n",
       "     'lyrics_owner_id': 3639955,\n",
       "     'lyrics_state': 'complete',\n",
       "     'path': '/Atentado-napalm-the-cypher-respect-2-lyrics',\n",
       "     'pyongs_count': 25,\n",
       "     'song_art_image_thumbnail_url': 'https://images.genius.com/4a288cc9abc775442c349a185d3ff0c2.300x300x1.jpg',\n",
       "     'song_art_image_url': 'https://images.genius.com/4a288cc9abc775442c349a185d3ff0c2.400x400x1.jpg',\n",
       "     'stats': {'unreviewed_annotations': 5, 'hot': False, 'pageviews': 42984},\n",
       "     'title': 'The Cypher Respect 2',\n",
       "     'title_with_featured': 'The Cypher Respect 2 (Ft.\\xa0Coruja\\xa0BC1, Rashid, Rincon\\xa0Sapiência, Sant & Xamã)',\n",
       "     'url': 'https://genius.com/Atentado-napalm-the-cypher-respect-2-lyrics',\n",
       "     'primary_artist': {'api_path': '/artists/134634',\n",
       "      'header_image_url': 'https://images.genius.com/308678eab8b5990b09e7567608bac7dc.1000x733x1.jpg',\n",
       "      'id': 134634,\n",
       "      'image_url': 'https://images.genius.com/573f7f875c4f0ca7e39097d9521e9810.1000x1000x1.png',\n",
       "      'is_meme_verified': False,\n",
       "      'is_verified': True,\n",
       "      'name': 'Atentado Napalm',\n",
       "      'url': 'https://genius.com/artists/Atentado-napalm',\n",
       "      'iq': 130}}}]}}"
      ]
     },
     "execution_count": 6,
     "metadata": {},
     "output_type": "execute_result"
    }
   ],
   "source": [
    "import requests # requests again\n",
    "\n",
    "base_url = \"http://api.genius.com\" # this is the URL for the Genius API\n",
    "#Key line below here when, this is how to authorize your request when using the API\n",
    "headers = {'Authorization': 'Bearer TOKEN'} ## REPLACE TOKEN W/ ACTUAL TOKEN <-- IMPORTANT !!!\n",
    "search_url = base_url + \"/search\" # remember, this is how you format the URL for a search, as described above\n",
    "song_title = \"Respect\" # We'll search for the first song title in our candidate playlist: Aretha Franklin's Respect \n",
    "params = {'q': song_title} # here's how you format the search parameter (see point two, above)\n",
    "\n",
    "# and here's the API call\n",
    "resp = requests.get(search_url, params=params, headers=headers)\n",
    "data = resp.json()\n",
    "data"
   ]
  },
  {
   "cell_type": "markdown",
   "metadata": {},
   "source": [
    "This request is finding all songs that include the search string `Respect`. As described in the [documentation](https://docs.genius.com/#/authentication-h1), the results take the form of a dictionary with two keys: `response` (which points to a ditionary of a list of dictionaries; phew!) and `meta`, whose value is a string (`'status'`), which gives you the HTML status code for the response (i.e. whether the request was successful). \n",
    "\n",
    "Let's take a look at the top level:"
   ]
  },
  {
   "cell_type": "code",
   "execution_count": 3,
   "metadata": {},
   "outputs": [
    {
     "data": {
      "text/plain": [
       "dict_keys(['meta', 'response'])"
      ]
     },
     "execution_count": 3,
     "metadata": {},
     "output_type": "execute_result"
    }
   ],
   "source": [
    "data.keys()"
   ]
  },
  {
   "cell_type": "markdown",
   "metadata": {},
   "source": [
    "From the output above, we already know that the response was successful. So we can ignore whatever is associated with the `meta` key. But let's dig a little deeper into the `response` key."
   ]
  },
  {
   "cell_type": "code",
   "execution_count": 4,
   "metadata": {},
   "outputs": [
    {
     "data": {
      "text/plain": [
       "dict_keys(['hits'])"
      ]
     },
     "execution_count": 4,
     "metadata": {},
     "output_type": "execute_result"
    }
   ],
   "source": [
    "data['response'].keys()"
   ]
  },
  {
   "cell_type": "markdown",
   "metadata": {},
   "source": [
    "So there is only one key, `hits`, which I will tell you comtains a list of dictionaries: one for each of the hits in the search result."
   ]
  },
  {
   "cell_type": "code",
   "execution_count": 5,
   "metadata": {},
   "outputs": [
    {
     "data": {
      "text/plain": [
       "{'highlights': [],\n",
       " 'index': 'song',\n",
       " 'type': 'song',\n",
       " 'result': {'annotation_count': 35,\n",
       "  'api_path': '/songs/3042955',\n",
       "  'full_title': 'N. J Respect R by\\xa0Damso',\n",
       "  'header_image_thumbnail_url': 'https://images.genius.com/14ca128d4ebb8fba259428db966b198e.300x169x1.jpg',\n",
       "  'header_image_url': 'https://images.genius.com/14ca128d4ebb8fba259428db966b198e.1000x563x1.jpg',\n",
       "  'id': 3042955,\n",
       "  'lyrics_owner_id': 4012897,\n",
       "  'lyrics_state': 'complete',\n",
       "  'path': '/Damso-n-j-respect-r-lyrics',\n",
       "  'pyongs_count': 24,\n",
       "  'song_art_image_thumbnail_url': 'https://images.genius.com/1a572edbf6da198c99dacd7c19282804.300x300x1.jpg',\n",
       "  'song_art_image_url': 'https://images.genius.com/1a572edbf6da198c99dacd7c19282804.1000x1000x1.jpg',\n",
       "  'stats': {'unreviewed_annotations': 0, 'hot': False, 'pageviews': 459765},\n",
       "  'title': 'N. J Respect R',\n",
       "  'title_with_featured': 'N. J Respect R',\n",
       "  'url': 'https://genius.com/Damso-n-j-respect-r-lyrics',\n",
       "  'primary_artist': {'api_path': '/artists/45855',\n",
       "   'header_image_url': 'https://images.genius.com/3ff0fa76244a96becfc4c4972ecd0a61.862x300x1.png',\n",
       "   'id': 45855,\n",
       "   'image_url': 'https://images.genius.com/44c9393bbc627a682bc9e816d5e144af.477x477x1.png',\n",
       "   'is_meme_verified': False,\n",
       "   'is_verified': True,\n",
       "   'name': 'Damso',\n",
       "   'url': 'https://genius.com/artists/Damso',\n",
       "   'iq': 15254}}}"
      ]
     },
     "execution_count": 5,
     "metadata": {},
     "output_type": "execute_result"
    }
   ],
   "source": [
    "data['response']['hits'][0]"
   ]
  },
  {
   "cell_type": "markdown",
   "metadata": {},
   "source": [
    "So this is what we want: the dictionary for each of the search results.\n",
    "\n",
    "But lo and behold, it contains additional levels of data. \n",
    "\n",
    "Of these, we're most interested in the `result` dictionary. \n",
    "\n",
    "Important items in this dictionary are the song title itself (`title`), the url for the song lyrucs (`url`) and the `primary artist` key, which points to *another* dictionary with the name of the artist (`name`). \n",
    "\n",
    "The artist name could be used with a different API endpoint to get more detail about a particular artist. But this information is enough for our purposes today.\n",
    "\n",
    "To get a sense of what we're looking at, let's get the full song title for each search hit:"
   ]
  },
  {
   "cell_type": "code",
   "execution_count": 6,
   "metadata": {},
   "outputs": [
    {
     "data": {
      "text/plain": [
       "['N. J Respect R',\n",
       " 'Respect My Cryppin’',\n",
       " 'Respect',\n",
       " 'Respect the Game',\n",
       " 'No Respect Freestyle',\n",
       " 'Respect',\n",
       " 'All Due Respect',\n",
       " 'Money, Power, Respect',\n",
       " 'Respect',\n",
       " 'The Cypher Respect 2']"
      ]
     },
     "execution_count": 6,
     "metadata": {},
     "output_type": "execute_result"
    }
   ],
   "source": [
    "# Remember list comprehension format: [ predicate expression FOR temporary variable name IN source list ]\n",
    "\n",
    "[song['result']['title'] for song in data['response']['hits']]"
   ]
  },
  {
   "cell_type": "markdown",
   "metadata": {},
   "source": [
    "**Exercise:** Using the syntax above, list the URLs for the lyrics of each of these songs"
   ]
  },
  {
   "cell_type": "code",
   "execution_count": 2,
   "metadata": {},
   "outputs": [
    {
     "data": {
      "text/plain": [
       "['https://genius.com/Damso-n-j-respect-r-lyrics',\n",
       " 'https://genius.com/Blueface-respect-my-cryppin-lyrics',\n",
       " 'https://genius.com/Aretha-franklin-respect-lyrics',\n",
       " 'https://genius.com/The-notorious-big-respect-lyrics',\n",
       " 'https://genius.com/Meek-mill-respect-the-game-lyrics',\n",
       " 'https://genius.com/Lil-peep-no-respect-freestyle-lyrics',\n",
       " 'https://genius.com/Run-the-jewels-all-due-respect-lyrics',\n",
       " 'https://genius.com/Travis-scott-money-power-respect-lyrics',\n",
       " 'https://genius.com/Wiz-khalifa-respect-lyrics',\n",
       " 'https://genius.com/Atentado-napalm-the-cypher-respect-2-lyrics']"
      ]
     },
     "execution_count": 2,
     "metadata": {},
     "output_type": "execute_result"
    }
   ],
   "source": [
    "[song['result']['url'] for song in data['response']['hits']]"
   ]
  },
  {
   "cell_type": "code",
   "execution_count": null,
   "metadata": {},
   "outputs": [],
   "source": []
  },
  {
   "cell_type": "code",
   "execution_count": null,
   "metadata": {},
   "outputs": [],
   "source": []
  },
  {
   "cell_type": "code",
   "execution_count": null,
   "metadata": {},
   "outputs": [],
   "source": []
  },
  {
   "cell_type": "markdown",
   "metadata": {},
   "source": [
    "**Exercise:** Adapting the syntax above, list the name of the artist for each of these songs.\n",
    "    \n",
    "Hint: Remember that `name` is contained with the dictionary `primary artist`"
   ]
  },
  {
   "cell_type": "code",
   "execution_count": 3,
   "metadata": {},
   "outputs": [
    {
     "data": {
      "text/plain": [
       "['Damso',\n",
       " 'Blueface',\n",
       " 'Aretha Franklin',\n",
       " 'The Notorious B.I.G.',\n",
       " 'Meek Mill',\n",
       " 'Lil Peep',\n",
       " 'Run The Jewels',\n",
       " 'Travis Scott',\n",
       " 'Wiz Khalifa',\n",
       " 'Atentado Napalm']"
      ]
     },
     "execution_count": 3,
     "metadata": {},
     "output_type": "execute_result"
    }
   ],
   "source": [
    "[song['result']['primary_artist']['name'] for song in data['response']['hits']]"
   ]
  },
  {
   "cell_type": "code",
   "execution_count": null,
   "metadata": {},
   "outputs": [],
   "source": []
  },
  {
   "cell_type": "code",
   "execution_count": null,
   "metadata": {},
   "outputs": [],
   "source": []
  },
  {
   "cell_type": "markdown",
   "metadata": {},
   "source": [
    "### An aside about query strings\n",
    "\n",
    "So, one quick thing: what's with that `params` thing in the call to `requests.get()`? Well, it's there to make our lives easier. If you put `params=` into the arguments of the call to `requests.get()`, the library will take the dictionary that you passed and use it to form a query string. It does this so you don't have to figure out how to write the query string yourself.\n",
    "\n",
    "Let's review what a query string looks like. Here's the example query string from the section above about URL structure:\n",
    "\n",
    "    ?arg1=baz&arg2=quux\n",
    "    \n",
    "At first glance, it looks like garbage. For another perspective, let's look at the query string from the example request to the Genius API:\n",
    "\n",
    "    ?token=6617c28c371f0a138f7912a35365564afe538605&q=Respect\n",
    "    \n",
    "A little bit of the structure becomes more apparent here! It looks like we have a series of key/value, separated by ampersands (`&`): `token=6617c28c371f0a138f7912a35365564afe538605` and `q=Respect`. The pairs themselves are separated by equal signs (`=`).\n",
    "\n",
    "What we'd like to have, then, is some kind of way to write an expression that turns a Python dictionary into a string formatted correctly to include in a query string. It turns out that the process of doing this is [kind of tricky](http://en.wikipedia.org/wiki/Percent-encoding), so the `requests` library does the hard work for us when we pass the parameters to the `requests.get()` function with the named `params` parameter. Very handy!"
   ]
  },
  {
   "cell_type": "code",
   "execution_count": null,
   "metadata": {},
   "outputs": [],
   "source": []
  },
  {
   "cell_type": "code",
   "execution_count": null,
   "metadata": {},
   "outputs": [],
   "source": []
  },
  {
   "cell_type": "code",
   "execution_count": null,
   "metadata": {},
   "outputs": [],
   "source": []
  },
  {
   "cell_type": "markdown",
   "metadata": {},
   "source": [
    "### Working with responses\n",
    "\n",
    "Now we've gotten a response from the API, and we've parsed it into a Python data structure that we know how to use (a dictionary). But now what do we do with it?\n",
    "\n",
    "Well, let's find the URL for the lyrics for Aretha Franklin's \"Respect,\" of course!\n",
    "\n",
    "Remember that we've already got song_title stored from way back up at the top: it's what we searched for:"
   ]
  },
  {
   "cell_type": "code",
   "execution_count": 7,
   "metadata": {},
   "outputs": [
    {
     "data": {
      "text/plain": [
       "'Respect'"
      ]
     },
     "execution_count": 7,
     "metadata": {},
     "output_type": "execute_result"
    }
   ],
   "source": [
    "song_title"
   ]
  },
  {
   "cell_type": "code",
   "execution_count": 9,
   "metadata": {},
   "outputs": [
    {
     "data": {
      "text/plain": [
       "'https://genius.com/Aretha-franklin-respect-lyrics'"
      ]
     },
     "execution_count": 9,
     "metadata": {},
     "output_type": "execute_result"
    }
   ],
   "source": [
    "artist=\"Aretha Franklin\" # you should already be thinking: how can I hook this up with the NYT article data...\n",
    "\n",
    "lyrics_url = \"\" # create an empty string to hold the url\n",
    "\n",
    "for song in data['response']['hits']: # loop through hits\n",
    "    if song['result']['primary_artist']['name'] == artist: # check for match w/ artist\n",
    "        lyrics_url = song['result']['url']  # if it matches, save the lyrics URL\n",
    "\n",
    "lyrics_url"
   ]
  },
  {
   "cell_type": "markdown",
   "metadata": {},
   "source": [
    "We've got our URL!"
   ]
  },
  {
   "cell_type": "markdown",
   "metadata": {},
   "source": [
    "**If time:**\n",
    "\n",
    "Let's write some pseudocode that links together the output of the NYT web scraping exercise with the Genius API to get lyrics URLS for each of the songs in the candidate playlist. \n",
    "    "
   ]
  },
  {
   "cell_type": "code",
   "execution_count": null,
   "metadata": {},
   "outputs": [],
   "source": []
  }
 ],
 "metadata": {
  "kernelspec": {
   "display_name": "Python 3",
   "language": "python",
   "name": "python3"
  },
  "language_info": {
   "codemirror_mode": {
    "name": "ipython",
    "version": 3
   },
   "file_extension": ".py",
   "mimetype": "text/x-python",
   "name": "python",
   "nbconvert_exporter": "python",
   "pygments_lexer": "ipython3",
   "version": "3.7.2"
  }
 },
 "nbformat": 4,
 "nbformat_minor": 1
}
