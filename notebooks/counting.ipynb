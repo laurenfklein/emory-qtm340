{
 "cells": [
  {
   "cell_type": "markdown",
   "metadata": {},
   "source": [
    "# Counting things\n",
    "\n",
    "By [Allison Parrish](http://www.decontextualize.com/)\n",
    "\n",
    "Counting how many times something occurs is a very common task in programming, so Python includes a special kind of object—a `Counter`—to make the task easier.\n",
    "\n",
    "To use the `Counter` object, you need to import it from the `collections` module."
   ]
  },
  {
   "cell_type": "code",
   "execution_count": 1,
   "metadata": {
    "collapsed": true
   },
   "outputs": [],
   "source": [
    "from collections import Counter"
   ]
  },
  {
   "cell_type": "markdown",
   "metadata": {},
   "source": [
    "To demonstrate the `Counter` object, consider the following list of letters:"
   ]
  },
  {
   "cell_type": "code",
   "execution_count": 2,
   "metadata": {
    "collapsed": true
   },
   "outputs": [],
   "source": [
    "letters = [\"a\", \"b\", \"c\", \"a\", \"a\", \"a\", \"b\", \"d\", \"e\", \"a\", \"b\", \"d\", \"d\"]"
   ]
  },
  {
   "cell_type": "markdown",
   "metadata": {},
   "source": [
    "Let's say that you wanted to know *how many times* each letter occurred. To do this in Python, just pass the list to the `Counter` object like so:"
   ]
  },
  {
   "cell_type": "code",
   "execution_count": 6,
   "metadata": {},
   "outputs": [
    {
     "data": {
      "text/plain": [
       "Counter({'a': 5, 'b': 3, 'c': 1, 'd': 3, 'e': 1})"
      ]
     },
     "execution_count": 6,
     "metadata": {},
     "output_type": "execute_result"
    }
   ],
   "source": [
    "count = Counter(letters)\n",
    "count"
   ]
  },
  {
   "cell_type": "markdown",
   "metadata": {},
   "source": [
    "Here we've assigned a `Counter` object to the variable `count` (although you can use whatever variable name you want, of course). Just evaluating the `count` object shows the counts for each of the items in the list, telling us (for example) that the letter `a` occurs five times, the letter `d` occurs three times, and so forth.\n",
    "\n",
    "You can get the count for a particular item in the `Counter` by using indexing syntax as though it were a dictionary:"
   ]
  },
  {
   "cell_type": "code",
   "execution_count": 9,
   "metadata": {},
   "outputs": [
    {
     "data": {
      "text/plain": [
       "5"
      ]
     },
     "execution_count": 9,
     "metadata": {},
     "output_type": "execute_result"
    }
   ],
   "source": [
    "count[\"a\"]"
   ]
  },
  {
   "cell_type": "markdown",
   "metadata": {},
   "source": [
    "The `.most_common()` method returns a list of tuples of the most common items in the counter, in descending order by number:"
   ]
  },
  {
   "cell_type": "code",
   "execution_count": 10,
   "metadata": {},
   "outputs": [
    {
     "data": {
      "text/plain": [
       "[('a', 5), ('b', 3), ('d', 3), ('c', 1), ('e', 1)]"
      ]
     },
     "execution_count": 10,
     "metadata": {},
     "output_type": "execute_result"
    }
   ],
   "source": [
    "count.most_common()"
   ]
  },
  {
   "cell_type": "markdown",
   "metadata": {},
   "source": [
    "## Counting words\n",
    "\n",
    "What are we going to count? Let's read in the contents of the first chapter of Genesis from the King James Version of the Bible. ([Download it from here](http://rwet.decontextualize.com/texts/genesis.txt) and make sure it's in the same directory as this notebook.)"
   ]
  },
  {
   "cell_type": "code",
   "execution_count": 11,
   "metadata": {
    "collapsed": true
   },
   "outputs": [],
   "source": [
    "text = open(\"genesis.txt\").read() # read the entire file in as a string\n",
    "words = text.split() # split it up into words"
   ]
  },
  {
   "cell_type": "markdown",
   "metadata": {},
   "source": [
    "Now, create a `Counter` object by calling `Counter()` with the list of things you want to count:"
   ]
  },
  {
   "cell_type": "code",
   "execution_count": 12,
   "metadata": {
    "collapsed": true
   },
   "outputs": [],
   "source": [
    "count = Counter(words)"
   ]
  },
  {
   "cell_type": "markdown",
   "metadata": {},
   "source": [
    "That's all you need to do! The `Counter` object has counted up all of the items in the list and stored them with their frequencies. We can get the most common twenty-five words by calling `.most_common()` with a parameter of `25`:"
   ]
  },
  {
   "cell_type": "code",
   "execution_count": 13,
   "metadata": {},
   "outputs": [
    {
     "data": {
      "text/plain": [
       "[('the', 108),\n",
       " ('and', 63),\n",
       " ('And', 33),\n",
       " ('God', 32),\n",
       " ('of', 20),\n",
       " ('was', 17),\n",
       " ('it', 15),\n",
       " ('that', 14),\n",
       " ('in', 13),\n",
       " ('every', 12),\n",
       " ('after', 11),\n",
       " ('to', 11),\n",
       " ('upon', 10),\n",
       " ('over', 10),\n",
       " ('said,', 9),\n",
       " ('his', 9),\n",
       " ('earth', 8),\n",
       " ('Let', 8),\n",
       " ('were', 8),\n",
       " ('waters', 8),\n",
       " ('be', 7),\n",
       " ('saw', 7),\n",
       " ('light', 7),\n",
       " ('firmament', 7),\n",
       " ('he', 6)]"
      ]
     },
     "execution_count": 13,
     "metadata": {},
     "output_type": "execute_result"
    }
   ],
   "source": [
    "count.most_common(25)"
   ]
  },
  {
   "cell_type": "markdown",
   "metadata": {},
   "source": [
    "As mentioned before, you can use the object as a dictionary to get the count for a particular value:"
   ]
  },
  {
   "cell_type": "code",
   "execution_count": 14,
   "metadata": {},
   "outputs": [
    {
     "data": {
      "text/plain": [
       "8"
      ]
     },
     "execution_count": 14,
     "metadata": {},
     "output_type": "execute_result"
    }
   ],
   "source": [
    "count['earth']"
   ]
  },
  {
   "cell_type": "markdown",
   "metadata": {},
   "source": [
    "You can iterate over this using a `for` loop to print out just the words:"
   ]
  },
  {
   "cell_type": "code",
   "execution_count": 16,
   "metadata": {},
   "outputs": [
    {
     "name": "stdout",
     "output_type": "stream",
     "text": [
      "the\n",
      "and\n",
      "And\n",
      "God\n",
      "of\n",
      "was\n",
      "it\n",
      "that\n",
      "in\n",
      "every\n"
     ]
    }
   ],
   "source": [
    "for word, number in count.most_common(10):\n",
    "    print(word)"
   ]
  },
  {
   "cell_type": "markdown",
   "metadata": {},
   "source": [
    "## Improving the counts\n",
    "\n",
    "The word counts returned from this procedure are a little bit weird, in that (a) they count instances of the same word with different cases separately (i.e., \"And\" and \"and\"); and (b) words with punctuation at the end are counted separately from words with no punctuation (i.e., \"day\" and \"day,\").\n",
    "\n",
    "To fix this problem, we want to \"clean\" our list of words. In this case, \"cleaning\" will consist of:\n",
    "\n",
    "* Convert all the words to lower case\n",
    "* Remove punctuation from the end of the string.\n",
    "\n",
    "On their own, these are easy operations. The `.lower()` method of a string returns a copy of the string with all letters in lower case:"
   ]
  },
  {
   "cell_type": "code",
   "execution_count": 17,
   "metadata": {},
   "outputs": [
    {
     "data": {
      "text/plain": [
       "'hello there, bob'"
      ]
     },
     "execution_count": 17,
     "metadata": {},
     "output_type": "execute_result"
    }
   ],
   "source": [
    "\"Hello there, Bob\".lower()"
   ]
  },
  {
   "cell_type": "markdown",
   "metadata": {},
   "source": [
    "And the \"strip\" method can be used to remove punctuation from the end of a string, like so:"
   ]
  },
  {
   "cell_type": "code",
   "execution_count": 18,
   "metadata": {},
   "outputs": [
    {
     "data": {
      "text/plain": [
       "'Okay'"
      ]
     },
     "execution_count": 18,
     "metadata": {},
     "output_type": "execute_result"
    }
   ],
   "source": [
    "\"Okay,\".strip(\",.;:\")"
   ]
  },
  {
   "cell_type": "markdown",
   "metadata": {},
   "source": [
    "Combine them into a single expression like so:"
   ]
  },
  {
   "cell_type": "code",
   "execution_count": 19,
   "metadata": {},
   "outputs": [
    {
     "data": {
      "text/plain": [
       "'okay'"
      ]
     },
     "execution_count": 19,
     "metadata": {},
     "output_type": "execute_result"
    }
   ],
   "source": [
    "\"Okay,\".lower().strip(\",.;:\")"
   ]
  },
  {
   "cell_type": "markdown",
   "metadata": {},
   "source": [
    "What we need to do is take the list of words and create a new list of words with these transformations applied. You can write this very succinctly with a list comprehension, but let's do it \"long hand\" so it's easier to understand:"
   ]
  },
  {
   "cell_type": "code",
   "execution_count": 20,
   "metadata": {},
   "outputs": [],
   "source": [
    "clean_words = []\n",
    "for item in words:\n",
    "    cleaned = item.lower().strip(\",.;:\")\n",
    "    clean_words.append(cleaned)"
   ]
  },
  {
   "cell_type": "markdown",
   "metadata": {},
   "source": [
    "Pass these to a new `Counter` object and here's the result:"
   ]
  },
  {
   "cell_type": "code",
   "execution_count": 21,
   "metadata": {},
   "outputs": [],
   "source": [
    "count = Counter(clean_words)"
   ]
  },
  {
   "cell_type": "code",
   "execution_count": 22,
   "metadata": {},
   "outputs": [
    {
     "data": {
      "text/plain": [
       "[('the', 108),\n",
       " ('and', 97),\n",
       " ('god', 32),\n",
       " ('earth', 21),\n",
       " ('of', 20),\n",
       " ('was', 17),\n",
       " ('it', 16),\n",
       " ('in', 14),\n",
       " ('let', 14),\n",
       " ('that', 14),\n",
       " ('every', 12),\n",
       " ('waters', 11),\n",
       " ('after', 11),\n",
       " ('to', 11),\n",
       " ('upon', 10),\n",
       " ('said', 10),\n",
       " ('light', 10),\n",
       " ('day', 10),\n",
       " ('kind', 10),\n",
       " ('over', 10),\n",
       " ('be', 9),\n",
       " ('firmament', 9),\n",
       " ('his', 9),\n",
       " ('were', 8),\n",
       " ('them', 8)]"
      ]
     },
     "execution_count": 22,
     "metadata": {},
     "output_type": "execute_result"
    }
   ],
   "source": [
    "count.most_common(25)"
   ]
  },
  {
   "cell_type": "markdown",
   "metadata": {},
   "source": [
    "## Removing stopwords\n",
    "\n",
    "The ten most common words are, according to the `Counter` object:"
   ]
  },
  {
   "cell_type": "code",
   "execution_count": 23,
   "metadata": {},
   "outputs": [
    {
     "data": {
      "text/plain": [
       "[('the', 108),\n",
       " ('and', 97),\n",
       " ('god', 32),\n",
       " ('earth', 21),\n",
       " ('of', 20),\n",
       " ('was', 17),\n",
       " ('it', 16),\n",
       " ('in', 14),\n",
       " ('let', 14),\n",
       " ('that', 14)]"
      ]
     },
     "execution_count": 23,
     "metadata": {},
     "output_type": "execute_result"
    }
   ],
   "source": [
    "count.most_common(10)"
   ]
  },
  {
   "cell_type": "markdown",
   "metadata": {},
   "source": [
    "Intuitively, it seems strange to count these words like \"the\" and \"and\" among the \"most common,\" because words like these are presumably common across *all* texts, not just this text in particular. To solve this problem, we can use \"stopwords\": a list of commonly-occurring English words that shouldn't be counted for the purpose of word frequency. No one exactly agrees on what this list should be, but here's one attempt (from [here](https://gist.github.com/sebleier/554280)):"
   ]
  },
  {
   "cell_type": "code",
   "execution_count": 24,
   "metadata": {
    "collapsed": true
   },
   "outputs": [],
   "source": [
    "stopwords = [\n",
    "    \"i\",\n",
    "    \"me\",\n",
    "    \"my\",\n",
    "    \"myself\",\n",
    "    \"we\",\n",
    "    \"our\",\n",
    "    \"ours\",\n",
    "    \"ourselves\",\n",
    "    \"you\",\n",
    "    \"your\",\n",
    "    \"yours\",\n",
    "    \"yourself\",\n",
    "    \"yourselves\",\n",
    "    \"he\",\n",
    "    \"him\",\n",
    "    \"his\",\n",
    "    \"himself\",\n",
    "    \"she\",\n",
    "    \"her\",\n",
    "    \"hers\",\n",
    "    \"herself\",\n",
    "    \"it\",\n",
    "    \"its\",\n",
    "    \"itself\",\n",
    "    \"they\",\n",
    "    \"them\",\n",
    "    \"their\",\n",
    "    \"theirs\",\n",
    "    \"themselves\",\n",
    "    \"what\",\n",
    "    \"which\",\n",
    "    \"who\",\n",
    "    \"whom\",\n",
    "    \"this\",\n",
    "    \"that\",\n",
    "    \"these\",\n",
    "    \"those\",\n",
    "    \"am\",\n",
    "    \"is\",\n",
    "    \"are\",\n",
    "    \"was\",\n",
    "    \"were\",\n",
    "    \"be\",\n",
    "    \"been\",\n",
    "    \"being\",\n",
    "    \"have\",\n",
    "    \"has\",\n",
    "    \"had\",\n",
    "    \"having\",\n",
    "    \"do\",\n",
    "    \"does\",\n",
    "    \"did\",\n",
    "    \"doing\",\n",
    "    \"a\",\n",
    "    \"an\",\n",
    "    \"the\",\n",
    "    \"and\",\n",
    "    \"but\",\n",
    "    \"if\",\n",
    "    \"or\",\n",
    "    \"because\",\n",
    "    \"as\",\n",
    "    \"until\",\n",
    "    \"while\",\n",
    "    \"of\",\n",
    "    \"at\",\n",
    "    \"by\",\n",
    "    \"for\",\n",
    "    \"with\",\n",
    "    \"about\",\n",
    "    \"against\",\n",
    "    \"between\",\n",
    "    \"into\",\n",
    "    \"through\",\n",
    "    \"during\",\n",
    "    \"before\",\n",
    "    \"after\",\n",
    "    \"above\",\n",
    "    \"below\",\n",
    "    \"to\",\n",
    "    \"from\",\n",
    "    \"up\",\n",
    "    \"down\",\n",
    "    \"in\",\n",
    "    \"out\",\n",
    "    \"on\",\n",
    "    \"off\",\n",
    "    \"over\",\n",
    "    \"under\",\n",
    "    \"again\",\n",
    "    \"further\",\n",
    "    \"then\",\n",
    "    \"once\",\n",
    "    \"here\",\n",
    "    \"there\",\n",
    "    \"when\",\n",
    "    \"where\",\n",
    "    \"why\",\n",
    "    \"how\",\n",
    "    \"all\",\n",
    "    \"any\",\n",
    "    \"both\",\n",
    "    \"each\",\n",
    "    \"few\",\n",
    "    \"more\",\n",
    "    \"most\",\n",
    "    \"other\",\n",
    "    \"some\",\n",
    "    \"such\",\n",
    "    \"no\",\n",
    "    \"nor\",\n",
    "    \"not\",\n",
    "    \"only\",\n",
    "    \"own\",\n",
    "    \"same\",\n",
    "    \"so\",\n",
    "    \"than\",\n",
    "    \"too\",\n",
    "    \"very\",\n",
    "    \"s\",\n",
    "    \"t\",\n",
    "    \"can\",\n",
    "    \"will\",\n",
    "    \"just\",\n",
    "    \"don\",\n",
    "    \"should\",\n",
    "    \"now\"\n",
    "]"
   ]
  },
  {
   "cell_type": "markdown",
   "metadata": {},
   "source": [
    "To make use of this list, we'll revise our loop from before. In addition to converting the strings to lower case and removing punctuation, we'll only add a word to the list if it isn't present in the `stopwords` list. Like so:"
   ]
  },
  {
   "cell_type": "code",
   "execution_count": 25,
   "metadata": {
    "collapsed": true
   },
   "outputs": [],
   "source": [
    "clean_words = []\n",
    "for item in words:\n",
    "    cleaned = item.lower().strip(\",.;:\")\n",
    "    if cleaned not in stopwords:\n",
    "        clean_words.append(cleaned)"
   ]
  },
  {
   "cell_type": "markdown",
   "metadata": {},
   "source": [
    "Now let's see what the most common words are:"
   ]
  },
  {
   "cell_type": "code",
   "execution_count": 26,
   "metadata": {},
   "outputs": [
    {
     "data": {
      "text/plain": [
       "[('god', 32),\n",
       " ('earth', 21),\n",
       " ('let', 14),\n",
       " ('every', 12),\n",
       " ('waters', 11),\n",
       " ('upon', 10),\n",
       " ('said', 10),\n",
       " ('light', 10),\n",
       " ('day', 10),\n",
       " ('kind', 10)]"
      ]
     },
     "execution_count": 26,
     "metadata": {},
     "output_type": "execute_result"
    }
   ],
   "source": [
    "count = Counter(clean_words)\n",
    "count.most_common(10)"
   ]
  },
  {
   "cell_type": "markdown",
   "metadata": {},
   "source": [
    "Much better!"
   ]
  },
  {
   "cell_type": "markdown",
   "metadata": {},
   "source": [
    "## More applications of Counter\n",
    "\n",
    "But you can do more than just count words with the `Counter` object! You can pass any list-like thing, including a string, to the `Counter` object. In the following example, we simply read in the entire text of `genesis.txt` as a string and pass it to the `Counter` object:"
   ]
  },
  {
   "cell_type": "code",
   "execution_count": 28,
   "metadata": {
    "collapsed": true
   },
   "outputs": [],
   "source": [
    "count = Counter(open(\"genesis.txt\").read())"
   ]
  },
  {
   "cell_type": "markdown",
   "metadata": {},
   "source": [
    "This `Counter` object tells us how often each *character* occurs in the text:"
   ]
  },
  {
   "cell_type": "code",
   "execution_count": 30,
   "metadata": {},
   "outputs": [
    {
     "data": {
      "text/plain": [
       "[(' ', 797),\n",
       " ('e', 450),\n",
       " ('t', 339),\n",
       " ('a', 267),\n",
       " ('h', 255),\n",
       " ('n', 233),\n",
       " ('d', 232),\n",
       " ('i', 195),\n",
       " ('r', 186),\n",
       " ('o', 167),\n",
       " ('s', 128),\n",
       " ('f', 87),\n",
       " ('l', 86),\n",
       " ('g', 82),\n",
       " (',', 68),\n",
       " ('m', 65),\n",
       " ('w', 62),\n",
       " ('v', 59),\n",
       " ('u', 44),\n",
       " ('y', 42),\n",
       " ('.', 33),\n",
       " ('A', 33),\n",
       " ('G', 32),\n",
       " ('c', 31),\n",
       " ('\\n', 31)]"
      ]
     },
     "execution_count": 30,
     "metadata": {},
     "output_type": "execute_result"
    }
   ],
   "source": [
    "count.most_common(25)"
   ]
  },
  {
   "cell_type": "markdown",
   "metadata": {},
   "source": [
    "This type of analysis works better for Chinese text:"
   ]
  },
  {
   "cell_type": "code",
   "execution_count": 32,
   "metadata": {
    "collapsed": true
   },
   "outputs": [],
   "source": [
    "count = Counter(open(\"xu_zhimo.txt\").read())"
   ]
  },
  {
   "cell_type": "code",
   "execution_count": 34,
   "metadata": {},
   "outputs": [
    {
     "data": {
      "text/plain": [
       "[('\\n', 585),\n",
       " ('，', 332),\n",
       " ('的', 302),\n",
       " ('我', 156),\n",
       " ('一', 105),\n",
       " ('你', 90),\n",
       " ('在', 89),\n",
       " ('是', 78),\n",
       " ('不', 64),\n",
       " (' ', 62),\n",
       " ('！', 59),\n",
       " ('。', 56),\n",
       " ('—', 54),\n",
       " ('了', 53),\n",
       " ('这', 51),\n",
       " ('里', 43),\n",
       " ('着', 42),\n",
       " ('上', 41),\n",
       " ('；', 36),\n",
       " ('那', 33),\n",
       " ('－', 33),\n",
       " ('有', 29),\n",
       " ('天', 27),\n",
       " ('她', 25),\n",
       " ('个', 25)]"
      ]
     },
     "execution_count": 34,
     "metadata": {},
     "output_type": "execute_result"
    }
   ],
   "source": [
    "count.most_common(25)"
   ]
  },
  {
   "cell_type": "markdown",
   "metadata": {},
   "source": [
    "Counter objects don't have to count strings. You can also use them to build up a histogram from numerical data. For example, take the following list of numbers:"
   ]
  },
  {
   "cell_type": "code",
   "execution_count": 38,
   "metadata": {
    "collapsed": true
   },
   "outputs": [],
   "source": [
    "readings = [23, 14, 22, 24, 15, 21, 18, 16, 10, 14, 20, 26, 17, 14, 17, 30, 20, 20, 16, 14]"
   ]
  },
  {
   "cell_type": "markdown",
   "metadata": {},
   "source": [
    "You can pass this list to a Counter object the same way you would with any list:"
   ]
  },
  {
   "cell_type": "code",
   "execution_count": 39,
   "metadata": {
    "collapsed": true
   },
   "outputs": [],
   "source": [
    "count = Counter(readings)"
   ]
  },
  {
   "cell_type": "code",
   "execution_count": 41,
   "metadata": {},
   "outputs": [
    {
     "data": {
      "text/plain": [
       "[(14, 4),\n",
       " (20, 3),\n",
       " (16, 2),\n",
       " (17, 2),\n",
       " (23, 1),\n",
       " (22, 1),\n",
       " (24, 1),\n",
       " (15, 1),\n",
       " (21, 1),\n",
       " (18, 1),\n",
       " (10, 1),\n",
       " (26, 1),\n",
       " (30, 1)]"
      ]
     },
     "execution_count": 41,
     "metadata": {},
     "output_type": "execute_result"
    }
   ],
   "source": [
    "count.most_common()"
   ]
  },
  {
   "cell_type": "markdown",
   "metadata": {},
   "source": [
    "It's maybe a little weird, but you can find the number of times that a particular number occurs using the same dictionary-like syntax as before:"
   ]
  },
  {
   "cell_type": "code",
   "execution_count": 43,
   "metadata": {},
   "outputs": [
    {
     "data": {
      "text/plain": [
       "2"
      ]
     },
     "execution_count": 43,
     "metadata": {},
     "output_type": "execute_result"
    }
   ],
   "source": [
    "count[17]"
   ]
  },
  {
   "cell_type": "markdown",
   "metadata": {},
   "source": [
    "In this case the number `17` is behaving like a dictionary key, not like a numerical index."
   ]
  },
  {
   "cell_type": "markdown",
   "metadata": {},
   "source": [
    "> EXERCISE: Use a `Counter` object to find out how many words beginning with the letter `a` occur in `genesis.txt`."
   ]
  }
 ],
 "metadata": {
  "kernelspec": {
   "display_name": "Python 3",
   "language": "python",
   "name": "python3"
  },
  "language_info": {
   "codemirror_mode": {
    "name": "ipython",
    "version": 3
   },
   "file_extension": ".py",
   "mimetype": "text/x-python",
   "name": "python",
   "nbconvert_exporter": "python",
   "pygments_lexer": "ipython3",
   "version": "3.6.1"
  }
 },
 "nbformat": 4,
 "nbformat_minor": 1
}
