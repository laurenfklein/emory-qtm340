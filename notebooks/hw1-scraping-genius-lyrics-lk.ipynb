{
 "cells": [
  {
   "cell_type": "markdown",
   "metadata": {},
   "source": [
    "## Scraping song lyrics from the Genius.com ##\n",
    "\n",
    "This notebook contains the Python code described on my blog in the [scraping genius lyrics post](http://www.johnwmillr.com/blog/2017/scraping-genius-lyrics).\n",
    "\n",
    "Head over to my [GitHub repository](https://github.com/johnwmillr/geniusapi) to clone my Python wrapper.\n"
   ]
  },
  {
   "cell_type": "markdown",
   "metadata": {},
   "source": [
    "## Genius API ##"
   ]
  },
  {
   "cell_type": "code",
   "execution_count": 1,
   "metadata": {},
   "outputs": [],
   "source": [
    "# Sign up for a free account at Genius.com to access the API\n",
    "# http://genius.com/api-clients\n",
    "client_access_token = '' # ADD IN TOKEN HERE"
   ]
  },
  {
   "cell_type": "code",
   "execution_count": 2,
   "metadata": {},
   "outputs": [
    {
     "ename": "ModuleNotFoundError",
     "evalue": "No module named 'urllib2'",
     "output_type": "error",
     "traceback": [
      "\u001b[0;31m---------------------------------------------------------------------------\u001b[0m",
      "\u001b[0;31mModuleNotFoundError\u001b[0m                       Traceback (most recent call last)",
      "\u001b[0;32m<ipython-input-2-eb2fb7aebb17>\u001b[0m in \u001b[0;36m<module>\u001b[0;34m()\u001b[0m\n\u001b[1;32m      1\u001b[0m \u001b[0;31m# Let's take a look at how we might search for an artist using the Genius API.\u001b[0m\u001b[0;34m\u001b[0m\u001b[0;34m\u001b[0m\u001b[0m\n\u001b[1;32m      2\u001b[0m \u001b[0;32mimport\u001b[0m \u001b[0mrequests\u001b[0m\u001b[0;34m\u001b[0m\u001b[0m\n\u001b[0;32m----> 3\u001b[0;31m \u001b[0;32mimport\u001b[0m \u001b[0murllib2\u001b[0m\u001b[0;34m\u001b[0m\u001b[0m\n\u001b[0m\u001b[1;32m      4\u001b[0m \u001b[0;34m\u001b[0m\u001b[0m\n\u001b[1;32m      5\u001b[0m \u001b[0;31m# Format a request URL for the Genius API\u001b[0m\u001b[0;34m\u001b[0m\u001b[0;34m\u001b[0m\u001b[0m\n",
      "\u001b[0;31mModuleNotFoundError\u001b[0m: No module named 'urllib2'"
     ]
    }
   ],
   "source": [
    "# Let's take a look at how we might search for an artist using the Genius API.\n",
    "import requests\n",
    "\n",
    "# Format a request URL for the Genius API\n",
    "search_term = 'Andy Shauf'\n",
    "_URL_API = \"https://api.genius.com/\"\n",
    "_URL_SEARCH = \"search?q=\"\n",
    "querystring = _URL_API + _URL_SEARCH + requote_uri(search_term)\n",
    "\n",
    "# request = urllib2.Request(querystring)\n",
    "request \n",
    "\n",
    "request.add_header(\"Authorization\", \"Bearer \" + client_access_token)\n",
    "# request.add_header(\"User-Agent\",\"curl/7.9.8 (i686-pc-linux-gnu) libcurl 7.9.8 (OpnSSL 0.9.6b) (ipv6 enabled)\")\n",
    "request.add_header(\"User-Agent\", \"\")"
   ]
  },
  {
   "cell_type": "code",
   "execution_count": 139,
   "metadata": {},
   "outputs": [],
   "source": [
    "# Now that we’ve formatted the URL, we can make a request to the database.\n",
    "import json\n",
    "response = urllib2.urlopen(request, timeout=3)\n",
    "raw = response.read()\n",
    "json_obj = json.loads(raw)"
   ]
  },
  {
   "cell_type": "code",
   "execution_count": 140,
   "metadata": {},
   "outputs": [
    {
     "data": {
      "text/plain": [
       "dict_keys([u'meta', u'response'])"
      ]
     },
     "execution_count": 140,
     "metadata": {},
     "output_type": "execute_result"
    }
   ],
   "source": [
    "# The JSON object is just a normal python dictionary\n",
    "json_obj.viewkeys()"
   ]
  },
  {
   "cell_type": "code",
   "execution_count": 141,
   "metadata": {},
   "outputs": [
    {
     "data": {
      "text/plain": [
       "[u'song_art_image_thumbnail_url',\n",
       " u'api_path',\n",
       " u'stats',\n",
       " u'lyrics_state',\n",
       " u'title',\n",
       " u'pyongs_count',\n",
       " u'lyrics_owner_id',\n",
       " u'url',\n",
       " u'full_title',\n",
       " u'title_with_featured',\n",
       " u'header_image_thumbnail_url',\n",
       " u'path',\n",
       " u'primary_artist',\n",
       " u'annotation_count',\n",
       " u'id',\n",
       " u'header_image_url']"
      ]
     },
     "execution_count": 141,
     "metadata": {},
     "output_type": "execute_result"
    }
   ],
   "source": [
    "# The 'hits` key stores info on each song in the search result.\n",
    "# From here it's easy to grab the song title, album, etc.\n",
    "\n",
    "# List each key contained within a single search hit\n",
    "[key for key in json_obj['response']['hits'][0]['result']]"
   ]
  },
  {
   "cell_type": "code",
   "execution_count": 94,
   "metadata": {},
   "outputs": [
    {
     "data": {
      "text/plain": [
       "[u'The Magician',\n",
       " u'Wendell Walker',\n",
       " u\"You're Out Wasting\",\n",
       " u'To You',\n",
       " u'Quite Like You',\n",
       " u'Early to the Party',\n",
       " u'Twist Your Ankle',\n",
       " u'The Worst In You',\n",
       " u'Hometown Hero',\n",
       " u'Lick Your Wounds']"
      ]
     },
     "execution_count": 94,
     "metadata": {},
     "output_type": "execute_result"
    }
   ],
   "source": [
    "# View the song name for each search hit\n",
    "[song['result']['title'] for song in json_obj['response']['hits']]"
   ]
  },
  {
   "cell_type": "code",
   "execution_count": 95,
   "metadata": {},
   "outputs": [
    {
     "name": "stdout",
     "output_type": "stream",
     "text": [
      "https://images.genius.com/16423bad48ffd400aac3ba86d5b86ed4.850x850x1.jpg\n"
     ]
    }
   ],
   "source": [
    "# URL to artist image\n",
    "print(json_obj['response']['hits'][0]['result']['primary_artist']['image_url'])"
   ]
  },
  {
   "cell_type": "markdown",
   "metadata": {},
   "source": [
    "<img src=\"https://images.genius.com/16423bad48ffd400aac3ba86d5b86ed4.850x850x1.jpg\" style=\"width: 200px;\"/> "
   ]
  },
  {
   "cell_type": "markdown",
   "metadata": {},
   "source": [
    "### Access a song or artist directly by ID ###"
   ]
  },
  {
   "cell_type": "code",
   "execution_count": 161,
   "metadata": {},
   "outputs": [
    {
     "name": "stdout",
     "output_type": "stream",
     "text": [
      "(u'All I Want', u'Joni Mitchell')\n"
     ]
    }
   ],
   "source": [
    "# If you have an artist or song ID, you can access that entry \n",
    "# directly by reformatting the request URL.\n",
    "song_id = 82926\n",
    "querystring = \"https://api.genius.com/songs/\" + str(song_id)\n",
    "request = urllib2.Request(querystring)\n",
    "request.add_header(\"Authorization\", \"Bearer \" + client_access_token)\n",
    "request.add_header(\"User-Agent\", \"\")\n",
    "response = urllib2.urlopen(request, timeout=3)\n",
    "raw = response.read()\n",
    "json_obj = json.loads(raw)\n",
    "print((json_obj['response']['song']['title'],\\\n",
    "       json_obj['response']['song']['primary_artist']['name']))"
   ]
  },
  {
   "cell_type": "markdown",
   "metadata": {},
   "source": [
    "### Scrape song lyrics ###"
   ]
  },
  {
   "cell_type": "code",
   "execution_count": 165,
   "metadata": {},
   "outputs": [
    {
     "name": "stdout",
     "output_type": "stream",
     "text": [
      "\n",
      "\n",
      "[Verse 1]\n",
      "Do you find\n",
      "It gets a little easier each time you make it disappear?\n",
      "Oh fools, the magician bends the rules\n",
      "As the crowd watches his every...\n"
     ]
    }
   ],
   "source": [
    "from bs4 import BeautifulSoup\n",
    "import re\n",
    "URL = 'https://genius.com/Andy-shauf-the-magician-lyrics'\n",
    "page = requests.get(URL)    \n",
    "html = BeautifulSoup(page.text, \"html.parser\") # Extract the page's HTML as a string\n",
    "\n",
    "# Scrape the song lyrics from the HTML\n",
    "lyrics = html.find(\"div\", class_=\"lyrics\").get_text().encode('ascii','ignore')\n",
    "# lyrics = re.sub('\\[.*\\]','',lyrics) # Remove [Verse] and [Bridge] stuff\n",
    "# lyrics = re.sub('\\n{2}','',lyrics)  # Remove gaps between verses        \n",
    "# lyrics = str(lyrics).strip('\\n')\n",
    "print(lyrics[:150]+'...')"
   ]
  },
  {
   "cell_type": "markdown",
   "metadata": {},
   "source": [
    "## Python wrapper ##\n",
    "You may need to run this code from the Terminal after cloning the repo\n",
    "https://github.com/johnwmillr/geniusapi"
   ]
  },
  {
   "cell_type": "code",
   "execution_count": null,
   "metadata": {
    "collapsed": true
   },
   "outputs": [],
   "source": [
    "# Create an instance of the API interface\n",
    "import genius\n",
    "api = genius.Genius()"
   ]
  },
  {
   "cell_type": "code",
   "execution_count": null,
   "metadata": {
    "collapsed": true
   },
   "outputs": [],
   "source": [
    "# Search for an artist\n",
    "artist = G.search_artist('Andy Shauf', max_songs=5)\n",
    "print(artist)"
   ]
  },
  {
   "cell_type": "code",
   "execution_count": null,
   "metadata": {
    "collapsed": true
   },
   "outputs": [],
   "source": [
    "# Search for a specific song\n",
    "song = G.search_song('Wendell Walker', artist.name)\n",
    "artist.add_song(song)\n",
    "print(artist)\n",
    "print(artist.songs[0])"
   ]
  }
 ],
 "metadata": {
  "kernelspec": {
   "display_name": "Python 3",
   "language": "python",
   "name": "python3"
  },
  "language_info": {
   "codemirror_mode": {
    "name": "ipython",
    "version": 3
   },
   "file_extension": ".py",
   "mimetype": "text/x-python",
   "name": "python",
   "nbconvert_exporter": "python",
   "pygments_lexer": "ipython3",
   "version": "3.7.0"
  }
 },
 "nbformat": 4,
 "nbformat_minor": 2
}
