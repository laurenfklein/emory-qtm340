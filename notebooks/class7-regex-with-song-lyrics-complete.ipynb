{
 "cells": [
  {
   "cell_type": "markdown",
   "metadata": {},
   "source": [
    "## Cleaning Your Song Lyrics with Regex (and more Beautiful Soup)\n",
    "\n",
    "As part of the homework due today, you did something like this:"
   ]
  },
  {
   "cell_type": "code",
   "execution_count": 10,
   "metadata": {},
   "outputs": [],
   "source": [
    "# get the text of some song lyrics\n",
    "import requests \n",
    "\n",
    "resp = requests.get(\"https://genius.com/Aretha-franklin-respect-lyrics\") \n",
    "html_str = resp.text"
   ]
  },
  {
   "cell_type": "code",
   "execution_count": 11,
   "metadata": {},
   "outputs": [],
   "source": [
    "# use BeautifulSoup to find the lyrics tag on the page\n",
    "\n",
    "from bs4 import BeautifulSoup\n",
    "document = BeautifulSoup(html_str, \"html.parser\")\n",
    "lyrics_div = document.find('div', attrs={'class': 'lyrics'})"
   ]
  },
  {
   "cell_type": "markdown",
   "metadata": {},
   "source": [
    "And you ended up with something that looked like this:"
   ]
  },
  {
   "cell_type": "code",
   "execution_count": 12,
   "metadata": {},
   "outputs": [
    {
     "data": {
      "text/plain": [
       "<div class=\"lyrics\">\n",
       "<!--sse-->\n",
       "<p><a annotation-fragment=\"5055050\" class=\"referent\" classification=\"verified\" data-id=\"5055050\" href=\"/Aretha-franklin-respect-lyrics#note-5055050\" image=\"false\" ng-class=\"{\n",
       "          'referent--linked_to_preview': song_ctrl.referent_has_preview(fragment_id),\n",
       "          'referent--linked_to_preview_active': song_ctrl.highlight_preview_referent(fragment_element_id),\n",
       "          'referent--purple_indicator': song_ctrl.show_preview_referent_indicator(fragment_element_id)\n",
       "        }\" ng-click=\"open()\" on-hover-with-no-digest=\"set_current_hover_and_digest(hover ? fragment_id : undefined)\" pending-editorial-actions-count=\"0\" prevent-default-click=\"\" verified-annotator-ids=\"27144\">[Written by Otis Redding]</a><br/>\n",
       "<br/>\n",
       "[Verse 1]<br/>\n",
       "<a annotation-fragment=\"5394087\" class=\"referent\" classification=\"accepted\" data-id=\"5394087\" href=\"/Aretha-franklin-respect-lyrics#note-5394087\" image=\"false\" ng-class=\"{\n",
       "          'referent--linked_to_preview': song_ctrl.referent_has_preview(fragment_id),\n",
       "          'referent--linked_to_preview_active': song_ctrl.highlight_preview_referent(fragment_element_id),\n",
       "          'referent--purple_indicator': song_ctrl.show_preview_referent_indicator(fragment_element_id)\n",
       "        }\" ng-click=\"open()\" on-hover-with-no-digest=\"set_current_hover_and_digest(hover ? fragment_id : undefined)\" pending-editorial-actions-count=\"0\" prevent-default-click=\"\">What you want, baby, I got it<br/>\n",
       "What you need, do you know I got it?</a><br/>\n",
       "<br/>\n",
       "[Chorus]<br/>\n",
       "All I'm askin' is for a little respect when you come home<br/>\n",
       "(Just a little bit) Hey baby<br/>\n",
       "(Just a little bit) when you get home<br/>\n",
       "(Just a little bit) mister<br/>\n",
       "(Just a little bit)<br/>\n",
       "<br/>\n",
       "[Verse 2]<br/>\n",
       "<a annotation-fragment=\"10449041\" class=\"referent\" classification=\"accepted\" data-id=\"10449041\" href=\"/Aretha-franklin-respect-lyrics#note-10449041\" image=\"false\" ng-class=\"{\n",
       "          'referent--linked_to_preview': song_ctrl.referent_has_preview(fragment_id),\n",
       "          'referent--linked_to_preview_active': song_ctrl.highlight_preview_referent(fragment_element_id),\n",
       "          'referent--purple_indicator': song_ctrl.show_preview_referent_indicator(fragment_element_id)\n",
       "        }\" ng-click=\"open()\" on-hover-with-no-digest=\"set_current_hover_and_digest(hover ? fragment_id : undefined)\" pending-editorial-actions-count=\"0\" prevent-default-click=\"\">I ain't gonna do you wrong while you're gone<br/>\n",
       "Ain't gon' do you wrong 'cause I don't wanna</a><br/>\n",
       "<br/>\n",
       "[Chorus]<br/>\n",
       "All I'm askin' is for a little respect when you come home<br/>\n",
       "(Just a little bit) Baby<br/>\n",
       "(Just a little bit) When you get home<br/>\n",
       "(Just a little bit) Yeah<br/>\n",
       "(Just a little bit)<br/>\n",
       "<br/>\n",
       "[Verse 3]<br/>\n",
       "I'm about to give you all of my money<br/>\n",
       "And all I'm askin' in return, honey<br/>\n",
       "<a annotation-fragment=\"4592372\" class=\"referent\" classification=\"accepted\" data-id=\"4592372\" href=\"/Aretha-franklin-respect-lyrics#note-4592372\" image=\"false\" ng-class=\"{\n",
       "          'referent--linked_to_preview': song_ctrl.referent_has_preview(fragment_id),\n",
       "          'referent--linked_to_preview_active': song_ctrl.highlight_preview_referent(fragment_element_id),\n",
       "          'referent--purple_indicator': song_ctrl.show_preview_referent_indicator(fragment_element_id)\n",
       "        }\" ng-click=\"open()\" on-hover-with-no-digest=\"set_current_hover_and_digest(hover ? fragment_id : undefined)\" pending-editorial-actions-count=\"0\" prevent-default-click=\"\">Is to give me my propers when you get home</a><br/>\n",
       "<br/>\n",
       "[Refrain]<br/>\n",
       "(Just a, just a, just a, just a) Yeah, baby<br/>\n",
       "(Just a, just a, just a, just a) When you get home<br/>\n",
       "(Just a little bit) Yeah<br/>\n",
       "(Just a little bit)<br/>\n",
       "<br/>\n",
       "[Verse 4]<br/>\n",
       "<a annotation-fragment=\"10448977\" class=\"referent\" classification=\"accepted\" data-id=\"10448977\" href=\"/Aretha-franklin-respect-lyrics#note-10448977\" image=\"false\" ng-class=\"{\n",
       "          'referent--linked_to_preview': song_ctrl.referent_has_preview(fragment_id),\n",
       "          'referent--linked_to_preview_active': song_ctrl.highlight_preview_referent(fragment_element_id),\n",
       "          'referent--purple_indicator': song_ctrl.show_preview_referent_indicator(fragment_element_id)\n",
       "        }\" ng-click=\"open()\" on-hover-with-no-digest=\"set_current_hover_and_digest(hover ? fragment_id : undefined)\" pending-editorial-actions-count=\"0\" prevent-default-click=\"\">Ooh, your kisses, sweeter than honey<br/>\n",
       "And guess what? So is my money</a><br/>\n",
       "<br/>\n",
       "[Chorus 2]<br/>\n",
       "All I want you to do for me, is give it to me when you get home<br/>\n",
       "(Re, re, re ,re) Yeah baby<br/>\n",
       "(Re, re, re ,re) Whip it to me<br/>\n",
       "(Respect, just a little bit) When you get home, now<br/>\n",
       "(Just a little bit)<br/>\n",
       "<br/>\n",
       "[Verse 5]<br/>\n",
       "R-E-S-P-E-C-T, find out what it means to me<br/>\n",
       "<a annotation-fragment=\"88690\" class=\"referent\" classification=\"accepted\" data-id=\"88690\" href=\"/Aretha-franklin-respect-lyrics#note-88690\" image=\"false\" ng-class=\"{\n",
       "          'referent--linked_to_preview': song_ctrl.referent_has_preview(fragment_id),\n",
       "          'referent--linked_to_preview_active': song_ctrl.highlight_preview_referent(fragment_element_id),\n",
       "          'referent--purple_indicator': song_ctrl.show_preview_referent_indicator(fragment_element_id)\n",
       "        }\" ng-click=\"open()\" on-hover-with-no-digest=\"set_current_hover_and_digest(hover ? fragment_id : undefined)\" pending-editorial-actions-count=\"5\" prevent-default-click=\"\">R-E-S-P-E-C-T, take care, TCB, oh</a><br/>\n",
       "<br/>\n",
       "[Outro]<br/>\n",
       "(Sock it to me, sock it to me, sock it to me, sock it to me)<br/>\n",
       "A little respect<br/>\n",
       "(sock it to me, sock it to me, sock it to me, sock it to me)<br/>\n",
       "Whoa, babe<br/>\n",
       "(Just a little bit) A little respect<br/>\n",
       "(Just a little bit) I get tired<br/>\n",
       "(Just a little bit) Keep on tryin'<br/>\n",
       "<a annotation-fragment=\"8462854\" class=\"referent\" classification=\"accepted\" data-id=\"8462854\" href=\"/Aretha-franklin-respect-lyrics#note-8462854\" image=\"false\" ng-class=\"{\n",
       "          'referent--linked_to_preview': song_ctrl.referent_has_preview(fragment_id),\n",
       "          'referent--linked_to_preview_active': song_ctrl.highlight_preview_referent(fragment_element_id),\n",
       "          'referent--purple_indicator': song_ctrl.show_preview_referent_indicator(fragment_element_id)\n",
       "        }\" ng-click=\"open()\" on-hover-with-no-digest=\"set_current_hover_and_digest(hover ? fragment_id : undefined)\" pending-editorial-actions-count=\"0\" prevent-default-click=\"\">(Just a little bit) You're runnin' out of fools</a><br/>\n",
       "(Just a little bit) And I ain't lyin'<br/>\n",
       "(Just a little bit)<br/>\n",
       "(Re, re, re, re) Start when you come home<br/>\n",
       "(Re, re, re, respect) Or you might walk in<br/>\n",
       "(Just a little bit) And find out I'm gone<br/>\n",
       "(Just a little bit) I gotta have<br/>\n",
       "(Just a little bit) A little respect<br/>\n",
       "(Just a little bit)</p>\n",
       "<!--/sse-->\n",
       "</div>"
      ]
     },
     "execution_count": 12,
     "metadata": {},
     "output_type": "execute_result"
    }
   ],
   "source": [
    "lyrics_div"
   ]
  },
  {
   "cell_type": "markdown",
   "metadata": {},
   "source": [
    "There is one more helpful Beautiful Soup function that we can use to extract the contents from the html: **the `get_text` function.**\n",
    "\n",
    "This is a smarter version of the `.text` method we've been using to date.\n",
    "\n",
    "`get_text` returns all the text in a document or-- crucially for us-- beneath the specified tag-- as a single string.\n",
    "\n",
    "Behold!"
   ]
  },
  {
   "cell_type": "code",
   "execution_count": 13,
   "metadata": {},
   "outputs": [
    {
     "data": {
      "text/plain": [
       "\"\\n\\n[Written by Otis Redding]\\n\\n[Verse 1]\\nWhat you want, baby, I got it\\nWhat you need, do you know I got it?\\n\\n[Chorus]\\nAll I'm askin' is for a little respect when you come home\\n(Just a little bit) Hey baby\\n(Just a little bit) when you get home\\n(Just a little bit) mister\\n(Just a little bit)\\n\\n[Verse 2]\\nI ain't gonna do you wrong while you're gone\\nAin't gon' do you wrong 'cause I don't wanna\\n\\n[Chorus]\\nAll I'm askin' is for a little respect when you come home\\n(Just a little bit) Baby\\n(Just a little bit) When you get home\\n(Just a little bit) Yeah\\n(Just a little bit)\\n\\n[Verse 3]\\nI'm about to give you all of my money\\nAnd all I'm askin' in return, honey\\nIs to give me my propers when you get home\\n\\n[Refrain]\\n(Just a, just a, just a, just a) Yeah, baby\\n(Just a, just a, just a, just a) When you get home\\n(Just a little bit) Yeah\\n(Just a little bit)\\n\\n[Verse 4]\\nOoh, your kisses, sweeter than honey\\nAnd guess what? So is my money\\n\\n[Chorus 2]\\nAll I want you to do for me, is give it to me when you get home\\n(Re, re, re ,re) Yeah baby\\n(Re, re, re ,re) Whip it to me\\n(Respect, just a little bit) When you get home, now\\n(Just a little bit)\\n\\n[Verse 5]\\nR-E-S-P-E-C-T, find out what it means to me\\nR-E-S-P-E-C-T, take care, TCB, oh\\n\\n[Outro]\\n(Sock it to me, sock it to me, sock it to me, sock it to me)\\nA little respect\\n(sock it to me, sock it to me, sock it to me, sock it to me)\\nWhoa, babe\\n(Just a little bit) A little respect\\n(Just a little bit) I get tired\\n(Just a little bit) Keep on tryin'\\n(Just a little bit) You're runnin' out of fools\\n(Just a little bit) And I ain't lyin'\\n(Just a little bit)\\n(Re, re, re, re) Start when you come home\\n(Re, re, re, respect) Or you might walk in\\n(Just a little bit) And find out I'm gone\\n(Just a little bit) I gotta have\\n(Just a little bit) A little respect\\n(Just a little bit)\\n\\n\""
      ]
     },
     "execution_count": 13,
     "metadata": {},
     "output_type": "execute_result"
    }
   ],
   "source": [
    "lyrics = lyrics_div.get_text()\n",
    "\n",
    "lyrics"
   ]
  },
  {
   "cell_type": "markdown",
   "metadata": {},
   "source": [
    "This is pretty good. But It's still not perfect.\n",
    "\n",
    "What are some problems with this text?"
   ]
  },
  {
   "cell_type": "code",
   "execution_count": null,
   "metadata": {},
   "outputs": [],
   "source": [
    "# show as file -- messy_lyrics \n",
    "\n",
    "# extra newlines, indications of chorus, author, etc. "
   ]
  },
  {
   "cell_type": "code",
   "execution_count": 17,
   "metadata": {},
   "outputs": [],
   "source": []
  },
  {
   "cell_type": "code",
   "execution_count": null,
   "metadata": {},
   "outputs": [],
   "source": []
  },
  {
   "cell_type": "markdown",
   "metadata": {},
   "source": [
    "This is where regex comes in very handy.\n",
    "\n",
    "Let's start by removing those extra newlines at the start of the string.\n",
    "\n",
    "**Which of the functions that we've discussed in class today should we use to remove them?**"
   ]
  },
  {
   "cell_type": "code",
   "execution_count": null,
   "metadata": {},
   "outputs": [],
   "source": [
    "# re.sub "
   ]
  },
  {
   "cell_type": "code",
   "execution_count": null,
   "metadata": {},
   "outputs": [],
   "source": []
  },
  {
   "cell_type": "code",
   "execution_count": null,
   "metadata": {},
   "outputs": [],
   "source": []
  },
  {
   "cell_type": "markdown",
   "metadata": {},
   "source": [
    "Remember that re.sub takes the format:\n",
    "\n",
    "`newstring = re.sub(pattern, replacement, original_string`\n",
    "\n",
    "In our case, we can do something like:\n",
    "\n",
    "`cleaner_lyrics = re.sub(pattern, \"\", lyrics)`\n",
    "\n",
    "**But what goes in the pattern?**\n",
    "\n",
    "Hints:\n",
    "* a newline (`\\n`) is the same in regex \n",
    "* `^` before the square brackets matches the start of a string\n",
    "* `{}` with a number inside indicates the number of chars to match"
   ]
  },
  {
   "cell_type": "code",
   "execution_count": 14,
   "metadata": {},
   "outputs": [
    {
     "data": {
      "text/plain": [
       "\"[Written by Otis Redding]\\n\\n[Verse 1]\\nWhat you want, baby, I got it\\nWhat you need, do you know I got it?\\n\\n[Chorus]\\nAll I'm askin' is for a little respect when you come home\\n(Just a little bit) Hey baby\\n(Just a little bit) when you get home\\n(Just a little bit) mister\\n(Just a little bit)\\n\\n[Verse 2]\\nI ain't gonna do you wrong while you're gone\\nAin't gon' do you wrong 'cause I don't wanna\\n\\n[Chorus]\\nAll I'm askin' is for a little respect when you come home\\n(Just a little bit) Baby\\n(Just a little bit) When you get home\\n(Just a little bit) Yeah\\n(Just a little bit)\\n\\n[Verse 3]\\nI'm about to give you all of my money\\nAnd all I'm askin' in return, honey\\nIs to give me my propers when you get home\\n\\n[Refrain]\\n(Just a, just a, just a, just a) Yeah, baby\\n(Just a, just a, just a, just a) When you get home\\n(Just a little bit) Yeah\\n(Just a little bit)\\n\\n[Verse 4]\\nOoh, your kisses, sweeter than honey\\nAnd guess what? So is my money\\n\\n[Chorus 2]\\nAll I want you to do for me, is give it to me when you get home\\n(Re, re, re ,re) Yeah baby\\n(Re, re, re ,re) Whip it to me\\n(Respect, just a little bit) When you get home, now\\n(Just a little bit)\\n\\n[Verse 5]\\nR-E-S-P-E-C-T, find out what it means to me\\nR-E-S-P-E-C-T, take care, TCB, oh\\n\\n[Outro]\\n(Sock it to me, sock it to me, sock it to me, sock it to me)\\nA little respect\\n(sock it to me, sock it to me, sock it to me, sock it to me)\\nWhoa, babe\\n(Just a little bit) A little respect\\n(Just a little bit) I get tired\\n(Just a little bit) Keep on tryin'\\n(Just a little bit) You're runnin' out of fools\\n(Just a little bit) And I ain't lyin'\\n(Just a little bit)\\n(Re, re, re, re) Start when you come home\\n(Re, re, re, respect) Or you might walk in\\n(Just a little bit) And find out I'm gone\\n(Just a little bit) I gotta have\\n(Just a little bit) A little respect\\n(Just a little bit)\\n\\n\""
      ]
     },
     "execution_count": 14,
     "metadata": {},
     "output_type": "execute_result"
    }
   ],
   "source": [
    "import re\n",
    "\n",
    "cleaner_lyrics = re.sub(\"^[\\n]{2}\",\"\",lyrics)\n",
    "\n",
    "cleaner_lyrics\n",
    "\n"
   ]
  },
  {
   "cell_type": "code",
   "execution_count": null,
   "metadata": {},
   "outputs": [],
   "source": []
  },
  {
   "cell_type": "code",
   "execution_count": null,
   "metadata": {},
   "outputs": [],
   "source": []
  },
  {
   "cell_type": "code",
   "execution_count": null,
   "metadata": {},
   "outputs": [],
   "source": []
  },
  {
   "cell_type": "markdown",
   "metadata": {},
   "source": [
    "What about the other issue with these lyrics: all of the info in brackets. \n",
    "\n",
    "**Exericse: How can we use regex to remove them?**\n",
    "\n",
    "Additional hints:\n",
    "* In order to look for a `[`, you need to escape it like this `\\[`\n",
    "* A `.` represents any character\n",
    "* A `*` matches zero or more instances"
   ]
  },
  {
   "cell_type": "code",
   "execution_count": 15,
   "metadata": {},
   "outputs": [
    {
     "data": {
      "text/plain": [
       "\"\\nWhat you want, baby, I got it\\nWhat you need, do you know I got it?\\n\\nAll I'm askin' is for a little respect when you come home\\n(Just a little bit) Hey baby\\n(Just a little bit) when you get home\\n(Just a little bit) mister\\n(Just a little bit)\\n\\nI ain't gonna do you wrong while you're gone\\nAin't gon' do you wrong 'cause I don't wanna\\n\\nAll I'm askin' is for a little respect when you come home\\n(Just a little bit) Baby\\n(Just a little bit) When you get home\\n(Just a little bit) Yeah\\n(Just a little bit)\\n\\nI'm about to give you all of my money\\nAnd all I'm askin' in return, honey\\nIs to give me my propers when you get home\\n\\n(Just a, just a, just a, just a) Yeah, baby\\n(Just a, just a, just a, just a) When you get home\\n(Just a little bit) Yeah\\n(Just a little bit)\\n\\nOoh, your kisses, sweeter than honey\\nAnd guess what? So is my money\\n\\nAll I want you to do for me, is give it to me when you get home\\n(Re, re, re ,re) Yeah baby\\n(Re, re, re ,re) Whip it to me\\n(Respect, just a little bit) When you get home, now\\n(Just a little bit)\\n\\nR-E-S-P-E-C-T, find out what it means to me\\nR-E-S-P-E-C-T, take care, TCB, oh\\n\\n(Sock it to me, sock it to me, sock it to me, sock it to me)\\nA little respect\\n(sock it to me, sock it to me, sock it to me, sock it to me)\\nWhoa, babe\\n(Just a little bit) A little respect\\n(Just a little bit) I get tired\\n(Just a little bit) Keep on tryin'\\n(Just a little bit) You're runnin' out of fools\\n(Just a little bit) And I ain't lyin'\\n(Just a little bit)\\n(Re, re, re, re) Start when you come home\\n(Re, re, re, respect) Or you might walk in\\n(Just a little bit) And find out I'm gone\\n(Just a little bit) I gotta have\\n(Just a little bit) A little respect\\n(Just a little bit)\\n\\n\""
      ]
     },
     "execution_count": 15,
     "metadata": {},
     "output_type": "execute_result"
    }
   ],
   "source": [
    "cleanest_lyrics = re.sub(\"\\[.*\\]\\n\", \"\", cleaner_lyrics)\n",
    "\n",
    "cleanest_lyrics"
   ]
  },
  {
   "cell_type": "code",
   "execution_count": null,
   "metadata": {},
   "outputs": [],
   "source": []
  },
  {
   "cell_type": "code",
   "execution_count": null,
   "metadata": {},
   "outputs": [],
   "source": []
  },
  {
   "cell_type": "code",
   "execution_count": null,
   "metadata": {},
   "outputs": [],
   "source": []
  },
  {
   "cell_type": "markdown",
   "metadata": {},
   "source": [
    "Oops. There's just one extra newline at the start of the file. \n",
    "\n",
    "**How can we remove this?**"
   ]
  },
  {
   "cell_type": "code",
   "execution_count": 16,
   "metadata": {},
   "outputs": [
    {
     "data": {
      "text/plain": [
       "\"What you want, baby, I got it\\nWhat you need, do you know I got it?\\n\\nAll I'm askin' is for a little respect when you come home\\n(Just a little bit) Hey baby\\n(Just a little bit) when you get home\\n(Just a little bit) mister\\n(Just a little bit)\\n\\nI ain't gonna do you wrong while you're gone\\nAin't gon' do you wrong 'cause I don't wanna\\n\\nAll I'm askin' is for a little respect when you come home\\n(Just a little bit) Baby\\n(Just a little bit) When you get home\\n(Just a little bit) Yeah\\n(Just a little bit)\\n\\nI'm about to give you all of my money\\nAnd all I'm askin' in return, honey\\nIs to give me my propers when you get home\\n\\n(Just a, just a, just a, just a) Yeah, baby\\n(Just a, just a, just a, just a) When you get home\\n(Just a little bit) Yeah\\n(Just a little bit)\\n\\nOoh, your kisses, sweeter than honey\\nAnd guess what? So is my money\\n\\nAll I want you to do for me, is give it to me when you get home\\n(Re, re, re ,re) Yeah baby\\n(Re, re, re ,re) Whip it to me\\n(Respect, just a little bit) When you get home, now\\n(Just a little bit)\\n\\nR-E-S-P-E-C-T, find out what it means to me\\nR-E-S-P-E-C-T, take care, TCB, oh\\n\\n(Sock it to me, sock it to me, sock it to me, sock it to me)\\nA little respect\\n(sock it to me, sock it to me, sock it to me, sock it to me)\\nWhoa, babe\\n(Just a little bit) A little respect\\n(Just a little bit) I get tired\\n(Just a little bit) Keep on tryin'\\n(Just a little bit) You're runnin' out of fools\\n(Just a little bit) And I ain't lyin'\\n(Just a little bit)\\n(Re, re, re, re) Start when you come home\\n(Re, re, re, respect) Or you might walk in\\n(Just a little bit) And find out I'm gone\\n(Just a little bit) I gotta have\\n(Just a little bit) A little respect\\n(Just a little bit)\\n\\n\""
      ]
     },
     "execution_count": 16,
     "metadata": {},
     "output_type": "execute_result"
    }
   ],
   "source": [
    "more_cleanest_lyrics = re.sub(\"^[\\n]\",\"\", cleanest_lyrics)\n",
    "\n",
    "more_cleanest_lyrics"
   ]
  },
  {
   "cell_type": "code",
   "execution_count": null,
   "metadata": {},
   "outputs": [],
   "source": [
    "# could remove newline at end w/ $ instead of ^ but don't have to do it"
   ]
  },
  {
   "cell_type": "code",
   "execution_count": null,
   "metadata": {},
   "outputs": [],
   "source": []
  },
  {
   "cell_type": "code",
   "execution_count": null,
   "metadata": {},
   "outputs": [],
   "source": []
  },
  {
   "cell_type": "markdown",
   "metadata": {},
   "source": [
    "And with that, we're done! \n",
    "\n",
    "Now, one last thing: we need to save our clean lyrics to a file:"
   ]
  },
  {
   "cell_type": "code",
   "execution_count": 19,
   "metadata": {},
   "outputs": [],
   "source": [
    "# this is how you save to a file in python\n",
    "\n",
    "with open(\"lyrics.txt\", \"w\") as file:\n",
    "    file.writelines(more_cleanest_lyrics)\n"
   ]
  },
  {
   "cell_type": "markdown",
   "metadata": {},
   "source": [
    "We did it!\n",
    "\n",
    "**If time, pseudocode how we'd put all the pieces together to create our lyrics corpus**"
   ]
  },
  {
   "cell_type": "code",
   "execution_count": null,
   "metadata": {},
   "outputs": [],
   "source": []
  }
 ],
 "metadata": {
  "kernelspec": {
   "display_name": "Python 3",
   "language": "python",
   "name": "python3"
  },
  "language_info": {
   "codemirror_mode": {
    "name": "ipython",
    "version": 3
   },
   "file_extension": ".py",
   "mimetype": "text/x-python",
   "name": "python",
   "nbconvert_exporter": "python",
   "pygments_lexer": "ipython3",
   "version": "3.7.0"
  }
 },
 "nbformat": 4,
 "nbformat_minor": 2
}
