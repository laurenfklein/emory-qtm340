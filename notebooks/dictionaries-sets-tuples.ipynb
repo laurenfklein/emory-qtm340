{
 "cells": [
  {
   "cell_type": "markdown",
   "metadata": {},
   "source": [
    "# Dictionaries, Sets, Tuples\n",
    "\n",
    "By [Allison Parrish](http://www.decontextualize.com/)\n",
    "\n",
    "## Dictionaries\n",
    "\n",
    "The dictionary is a very useful data structure in Python. The easiest way to conceptualize a dictionary is that it's like a list, except you don't look up values in a dictionary by their index in a sequence---you look them up using a \"key,\" or a unique identifier for that value.\n",
    "\n",
    "We're going to focus here just on learning how to get data *out* of dictionaries, not how to build new dictionaries from existing data. We're also going to omit some of the nitty-gritty details about how dictionaries work internally. You'll learn a lot of those details in later courses, but for now it means that some of what I'm going to tell you will seem weird and magical. Be prepared!\n",
    "\n",
    "### Why dictionaries?\n",
    "\n",
    "For our purposes, the benefit of having data that can be parsed into dictionaries, as opposed to lists, is that dictionary keys tend to be *mnemonic*. That is, a dictionary key will usually tell you something about what its value is. (This is in opposition to parsing, say, CSV data, where we have to keep counting fields in the header row and translating that to the index that we want.)\n",
    "\n",
    "Lists and dictionaries work together and are used extensively to represent all different kinds of data. Often, when we get data from a remote source, or when we choose how to represent data internally, we'll use both in tandem. The most common form this will take is representing a table, or a database, as a *list* of records that are themselves represented as *dictionaries* (mapping the name of the column to the value for that column). We'll see an example of this when we access web APIs in a subsequent tutorial.\n",
    "\n",
    "Dictionaries are also good for storing *associations* or *mappings* for quick lookups. For example, if you wanted to write a program that was able to recall the capital city of every US state, you might use a dictionary whose keys are the names of the states, and whose values are the corresponding capitals. Dictionaries are also used for data analysis tasks, like keeping track of how many times a particular token occurs in an incoming data stream.\n",
    "\n",
    "### What dictionaries look like\n",
    "\n",
    "Dictionaries are written with curly brackets, surrounding a series of comma-separated pairs of *keys* and *values*. Here's a very simple dictionary, with one key, `Obama`, associated with a value, `Hawaii`:"
   ]
  },
  {
   "cell_type": "code",
   "execution_count": 4,
   "metadata": {},
   "outputs": [
    {
     "data": {
      "text/plain": [
       "{'Obama': 'Hawaii'}"
      ]
     },
     "execution_count": 4,
     "metadata": {},
     "output_type": "execute_result"
    }
   ],
   "source": [
    "{'Obama': 'Hawaii'}"
   ]
  },
  {
   "cell_type": "markdown",
   "metadata": {},
   "source": [
    "Here's another dictionary, with more entries:"
   ]
  },
  {
   "cell_type": "code",
   "execution_count": 3,
   "metadata": {},
   "outputs": [
    {
     "data": {
      "text/plain": [
       "{'Bush': 'Texas',\n",
       " 'Clinton': 'Arkansas',\n",
       " 'Obama': 'Hawaii',\n",
       " 'Trump': 'New York'}"
      ]
     },
     "execution_count": 3,
     "metadata": {},
     "output_type": "execute_result"
    }
   ],
   "source": [
    "{'Obama': 'Hawaii', 'Bush': 'Texas', 'Clinton': 'Arkansas', 'Trump': 'New York'}"
   ]
  },
  {
   "cell_type": "markdown",
   "metadata": {},
   "source": [
    "As you can see, we're building a simple dictionary that associates the names of presidents to the home states of those presidents. (This is my version of JOURNALISM.)\n",
    "\n",
    "The association of a key with a value is sometimes called a *mapping*. (In fact, in other programming languages like Java, the dictionary data structure is called a \"Map.\") So, in the above dictionary for example, we might say that the key `Bill Clinton` *maps to* the value `Arkansas`.\n",
    "\n",
    "A dictionary is just like any other Python value. You can assign it to a variable:"
   ]
  },
  {
   "cell_type": "code",
   "execution_count": 5,
   "metadata": {
    "collapsed": true
   },
   "outputs": [],
   "source": [
    "president_states = {'Obama': 'Hawaii', 'Bush': 'Texas', 'Clinton': 'Arkansas', 'Trump': 'New York'}"
   ]
  },
  {
   "cell_type": "markdown",
   "metadata": {},
   "source": [
    "And that value has a type:"
   ]
  },
  {
   "cell_type": "code",
   "execution_count": 18,
   "metadata": {},
   "outputs": [
    {
     "data": {
      "text/plain": [
       "dict"
      ]
     },
     "execution_count": 18,
     "metadata": {},
     "output_type": "execute_result"
    }
   ],
   "source": [
    "type(president_states)"
   ]
  },
  {
   "cell_type": "markdown",
   "metadata": {},
   "source": [
    "At its most basic level, a dictionary is sort of like a two-column spreadsheet, where the key is one column and the value is another column. If you were to represent the dictionary above as a spreadsheet, it might look like this:\n",
    "\n",
    "| key   | value   |\n",
    "| ----- | ------- |\n",
    "| Obama | Hawaii |\n",
    "| Bush | Texas |\n",
    "| Clinton | Arkansas |\n",
    "| Trump | New York |\n",
    "\n",
    "The main difference between a spreadsheet and a dictionary is that dictionaries are *unordered*. For an explanation of this, see below."
   ]
  },
  {
   "cell_type": "markdown",
   "metadata": {},
   "source": [
    "Keys and values in dictionaries can be of any data type, not just strings. Here's a dictionary, for example, that maps integers to lists of floating point numbers:"
   ]
  },
  {
   "cell_type": "code",
   "execution_count": 9,
   "metadata": {},
   "outputs": [
    {
     "data": {
      "text/plain": [
       "{17: [1.6, 2.45], 42: [11.6, 19.4], 101: [0.123, 4.89]}"
      ]
     },
     "execution_count": 9,
     "metadata": {},
     "output_type": "execute_result"
    }
   ],
   "source": [
    "{17: [1.6, 2.45], 42: [11.6, 19.4], 101: [0.123, 4.89]}"
   ]
  },
  {
   "cell_type": "markdown",
   "metadata": {},
   "source": [
    "> HEAD-SPINNING OPTIONAL ASIDE: Actually, \"any type\" above is a simplification: *values* can be of any type, but keys must be *hashable*---see [the Python glossary](https://docs.python.org/2/glossary.html#term-hashable) for more information. In practice, this limitation means you can't use lists (or dictionaries themselves) as keys in dictionaries. There are ways of getting around this, though!\n",
    "\n",
    "A dictionary can also be empty, containing no key/value pairs at all:"
   ]
  },
  {
   "cell_type": "code",
   "execution_count": 10,
   "metadata": {},
   "outputs": [
    {
     "data": {
      "text/plain": [
       "{}"
      ]
     },
     "execution_count": 10,
     "metadata": {},
     "output_type": "execute_result"
    }
   ],
   "source": [
    "{}"
   ]
  },
  {
   "cell_type": "markdown",
   "metadata": {},
   "source": [
    "### Getting values out of dictionaries\n",
    "\n",
    "The primary operation that we'll perform on dictionaries is writing an expression that evaluates to the value for a particular key. We do that with the same syntax we used to get a value at a particular index from a list. Except with dictionaries, instead of using a number, we use one of the keys that we had specified for the value when making the dictionary. For example, if we wanted to know what Bill Clinton's home state was, or, more precisely, what the value for the key `Clinton` is, we would write this expression:"
   ]
  },
  {
   "cell_type": "code",
   "execution_count": 19,
   "metadata": {
    "scrolled": true
   },
   "outputs": [
    {
     "data": {
      "text/plain": [
       "'Arkansas'"
      ]
     },
     "execution_count": 19,
     "metadata": {},
     "output_type": "execute_result"
    }
   ],
   "source": [
    "president_states[\"Clinton\"]"
   ]
  },
  {
   "cell_type": "markdown",
   "metadata": {},
   "source": [
    "Going back to our spreadsheet analogy, this is like looking for the row whose first column is \"Clinton\" and getting the value from the corresponding second column."
   ]
  },
  {
   "cell_type": "markdown",
   "metadata": {},
   "source": [
    "If we put a key in those brackets that does not exist in the dictionary, we get an error similar to the one we get when trying to access an element of an array beyond the end of a list:"
   ]
  },
  {
   "cell_type": "code",
   "execution_count": 12,
   "metadata": {},
   "outputs": [
    {
     "ename": "KeyError",
     "evalue": "'Franklin'",
     "output_type": "error",
     "traceback": [
      "\u001b[0;31m---------------------------------------------------------------------------\u001b[0m",
      "\u001b[0;31mKeyError\u001b[0m                                  Traceback (most recent call last)",
      "\u001b[0;32m<ipython-input-12-ad06150b5f98>\u001b[0m in \u001b[0;36m<module>\u001b[0;34m()\u001b[0m\n\u001b[0;32m----> 1\u001b[0;31m \u001b[0mpresident_states\u001b[0m\u001b[0;34m[\u001b[0m\u001b[0;34m'Franklin'\u001b[0m\u001b[0;34m]\u001b[0m\u001b[0;34m\u001b[0m\u001b[0m\n\u001b[0m",
      "\u001b[0;31mKeyError\u001b[0m: 'Franklin'"
     ]
    }
   ],
   "source": [
    "president_states['Franklin']"
   ]
  },
  {
   "cell_type": "markdown",
   "metadata": {},
   "source": [
    "As you might suspect, the thing you put inside the brackets doesn't have to be a string; it can be any Python expression, as long as it evaluates to something that is a key in the dictionary:"
   ]
  },
  {
   "cell_type": "code",
   "execution_count": 17,
   "metadata": {},
   "outputs": [
    {
     "data": {
      "text/plain": [
       "'Hawaii'"
      ]
     },
     "execution_count": 17,
     "metadata": {},
     "output_type": "execute_result"
    }
   ],
   "source": [
    "president = 'Obama'\n",
    "president_states[president]"
   ]
  },
  {
   "cell_type": "markdown",
   "metadata": {},
   "source": [
    "You can get a list of all the keys in a dictionary using the dictionary's `.keys()` method:"
   ]
  },
  {
   "cell_type": "code",
   "execution_count": 20,
   "metadata": {},
   "outputs": [
    {
     "data": {
      "text/plain": [
       "dict_keys(['Obama', 'Bush', 'Clinton', 'Trump'])"
      ]
     },
     "execution_count": 20,
     "metadata": {},
     "output_type": "execute_result"
    }
   ],
   "source": [
    "president_states.keys()"
   ]
  },
  {
   "cell_type": "markdown",
   "metadata": {},
   "source": [
    "That funny-looking `dict_keys(...)` thing isn't *exactly* a list, but it's close enough: you can use it anywhere you would normally use a list, like in a list comprehension:"
   ]
  },
  {
   "cell_type": "code",
   "execution_count": 21,
   "metadata": {},
   "outputs": [
    {
     "data": {
      "text/plain": [
       "['OBAMA', 'BUSH', 'CLINTON', 'TRUMP']"
      ]
     },
     "execution_count": 21,
     "metadata": {},
     "output_type": "execute_result"
    }
   ],
   "source": [
    "[item.upper() for item in president_states.keys()]"
   ]
  },
  {
   "cell_type": "markdown",
   "metadata": {},
   "source": [
    "... or a `for` loop:"
   ]
  },
  {
   "cell_type": "code",
   "execution_count": 22,
   "metadata": {},
   "outputs": [
    {
     "name": "stdout",
     "output_type": "stream",
     "text": [
      "Obama\n",
      "Bush\n",
      "Clinton\n",
      "Trump\n"
     ]
    }
   ],
   "source": [
    "for item in president_states.keys():\n",
    "    print(item)"
   ]
  },
  {
   "cell_type": "markdown",
   "metadata": {},
   "source": [
    "And a list of all the values with the `.values()` method:"
   ]
  },
  {
   "cell_type": "code",
   "execution_count": 15,
   "metadata": {},
   "outputs": [
    {
     "data": {
      "text/plain": [
       "dict_values(['Hawaii', 'Texas', 'Arkansas', 'New York'])"
      ]
     },
     "execution_count": 15,
     "metadata": {},
     "output_type": "execute_result"
    }
   ],
   "source": [
    "president_states.values()"
   ]
  },
  {
   "cell_type": "markdown",
   "metadata": {},
   "source": [
    "If you want a list of all key/value pairs, you can call the `.items()` method:"
   ]
  },
  {
   "cell_type": "code",
   "execution_count": 16,
   "metadata": {},
   "outputs": [
    {
     "data": {
      "text/plain": [
       "dict_items([('Obama', 'Hawaii'), ('Bush', 'Texas'), ('Clinton', 'Arkansas'), ('Trump', 'New York')])"
      ]
     },
     "execution_count": 16,
     "metadata": {},
     "output_type": "execute_result"
    }
   ],
   "source": [
    "president_states.items()"
   ]
  },
  {
   "cell_type": "markdown",
   "metadata": {},
   "source": [
    "(The weird list-like things here that use parentheses instead of brackets are called *tuples*---we'll discuss those at a later date.)"
   ]
  },
  {
   "cell_type": "markdown",
   "metadata": {},
   "source": [
    "### Other operations on dictionaries\n",
    "\n",
    "[Here's a list of all the methods that dictionaries support](https://docs.python.org/3.6/library/stdtypes.html#mapping-types-dict). I want to talk about a few of these in particular. First, the in operator (which we've used previously to check to see if there's a substring in a string, or a particular item in a list), also works with dictionaries! It checks to see if a particular key exists in the dictionary:"
   ]
  },
  {
   "cell_type": "code",
   "execution_count": 43,
   "metadata": {},
   "outputs": [
    {
     "data": {
      "text/plain": [
       "True"
      ]
     },
     "execution_count": 43,
     "metadata": {},
     "output_type": "execute_result"
    }
   ],
   "source": [
    "'Obama' in president_states"
   ]
  },
  {
   "cell_type": "code",
   "execution_count": 44,
   "metadata": {},
   "outputs": [
    {
     "data": {
      "text/plain": [
       "False"
      ]
     },
     "execution_count": 44,
     "metadata": {},
     "output_type": "execute_result"
    }
   ],
   "source": [
    "'Franklin' in president_states"
   ]
  },
  {
   "cell_type": "markdown",
   "metadata": {},
   "source": [
    "A dictionary can also go in a `for` loop, in the spot between `in` and the colon (where you might normally put a list). If you write a for loop like this, the loop will iterate over each key in the dictionary:"
   ]
  },
  {
   "cell_type": "code",
   "execution_count": 45,
   "metadata": {},
   "outputs": [
    {
     "name": "stdout",
     "output_type": "stream",
     "text": [
      "Obama\n",
      "Bush\n",
      "Clinton\n",
      "Trump\n"
     ]
    }
   ],
   "source": [
    "for item in president_states:\n",
    "    print(item)"
   ]
  },
  {
   "cell_type": "markdown",
   "metadata": {},
   "source": [
    "### Dictionaries can contain lists and other dictionaries\n",
    "\n",
    "Dictionaries are often used to represent *hierarchical* data structures, that is, data structures with a top-down organization. For example, consider a program intended to keep track of a shopping list. In such a program, you might want to categorize grocery items by category, so you might make a dictionary that has a key for each category:"
   ]
  },
  {
   "cell_type": "code",
   "execution_count": 46,
   "metadata": {
    "collapsed": true
   },
   "outputs": [],
   "source": [
    "shopping = {'produce': ['apples', 'oranges', 'spinach', 'carrots'],\n",
    "            'meat': ['ground beef', 'chicken breast']}"
   ]
  },
  {
   "cell_type": "markdown",
   "metadata": {},
   "source": [
    "The `shopping` dictionary above has two keys, whose values are both *lists*. Writing an expression that evaluates to one of these lists is easy, e.g.:"
   ]
  },
  {
   "cell_type": "code",
   "execution_count": 47,
   "metadata": {},
   "outputs": [
    {
     "data": {
      "text/plain": [
       "['ground beef', 'chicken breast']"
      ]
     },
     "execution_count": 47,
     "metadata": {},
     "output_type": "execute_result"
    }
   ],
   "source": [
    "shopping['meat']"
   ]
  },
  {
   "cell_type": "markdown",
   "metadata": {},
   "source": [
    "And you could write a `for` loop to print out the items of one of these lists fairly easily as well, e.g.:"
   ]
  },
  {
   "cell_type": "code",
   "execution_count": 48,
   "metadata": {},
   "outputs": [
    {
     "name": "stdout",
     "output_type": "stream",
     "text": [
      "Produce items on your list:\n",
      "* apples\n",
      "* oranges\n",
      "* spinach\n",
      "* carrots\n"
     ]
    }
   ],
   "source": [
    "print(\"Produce items on your list:\")\n",
    "for item in shopping['produce']:\n",
    "    print(\"* \" + item)"
   ]
  },
  {
   "cell_type": "markdown",
   "metadata": {},
   "source": [
    "Slightly more challenging is this: how do you write an expression that evaluates to (let's say) the *first item* of the list of produce? The trick to this is to remember how indexing syntax works. When you have a pair of square brackets with a single value inside of them, Python looks immediately to the left of those square brackets for an expression that *evaluates to* either a list or a dictionary. For example, in the following expression:"
   ]
  },
  {
   "cell_type": "code",
   "execution_count": 49,
   "metadata": {},
   "outputs": [
    {
     "data": {
      "text/plain": [
       "20"
      ]
     },
     "execution_count": 49,
     "metadata": {},
     "output_type": "execute_result"
    }
   ],
   "source": [
    "[5, 10, 15, 20][3]"
   ]
  },
  {
   "cell_type": "markdown",
   "metadata": {},
   "source": [
    "... you can think of Python as looking at this expression from right to left. It sees the `[3]` first and then thinks, \"okay, I need to find something that is a list or dictionary directly to the left of this, and grab the third item (index-wise).\" In fact, it *does* find a list or a dictionary (i.e., the list `[5, 10, 15, 20]`) and evaluates the entire expression to `20` accordingly.\n",
    "\n",
    "With that in mind, let's rephrase the task. I want to get:\n",
    "\n",
    "* the first item\n",
    "* from the list that is the value for the key `produce`\n",
    "* in the dictionary `shopping`\n",
    "\n",
    "We can work at this problem by following these instructions and then writing the expression *in reverse*. To get the first item from a list, we write:\n",
    "\n",
    "    ????[0] # the first item\n",
    "    \n",
    "`????` is just a placeholder for the part of the code that we haven't written yet, but we know that it has to be a list. Then, to get the value for the key `produce`:\n",
    "\n",
    "    ????[\"produce\"][0] # from the list that is the value for the key `produce`\n",
    "    \n",
    "Again, `????` is a placeholder, but now we know it has to be a dictionary. The dictionary, of course, is `shopping`, so we can fill that in as the last step:\n",
    "\n",
    "    shopping[\"produce\"][0]\n",
    "    \n",
    "Let's see what that expression evaluates to:"
   ]
  },
  {
   "cell_type": "code",
   "execution_count": 50,
   "metadata": {},
   "outputs": [
    {
     "data": {
      "text/plain": [
       "'apples'"
      ]
     },
     "execution_count": 50,
     "metadata": {},
     "output_type": "execute_result"
    }
   ],
   "source": [
    "shopping[\"produce\"][0]"
   ]
  },
  {
   "cell_type": "markdown",
   "metadata": {},
   "source": [
    "Exactly right! But let's say we want to take the organization in our dictionary up a notch and create separate categories for fruits and vegetables. One way to do this would be to make the value for the key `produce` be... another dictionary, like so:"
   ]
  },
  {
   "cell_type": "code",
   "execution_count": 51,
   "metadata": {},
   "outputs": [],
   "source": [
    "shopping = {'produce': {'fruits': ['apples', 'oranges'], 'vegetables': ['spinach', 'carrots']},\n",
    "            'meat': ['ground beef', 'chicken breast']}"
   ]
  },
  {
   "cell_type": "markdown",
   "metadata": {},
   "source": [
    "This is now a pretty complicated data structure! (Well, not *that* complicated compared to what you'll see, e.g., in responses from web APIs. But it's the most complicated data structure we've made so far.) If we were to draw a schematic of this data structure, it might look something like this:\n",
    "\n",
    "    shopping (dictionary)\n",
    "        -> produce (dictionary)\n",
    "            -> fruits (list)\n",
    "            -> vegetables (list)\n",
    "        -> meat (list)\n",
    "        \n",
    "In prose: `shopping` is a variable that contains a dictionary. That dictionary has two keys: `produce`, whose value is itself a dictionary, and `meat`, whose value is a list. (Whew!)\n",
    "\n",
    "Given this data structure, let's work through how to do the following tasks:\n",
    "\n",
    "* Get a list of all fruits\n",
    "* Get a list of all categories of produce\n",
    "* Get the first fruit\n",
    "* Get the second vegetable\n",
    "\n",
    "Getting a list of the fruits requires getting the value for the `fruits` key in the dictionary that is the value for the `produce` key. So we start out with:\n",
    "\n",
    "                       ['fruits'] -> Step one\n",
    "            ['produce']['fruits'] -> Step two\n",
    "    shopping['produce']['fruits'] -> Step three\n",
    "    \n",
    "The final expression:"
   ]
  },
  {
   "cell_type": "code",
   "execution_count": 52,
   "metadata": {},
   "outputs": [
    {
     "data": {
      "text/plain": [
       "['apples', 'oranges']"
      ]
     },
     "execution_count": 52,
     "metadata": {},
     "output_type": "execute_result"
    }
   ],
   "source": [
    "# A list of all fruits\n",
    "shopping['produce']['fruits']"
   ]
  },
  {
   "cell_type": "markdown",
   "metadata": {},
   "source": [
    "Continuing with our tasks:"
   ]
  },
  {
   "cell_type": "code",
   "execution_count": 53,
   "metadata": {},
   "outputs": [
    {
     "data": {
      "text/plain": [
       "dict_keys(['fruits', 'vegetables'])"
      ]
     },
     "execution_count": 53,
     "metadata": {},
     "output_type": "execute_result"
    }
   ],
   "source": [
    "# a list of all categories of produce\n",
    "shopping['produce'].keys()"
   ]
  },
  {
   "cell_type": "code",
   "execution_count": 54,
   "metadata": {},
   "outputs": [
    {
     "data": {
      "text/plain": [
       "'apples'"
      ]
     },
     "execution_count": 54,
     "metadata": {},
     "output_type": "execute_result"
    }
   ],
   "source": [
    "# the first fruit\n",
    "shopping['produce']['fruits'][0]"
   ]
  },
  {
   "cell_type": "code",
   "execution_count": 55,
   "metadata": {},
   "outputs": [
    {
     "data": {
      "text/plain": [
       "'carrots'"
      ]
     },
     "execution_count": 55,
     "metadata": {},
     "output_type": "execute_result"
    }
   ],
   "source": [
    "# the second vegetable\n",
    "shopping['produce']['vegetables'][1]"
   ]
  },
  {
   "cell_type": "markdown",
   "metadata": {},
   "source": [
    "### Adding key/value pairs to a dictionary\n",
    "\n",
    "Once you've assigned a dictionary to a variable, you can add another key/value pair to the dictionary by assigning a value to a new index, like so:"
   ]
  },
  {
   "cell_type": "code",
   "execution_count": 56,
   "metadata": {},
   "outputs": [],
   "source": [
    "president_states['Reagan'] = 'California'"
   ]
  },
  {
   "cell_type": "markdown",
   "metadata": {},
   "source": [
    "Take a look at the dictionary to see that there's a new key/value pair in there:"
   ]
  },
  {
   "cell_type": "code",
   "execution_count": 62,
   "metadata": {},
   "outputs": [
    {
     "data": {
      "text/plain": [
       "{'Bush': 'Texas',\n",
       " 'Clinton': 'Arkansas',\n",
       " 'Obama': 'Hawaii',\n",
       " 'Reagan': 'California',\n",
       " 'Trump': 'New York'}"
      ]
     },
     "execution_count": 62,
     "metadata": {},
     "output_type": "execute_result"
    }
   ],
   "source": [
    "president_states"
   ]
  },
  {
   "cell_type": "markdown",
   "metadata": {},
   "source": [
    "### On the order of dictionary keys\n",
    "\n",
    "So something strange is happening here, and you may have already noticed it. If we write some code that iterates over the keys of a dictionary, the keys show up in one order:"
   ]
  },
  {
   "cell_type": "code",
   "execution_count": 63,
   "metadata": {},
   "outputs": [
    {
     "name": "stdout",
     "output_type": "stream",
     "text": [
      "Obama\n",
      "Bush\n",
      "Clinton\n",
      "Trump\n",
      "Reagan\n"
     ]
    }
   ],
   "source": [
    "for item in president_states:\n",
    "    print(item)"
   ]
  },
  {
   "cell_type": "markdown",
   "metadata": {},
   "source": [
    "Whereas if we simply evaluate the dictionary, the keys show up in a different order:"
   ]
  },
  {
   "cell_type": "code",
   "execution_count": 64,
   "metadata": {},
   "outputs": [
    {
     "data": {
      "text/plain": [
       "{'Bush': 'Texas',\n",
       " 'Clinton': 'Arkansas',\n",
       " 'Obama': 'Hawaii',\n",
       " 'Reagan': 'California',\n",
       " 'Trump': 'New York'}"
      ]
     },
     "execution_count": 64,
     "metadata": {},
     "output_type": "execute_result"
    }
   ],
   "source": [
    "president_states"
   ]
  },
  {
   "cell_type": "markdown",
   "metadata": {},
   "source": [
    "What gives? Here's what's up. Underneath the hood, Python stores the key/value pairs in a dictionary *in the order you added them to the dictionary*. This means that when you add a new item to the dictionary, it will show up *last* when you iterate over the dictionary (or get a list of its keys or values, etc.). However, when you simply evaluate a dictionary, Jupyter Notebook takes it upon itself to display the keys in *alphabetical order* instead. So the order that Jupyter Notebook shows the key/value pairs in is *not* the same as the order for the key/value pairs you would get if you iterated over the list in a for loop.\n",
    "\n",
    "To add to the confusion, in previous versions of Python, the order of key/value pairs in a dictionary was *arbitrary* (i.e., deterministic but not repeatable; adding the same items to a dictionary might produce different orderings across Python sessions). And the developers have warned us that this aspect of dictionaries might change in the future ([technical discussion here](https://mail.python.org/pipermail/python-dev/2016-September/146327.html)). So don't rely on the fact that *right now* Python preserves insertion order in dictionaries."
   ]
  },
  {
   "cell_type": "markdown",
   "metadata": {},
   "source": [
    "### Dictionary keys are unique\n",
    "\n",
    "Another important fact about dictionaries is that you can't put the same key into one dictionary twice. If you try to write out a dictionary that has the same key used more than once, Python will silently ignore all but one of the key/value pairs. For example:"
   ]
  },
  {
   "cell_type": "code",
   "execution_count": 65,
   "metadata": {},
   "outputs": [
    {
     "data": {
      "text/plain": [
       "{'a': 3}"
      ]
     },
     "execution_count": 65,
     "metadata": {},
     "output_type": "execute_result"
    }
   ],
   "source": [
    "{'a': 1, 'a': 2, 'a': 3}"
   ]
  },
  {
   "cell_type": "markdown",
   "metadata": {},
   "source": [
    "Similarly, if we attempt to set the value for a key that already exists in the dictionary (using `=`), we won't add a second key/value pair for that key---we'll just overwrite the existing value:"
   ]
  },
  {
   "cell_type": "code",
   "execution_count": 66,
   "metadata": {},
   "outputs": [
    {
     "data": {
      "text/plain": [
       "1"
      ]
     },
     "execution_count": 66,
     "metadata": {},
     "output_type": "execute_result"
    }
   ],
   "source": [
    "test_dict = {'a': 1, 'b': 2}\n",
    "test_dict['a']"
   ]
  },
  {
   "cell_type": "code",
   "execution_count": 67,
   "metadata": {},
   "outputs": [
    {
     "name": "stdout",
     "output_type": "stream",
     "text": [
      "100\n"
     ]
    }
   ],
   "source": [
    "test_dict['a'] = 100\n",
    "test_dict['a']"
   ]
  },
  {
   "cell_type": "markdown",
   "metadata": {},
   "source": [
    "In the case where a key needs to map to multiple values, we might instead see a data structure in which the key maps to another kind of data structure that itself can contain multiple values, like a list:"
   ]
  },
  {
   "cell_type": "code",
   "execution_count": 82,
   "metadata": {
    "scrolled": true
   },
   "outputs": [
    {
     "data": {
      "text/plain": [
       "{'a': [1, 2, 3]}"
      ]
     },
     "execution_count": 82,
     "metadata": {},
     "output_type": "execute_result"
    }
   ],
   "source": [
    "{'a': [1, 2, 3]}"
   ]
  },
  {
   "cell_type": "markdown",
   "metadata": {},
   "source": [
    "## Sets\n",
    "\n",
    "The set is our second important data structure. You can think of a set as a kind of list, but with the following caveats:\n",
    "\n",
    "1. Sets don’t maintain the order of objects after you’ve put them in.\n",
    "2. You can’t add an object to a set if it already has an identical object.\n",
    "\n",
    "Objects can be added to a set by calling its `.add()` method (as opposed to the `.append()` method used for lists).\n",
    "\n",
    "A corollary to item 1 from the list above is that you can’t use the square bracket notation to access a particular element in a set. Once you’ve added an object, the only operations you can do are to check to see if an object is in the set (with the `in` operator), and iterate over all objects in the set (with, for example, `for`). So, for example, to initialize a set:"
   ]
  },
  {
   "cell_type": "code",
   "execution_count": 85,
   "metadata": {
    "collapsed": true
   },
   "outputs": [],
   "source": [
    "emojis = set()"
   ]
  },
  {
   "cell_type": "markdown",
   "metadata": {},
   "source": [
    "And then add some items to the set:"
   ]
  },
  {
   "cell_type": "code",
   "execution_count": 88,
   "metadata": {},
   "outputs": [],
   "source": [
    "emojis.add(\"😀\")\n",
    "emojis.add(\"😜\")\n",
    "emojis.add(\"😐\")"
   ]
  },
  {
   "cell_type": "markdown",
   "metadata": {},
   "source": [
    "Evaluating the set shows us its members:"
   ]
  },
  {
   "cell_type": "code",
   "execution_count": 89,
   "metadata": {},
   "outputs": [
    {
     "data": {
      "text/plain": [
       "{'😀', '😐', '😜'}"
      ]
     },
     "execution_count": 89,
     "metadata": {},
     "output_type": "execute_result"
    }
   ],
   "source": [
    "emojis"
   ]
  },
  {
   "cell_type": "markdown",
   "metadata": {},
   "source": [
    "And you can check to see if something is in a set using the `in` operator:"
   ]
  },
  {
   "cell_type": "code",
   "execution_count": 90,
   "metadata": {},
   "outputs": [
    {
     "data": {
      "text/plain": [
       "True"
      ]
     },
     "execution_count": 90,
     "metadata": {},
     "output_type": "execute_result"
    }
   ],
   "source": [
    "'😀' in emojis"
   ]
  },
  {
   "cell_type": "code",
   "execution_count": 92,
   "metadata": {},
   "outputs": [
    {
     "data": {
      "text/plain": [
       "False"
      ]
     },
     "execution_count": 92,
     "metadata": {},
     "output_type": "execute_result"
    }
   ],
   "source": [
    "'hello' in emojis"
   ]
  },
  {
   "cell_type": "markdown",
   "metadata": {},
   "source": [
    "You can write a loop that executes code for every item in a set by putting the set between `in` and the colon in a `for` loop:"
   ]
  },
  {
   "cell_type": "code",
   "execution_count": 94,
   "metadata": {},
   "outputs": [
    {
     "name": "stdout",
     "output_type": "stream",
     "text": [
      "😜\n",
      "😐\n",
      "😀\n"
     ]
    }
   ],
   "source": [
    "for item in emojis:\n",
    "    print(item)"
   ]
  },
  {
   "cell_type": "markdown",
   "metadata": {},
   "source": [
    "An additional aspect of sets to note from the transcript above: because sets don’t maintain the order of objects, you’ll get the objects back in (seemingly) random order when you iterate over the set. For most applications, this isn’t a problem, but it’s something to keep in mind.\n",
    "\n",
    "One thing you'll notice about sets is that you can't add the same item twice. Observe:"
   ]
  },
  {
   "cell_type": "code",
   "execution_count": 95,
   "metadata": {
    "collapsed": true
   },
   "outputs": [],
   "source": [
    "important_numbers = set([5, 10, 15, 20, 25])"
   ]
  },
  {
   "cell_type": "code",
   "execution_count": 96,
   "metadata": {},
   "outputs": [
    {
     "data": {
      "text/plain": [
       "{5, 10, 15, 20, 25}"
      ]
     },
     "execution_count": 96,
     "metadata": {},
     "output_type": "execute_result"
    }
   ],
   "source": [
    "important_numbers"
   ]
  },
  {
   "cell_type": "code",
   "execution_count": 98,
   "metadata": {
    "collapsed": true
   },
   "outputs": [],
   "source": [
    "important_numbers.add(15)"
   ]
  },
  {
   "cell_type": "code",
   "execution_count": 100,
   "metadata": {},
   "outputs": [
    {
     "data": {
      "text/plain": [
       "{5, 10, 15, 20, 25}"
      ]
     },
     "execution_count": 100,
     "metadata": {},
     "output_type": "execute_result"
    }
   ],
   "source": [
    "important_numbers"
   ]
  },
  {
   "cell_type": "markdown",
   "metadata": {},
   "source": [
    "For this reason, sets are often used as a way to quickly remove duplicates from a list. All you need to do is pass a list to the `set()` function, and then use the `list()` function to convert the data back into a list. For example:"
   ]
  },
  {
   "cell_type": "code",
   "execution_count": 101,
   "metadata": {
    "collapsed": true
   },
   "outputs": [],
   "source": [
    "letters = [\"a\", \"b\", \"c\", \"a\", \"d\", \"a\", \"b\", \"e\"]"
   ]
  },
  {
   "cell_type": "code",
   "execution_count": 104,
   "metadata": {},
   "outputs": [
    {
     "data": {
      "text/plain": [
       "['b', 'c', 'e', 'd', 'a']"
      ]
     },
     "execution_count": 104,
     "metadata": {},
     "output_type": "execute_result"
    }
   ],
   "source": [
    "list(set(letters))"
   ]
  },
  {
   "cell_type": "markdown",
   "metadata": {},
   "source": [
    "## Tuples\n",
    "\n",
    "Tuples (rhymes with \"supple\") are data structures very similar to lists. You can create a tuple using parentheses (instead of square brackets, as you would with a list):"
   ]
  },
  {
   "cell_type": "code",
   "execution_count": 105,
   "metadata": {},
   "outputs": [
    {
     "data": {
      "text/plain": [
       "('alpha', 'beta', 'gamma', 'delta')"
      ]
     },
     "execution_count": 105,
     "metadata": {},
     "output_type": "execute_result"
    }
   ],
   "source": [
    "t = (\"alpha\", \"beta\", \"gamma\", \"delta\")\n",
    "t"
   ]
  },
  {
   "cell_type": "markdown",
   "metadata": {},
   "source": [
    "You can access the values in a tuple in the same way as you access the values in a list: using square bracket indexing \n",
    "syntax. Tuples support slice syntax and negative indexes, just like lists:"
   ]
  },
  {
   "cell_type": "code",
   "execution_count": 106,
   "metadata": {},
   "outputs": [
    {
     "data": {
      "text/plain": [
       "'gamma'"
      ]
     },
     "execution_count": 106,
     "metadata": {},
     "output_type": "execute_result"
    }
   ],
   "source": [
    "t[-2]"
   ]
  },
  {
   "cell_type": "code",
   "execution_count": 107,
   "metadata": {},
   "outputs": [
    {
     "data": {
      "text/plain": [
       "('beta', 'gamma')"
      ]
     },
     "execution_count": 107,
     "metadata": {},
     "output_type": "execute_result"
    }
   ],
   "source": [
    "t[1:3]"
   ]
  },
  {
   "cell_type": "markdown",
   "metadata": {},
   "source": [
    "The difference between a list and a tuple is that the values in a tuple can't be changed after the tuple is created. This means, for example, that attempting to .append() a value to a tuple will fail:"
   ]
  },
  {
   "cell_type": "code",
   "execution_count": 108,
   "metadata": {},
   "outputs": [
    {
     "ename": "AttributeError",
     "evalue": "'tuple' object has no attribute 'append'",
     "output_type": "error",
     "traceback": [
      "\u001b[0;31m---------------------------------------------------------------------------\u001b[0m",
      "\u001b[0;31mAttributeError\u001b[0m                            Traceback (most recent call last)",
      "\u001b[0;32m<ipython-input-108-bd64cbe45262>\u001b[0m in \u001b[0;36m<module>\u001b[0;34m()\u001b[0m\n\u001b[0;32m----> 1\u001b[0;31m \u001b[0mt\u001b[0m\u001b[0;34m.\u001b[0m\u001b[0mappend\u001b[0m\u001b[0;34m(\u001b[0m\u001b[0;34m\"epsilon\"\u001b[0m\u001b[0;34m)\u001b[0m\u001b[0;34m\u001b[0m\u001b[0m\n\u001b[0m",
      "\u001b[0;31mAttributeError\u001b[0m: 'tuple' object has no attribute 'append'"
     ]
    }
   ],
   "source": [
    "t.append(\"epsilon\")"
   ]
  },
  {
   "cell_type": "markdown",
   "metadata": {},
   "source": [
    "Likewise, assigning to an index of a tuple will fail:"
   ]
  },
  {
   "cell_type": "code",
   "execution_count": null,
   "metadata": {
    "collapsed": true
   },
   "outputs": [],
   "source": [
    "t[2] = \"bravo\""
   ]
  },
  {
   "cell_type": "markdown",
   "metadata": {},
   "source": [
    "### Why tuples? Why now?\n",
    "\n",
    "\"So,\" you think to yourself. \"Tuples are just like... broken lists. That's strange and a little unreasonable. Why even have them in your programming language?\" That's a fair question, and answering it requires a bit of knowledge of how Python works with these two kinds of values (lists and tuples) behind the scenes.\n",
    "\n",
    "Essentially, tuples are *faster* and *smaller* than lists. Because lists can be modified, potentially becoming larger after they're initialized, Python has to allocate more memory than is strictly necessary whenever you create a list value. If your list grows beyond what Python has already allocated, Python has to allocate more memory. Allocating memory, copying values into memory, and then freeing memory when it's when no longer needed, are all (perhaps surprisingly) slow processes---slower, at least, than using data already loaded into memory when your program begins.\n",
    "\n",
    "Because a tuple can't grow or shrink after it's created, Python knows exactly how much memory to allocate when you create a tuple in your program. That means: less wasted memory, and less wasted time allocating a deallocating memory. The cost of this decreased resource footprint is less versatility.\n",
    "\n",
    "Tuples are often called an immutable data type. \"Immutable\" in this context simply means that it can't be changed after it's created.\n",
    "\n",
    "### Tuples in the standard library\n",
    "\n",
    "Because tuples are faster, they're often the data type that gets returned from methods and functions in Python's built-in library. For example, the .items() method of the dictionary object returns a list of tuples (rather than, as you might otherwise expect, a list of lists):"
   ]
  },
  {
   "cell_type": "code",
   "execution_count": 109,
   "metadata": {},
   "outputs": [
    {
     "data": {
      "text/plain": [
       "dict_items([('mercury', 0), ('venus', 0), ('earth', 1), ('mars', 2)])"
      ]
     },
     "execution_count": 109,
     "metadata": {},
     "output_type": "execute_result"
    }
   ],
   "source": [
    "moon_counts = {'mercury': 0, 'venus': 0, 'earth': 1, 'mars': 2}\n",
    "moon_counts.items()"
   ]
  },
  {
   "cell_type": "markdown",
   "metadata": {},
   "source": [
    "The tuple() function takes a list and returns it as a tuple:"
   ]
  },
  {
   "cell_type": "code",
   "execution_count": 110,
   "metadata": {},
   "outputs": [
    {
     "data": {
      "text/plain": [
       "(1, 2, 3, 4, 5)"
      ]
     },
     "execution_count": 110,
     "metadata": {},
     "output_type": "execute_result"
    }
   ],
   "source": [
    "tuple([1, 2, 3, 4, 5])"
   ]
  },
  {
   "cell_type": "markdown",
   "metadata": {},
   "source": [
    "If you want to initialize a new list with with data in a tuple, you can pass the tuple to the list() function:"
   ]
  },
  {
   "cell_type": "code",
   "execution_count": 112,
   "metadata": {},
   "outputs": [
    {
     "data": {
      "text/plain": [
       "[1, 2, 3, 4, 5]"
      ]
     },
     "execution_count": 112,
     "metadata": {},
     "output_type": "execute_result"
    }
   ],
   "source": [
    "list((1, 2, 3, 4, 5))"
   ]
  }
 ],
 "metadata": {
  "kernelspec": {
   "display_name": "Python 3",
   "language": "python",
   "name": "python3"
  },
  "language_info": {
   "codemirror_mode": {
    "name": "ipython",
    "version": 3
   },
   "file_extension": ".py",
   "mimetype": "text/x-python",
   "name": "python",
   "nbconvert_exporter": "python",
   "pygments_lexer": "ipython3",
   "version": "3.6.1"
  }
 },
 "nbformat": 4,
 "nbformat_minor": 1
}
