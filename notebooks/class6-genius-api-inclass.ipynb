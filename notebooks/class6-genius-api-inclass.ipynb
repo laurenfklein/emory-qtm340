{
 "cells": [
  {
   "cell_type": "markdown",
   "metadata": {},
   "source": [
    "## Fun with the Genius API\n",
    "\n",
    "Many web sites and organizations offer web APIs. We're going to go over how one API in particular works, or at least a subset of a particular web API---the [Genius API](https://docs.genius.com/). The idea is that by introducing you to this one API, you'll learn the tools necessary to sign up for, query, and interpret APIs from other providers as well.\n",
    "\n",
    "### Signing up for a Client Access Token \n",
    "\n",
    "Before you can use the Genius API, you need to sign up for what they call a \"client access token,\" which is another name for an API key. Do so by filling out the [New API Client form](https://genius.com/api-clients/new). If you don't yet have an account on Genius.com, you'll be prompted to register first. \n",
    "\n",
    "The next questions don't really apply to our use in class, but they're required to get your token. You can enter any words you want in \"App Name.\" Similarly, you can enter any URL in the \"Icon URL,\" \"App Website URL,\" and \"Redirect URI\" fields.\n",
    "\n",
    "Then, you'll be able to click on the \"Generate Access Token\" link to generate your client access token. \n",
    "\n",
    "The token is just a string of letters and numbers. It'll look something like this:\n",
    "\n",
    "    6617c28c371f0a138f7912a35365564afe538605\n",
    "    \n",
    "That's your \"key\" for that API. Whenever you make a request to that API, you'll need to include your key in the request. The exact methodology for including the key will be explained below. (Note: the key above is just something I made up; it's not a valid key; don't try using it in actual requests.)\n",
    "\n",
    "### Looking at the documentation\n",
    "\n",
    "The documentation for a web API usually describes what the API can do in terms of the URLs you can access, the patterns that those URLs follow, and the format of the responses. If you click on \"[Resources->Search](https://docs.genius.com/#search-h2)\" on the documentation page, you see instructions for using the \"search\" function of the Genius API, for example.\n",
    "\n",
    "This is a little confusing when you first look at it, but it's telling you the following:\n",
    "\n",
    "* The \"GET /search\" line tells you that you should append \"/search\" to your URL path to make this request.\n",
    "* The information in the blush-gray box tells you the parameter options. There is only one for search: \"q\" (that notation is pretty standard), and it can accept any search term as a value.\n",
    "\n",
    "That's the only one we're going to use for now, so let's make a quick test request"
   ]
  },
  {
   "cell_type": "code",
   "execution_count": null,
   "metadata": {},
   "outputs": [],
   "source": [
    "import requests # requests again\n",
    "\n",
    "base_url = \"http://api.genius.com\" # this is the URL for the Genius API\n",
    "#Key line below here when, this is how to authorize your request when using the API\n",
    "headers = {'Authorization': 'Bearer TOKEN'} ## REPLACE TOKEN W/ ACTUAL TOKEN\n",
    "search_url = base_url + \"/search\" # remember, this is how you format the URL for a search, as described above\n",
    "song_title = \"Respect\" # We'll search for the first song title in our candidate playlist: Aretha Franklin's Respect \n",
    "params = {'q': song_title} # here's how you format the search parameter (see point two, above)\n",
    "\n",
    "# and here's the API call\n",
    "resp = requests.get(search_url, params=params, headers=headers)\n",
    "data = resp.json()\n",
    "data"
   ]
  },
  {
   "cell_type": "markdown",
   "metadata": {},
   "source": [
    "This request is finding all songs that include the search string `Respect`. As described in the [documentation](https://docs.genius.com/#/authentication-h1), the results take the form of a dictionary with two keys: `response` (which points to a ditionary of a list of dictionaries; phew!) and `meta`, whose value is a string (`'status'`), which gives you the HTML status code for the response (i.e. whether the request was successful). \n",
    "\n",
    "Let's take a look at the top level:"
   ]
  },
  {
   "cell_type": "code",
   "execution_count": null,
   "metadata": {},
   "outputs": [],
   "source": [
    "data.keys()"
   ]
  },
  {
   "cell_type": "markdown",
   "metadata": {},
   "source": [
    "From the output above, we already know that the response was successful. So we can ignore whatever is associated with the `meta` key. But let's dig a little deeper into the `response` key."
   ]
  },
  {
   "cell_type": "code",
   "execution_count": null,
   "metadata": {},
   "outputs": [],
   "source": [
    "data['response'].keys()"
   ]
  },
  {
   "cell_type": "markdown",
   "metadata": {},
   "source": [
    "So there is only one key, `hits`, which I will tell you comtains a list of dictionaries: one for each of the hits in the search result.\n",
    "\n",
    "Let's take a look at the first result:"
   ]
  },
  {
   "cell_type": "code",
   "execution_count": null,
   "metadata": {},
   "outputs": [],
   "source": [
    "data['response']['hits'][0]"
   ]
  },
  {
   "cell_type": "markdown",
   "metadata": {},
   "source": [
    "So this is what we want: the dictionary for each of the search results.\n",
    "\n",
    "But lo and behold, it contains additional levels of data. Of these, we're most interested in the `result` dictionary. \n",
    "\n",
    "Important items in this dictionary are the song title itself (`title`), the url for the song lyrucs (`url`) and the `primary artist` key, which points to *another* dictionary with the name of the artist (`name`). \n",
    "\n",
    "The artist name could be used with a different API endpoint to get more detail about a particular artist. But this information is enough for our purposes today.\n",
    "\n",
    "To get a sense of what we're looking at, let's get the full song title for each search hit:"
   ]
  },
  {
   "cell_type": "code",
   "execution_count": null,
   "metadata": {},
   "outputs": [],
   "source": [
    "# Remember list comprehension format: [ predicate expression FOR temporary variable name IN source list ]\n",
    "\n",
    "[song['result']['title'] for song in data['response']['hits']]"
   ]
  },
  {
   "cell_type": "markdown",
   "metadata": {},
   "source": [
    "**Exercise:** Using the syntax above, list the URLs for the lyrics of each of these songs"
   ]
  },
  {
   "cell_type": "code",
   "execution_count": null,
   "metadata": {},
   "outputs": [],
   "source": [
    "# delete before class\n",
    "[song['result']['url'] for song in data['response']['hits']]"
   ]
  },
  {
   "cell_type": "code",
   "execution_count": null,
   "metadata": {},
   "outputs": [],
   "source": []
  },
  {
   "cell_type": "code",
   "execution_count": null,
   "metadata": {},
   "outputs": [],
   "source": []
  },
  {
   "cell_type": "code",
   "execution_count": null,
   "metadata": {},
   "outputs": [],
   "source": []
  },
  {
   "cell_type": "markdown",
   "metadata": {},
   "source": [
    "**Exercise:** Adapting the syntax above, list the name of the artist for each of these songs.\n",
    "    \n",
    "Hint: Remember that `name` is contained with the dictionary `primary artist`"
   ]
  },
  {
   "cell_type": "code",
   "execution_count": null,
   "metadata": {},
   "outputs": [],
   "source": [
    "# delete before class\n",
    "[song['result']['primary_artist']['name'] for song in data['response']['hits']]"
   ]
  },
  {
   "cell_type": "code",
   "execution_count": null,
   "metadata": {},
   "outputs": [],
   "source": []
  },
  {
   "cell_type": "code",
   "execution_count": null,
   "metadata": {},
   "outputs": [],
   "source": []
  },
  {
   "cell_type": "markdown",
   "metadata": {},
   "source": [
    "### An aside about query strings\n",
    "\n",
    "So, one quick thing: what's with that `params` thing in the call to `requests.get()`? Well, it's there to make our lives easier. If you put `params=` into the arguments of the call to `requests.get()`, the library will take the dictionary that you passed and use it to form a query string. It does this so you don't have to figure out how to write the query string yourself.\n",
    "\n",
    "Let's review what a query string looks like. Here's the example query string from the section above about URL structure:\n",
    "\n",
    "    ?arg1=baz&arg2=quux\n",
    "    \n",
    "At first glance, it looks like garbage. For another perspective, let's look at the query string from the example request to the Genius API:\n",
    "\n",
    "    ?token=6617c28c371f0a138f7912a35365564afe538605&q=Respect\n",
    "    \n",
    "A little bit of the structure becomes more apparent here! It looks like we have a series of key/value, separated by ampersands (`&`): `token=6617c28c371f0a138f7912a35365564afe538605` and `q=Respect`. The pairs themselves are separated by equal signs (`=`).\n",
    "\n",
    "What we'd like to have, then, is some kind of way to write an expression that turns a Python dictionary into a string formatted correctly to include in a query string. It turns out that the process of doing this is [kind of tricky](http://en.wikipedia.org/wiki/Percent-encoding), so the `requests` library does the hard work for us when we pass the parameters to the `requests.get()` function with the named `params` parameter. Very handy!"
   ]
  },
  {
   "cell_type": "markdown",
   "metadata": {},
   "source": [
    "### Working with responses\n",
    "\n",
    "Now we've gotten a response from the API, and we've parsed it into a Python data structure that we know how to use (a dictionary). But now what do we do with it?\n",
    "\n",
    "Well, let's find the URL for the lyrics for Aretha Franklin's \"Respect,\" of course!\n",
    "\n",
    "Remember that we've already got song_title stored from way back up at the top: it's what we searched for:"
   ]
  },
  {
   "cell_type": "code",
   "execution_count": null,
   "metadata": {},
   "outputs": [],
   "source": [
    "song_title"
   ]
  },
  {
   "cell_type": "code",
   "execution_count": null,
   "metadata": {},
   "outputs": [],
   "source": [
    "artist=\"Aretha Franklin\" # you should already be thinking: how can I hook this up with the NYT article data...\n",
    "lyrics_url = \"\"\n",
    "\n",
    "# let's start by iterating through the songs..."
   ]
  },
  {
   "cell_type": "code",
   "execution_count": null,
   "metadata": {},
   "outputs": [],
   "source": []
  },
  {
   "cell_type": "code",
   "execution_count": null,
   "metadata": {},
   "outputs": [],
   "source": []
  },
  {
   "cell_type": "code",
   "execution_count": null,
   "metadata": {},
   "outputs": [],
   "source": []
  },
  {
   "cell_type": "markdown",
   "metadata": {},
   "source": [
    "We've got our URL!"
   ]
  },
  {
   "cell_type": "markdown",
   "metadata": {},
   "source": [
    "**If time:**\n",
    "\n",
    "Let's write some pseudocode that links together the output of the NYT web scraping exercise with the Genius API to get lyrics URLS for each of the songs in the candidate playlist. \n",
    "    "
   ]
  },
  {
   "cell_type": "code",
   "execution_count": null,
   "metadata": {},
   "outputs": [],
   "source": []
  }
 ],
 "metadata": {
  "kernelspec": {
   "display_name": "Python 3",
   "language": "python",
   "name": "python3"
  },
  "language_info": {
   "codemirror_mode": {
    "name": "ipython",
    "version": 3
   },
   "file_extension": ".py",
   "mimetype": "text/x-python",
   "name": "python",
   "nbconvert_exporter": "python",
   "pygments_lexer": "ipython3",
   "version": "3.7.2"
  }
 },
 "nbformat": 4,
 "nbformat_minor": 1
}
